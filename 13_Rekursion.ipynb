{
 "cells": [
  {
   "cell_type": "markdown",
   "metadata": {},
   "source": [
    "**Rekursive Algorithmen**\n",
    "\n",
    "Bei der rekursiven Programmierung ruft sich eine Prozedur, Funktion oder Methode in einem Computerprogramm selbst wieder auf. Wichtig bei der rekursiven Programmierung ist eine Abbruchbedingung in dieser Funktion, weil sich das rekursive Programm sonst theoretisch unendlich oft selbst aufrufen würde."
   ]
  },
  {
   "cell_type": "code",
   "execution_count": 3,
   "metadata": {},
   "outputs": [],
   "source": [
    "def fakultaet(n): #Rekursive Berechnung\n",
    "    if n==0:\n",
    "        ergebnis=1\n",
    "    else:\n",
    "        ergebnis=n*fakultaet(n-1)\n",
    "    return(ergebnis)\n",
    "    "
   ]
  },
  {
   "cell_type": "code",
   "execution_count": 1,
   "metadata": {},
   "outputs": [],
   "source": [
    "fakultaet(4)\n",
    "#fakultaet(40)\n",
    "#fakultaet(400)\n",
    "#fakultaet(4000)"
   ]
  },
  {
   "cell_type": "code",
   "execution_count": 8,
   "metadata": {},
   "outputs": [],
   "source": [
    "def fakultaet(n): #Iterative Berechnung\n",
    "    ergebnis=1\n",
    "    for i in range(n):\n",
    "        ergebnis*=(i+1)\n",
    "    return(ergebnis)"
   ]
  },
  {
   "cell_type": "code",
   "execution_count": 2,
   "metadata": {},
   "outputs": [],
   "source": [
    "fakultaet(4000)\n"
   ]
  },
  {
   "cell_type": "markdown",
   "metadata": {},
   "source": [
    "**Aufgabe**\n",
    "\n",
    "Definieren Sie eine rekursive Funktion, welche die Fibonacci-Zahlen \n",
    "\n",
    "$1,1,2,3,5,8,13,21,\\dots$\n",
    "\n",
    "berechnet"
   ]
  },
  {
   "cell_type": "code",
   "execution_count": 14,
   "metadata": {},
   "outputs": [],
   "source": [
    "\n",
    "            "
   ]
  },
  {
   "cell_type": "code",
   "execution_count": 4,
   "metadata": {},
   "outputs": [],
   "source": [
    "fibonacci(20)"
   ]
  },
  {
   "cell_type": "markdown",
   "metadata": {},
   "source": [
    "**Teile-und-Herrsche**\n",
    "\n",
    "Die Teile-und-Herrsche-Methode (engl. „divide and conquer“) ist ein algorithmisches\n",
    "Prinzip, bei dem ein Problem so lange in kleinere und einfachere Teilprobleme zerlegt\n",
    "wird („teile“), bis man diese einfach lösen („beherrschen“) kann. \n",
    "\n",
    "Der QuickSort Algorithmus ist ein Verfahren aus der Klasse der Teile-und-Herrsche Algorithmen.\n",
    "\n",
    "Bei der Teile-und-herrsche-Methode wird ausgenutzt, dass bei vielen Problemen der Lösungsaufwand\n",
    "sinkt, wenn man das Problem in kleinere Teilprobleme zerlegt. Dieses\n",
    "Prinzip lässt sich meist durch rekursive Programmierung umsetzen wie unten für QuickSort."
   ]
  },
  {
   "cell_type": "code",
   "execution_count": 18,
   "metadata": {},
   "outputs": [],
   "source": [
    "#Quicksort - Algorithmus\n",
    "\n",
    "def QuickSort(array):\n",
    "    elements = len(array)\n",
    "    \n",
    "    #Abbruchbedingung\n",
    "    if elements < 2:\n",
    "        return array\n",
    "    \n",
    "    pivot_position = 0 #Position des Pivot Elements - hier immer mit erstem Element starten\n",
    "    pivot=array[pivot_position]\n",
    "    print('Pivot %d\\n'%pivot)\n",
    "    \n",
    "    #Teilen des Problems durch Pivot Element\n",
    "    #immer durchführen, Abbruch nur durch else \n",
    "    while True: \n",
    "        unten=0\n",
    "        oben =elements-1\n",
    "        #von links nach rechts durch den Array gehen\n",
    "        while unten < pivot_position and array[unten] <= pivot:\n",
    "                unten = unten + 1\n",
    "                \n",
    "        #von rechts nach links durch den Array gehen\n",
    "        while pivot_position < oben and array[oben] >= pivot:\n",
    "                oben = oben - 1\n",
    "        #jetzt nachschauen, ob unten und oben gleich sind, also alles geordnet\n",
    "        if unten < oben:     \n",
    "        #Werte vertauschen\n",
    "                array[unten], array[oben] = array[oben], array[unten]\n",
    "                if unten == pivot_position:\n",
    "                    pivot_position=oben\n",
    "                elif oben == pivot_position:\n",
    "                    pivot_position=unten\n",
    "                pivot=array[pivot_position]   \n",
    "        else: #Abbruch für while True\n",
    "                break\n",
    "    \n",
    "    #geteiltes Problem\n",
    "    links=array[0:pivot_position]    \n",
    "    rechts=array[pivot_position+1:elements]\n",
    "    \n",
    "    print('Links')\n",
    "    print(links)\n",
    "    print('Rechts:')\n",
    "    print(rechts)\n",
    "    print('\\n')\n",
    "    \n",
    "    #Rekursive Lösung des geteilten Problems\n",
    "    left=QuickSort(links) #Elemente links von Pivot sortieren\n",
    "    right = QuickSort(rechts)#Elemente rechts von Pivot sortieren\n",
    "    \n",
    "    \n",
    "    array = left + [array[pivot_position]] + right #alles zusammensetzen\n",
    "    \n",
    "    return array"
   ]
  },
  {
   "cell_type": "code",
   "execution_count": 19,
   "metadata": {},
   "outputs": [
    {
     "name": "stdout",
     "output_type": "stream",
     "text": [
      "Pivot 5\n",
      "\n",
      "Links\n",
      "[4, 1, 3, 0, 2]\n",
      "Rechts:\n",
      "[7, 8, 9]\n",
      "\n",
      "\n",
      "Pivot 4\n",
      "\n",
      "Links\n",
      "[2, 1, 3, 0]\n",
      "Rechts:\n",
      "[]\n",
      "\n",
      "\n",
      "Pivot 2\n",
      "\n",
      "Links\n",
      "[0, 1]\n",
      "Rechts:\n",
      "[3]\n",
      "\n",
      "\n",
      "Pivot 0\n",
      "\n",
      "Links\n",
      "[]\n",
      "Rechts:\n",
      "[1]\n",
      "\n",
      "\n",
      "Pivot 7\n",
      "\n",
      "Links\n",
      "[]\n",
      "Rechts:\n",
      "[8, 9]\n",
      "\n",
      "\n",
      "Pivot 8\n",
      "\n",
      "Links\n",
      "[]\n",
      "Rechts:\n",
      "[9]\n",
      "\n",
      "\n",
      "[0, 1, 2, 3, 4, 5, 7, 8, 9]\n"
     ]
    }
   ],
   "source": [
    "array = [5,1,3,9,8,2,7,0,4]\n",
    " \n",
    "a=QuickSort(array)\n",
    "print(a)\n"
   ]
  },
  {
   "cell_type": "code",
   "execution_count": null,
   "metadata": {},
   "outputs": [],
   "source": []
  }
 ],
 "metadata": {
  "kernelspec": {
   "display_name": "Python 3 (ipykernel)",
   "language": "python",
   "name": "python3"
  },
  "language_info": {
   "codemirror_mode": {
    "name": "ipython",
    "version": 3
   },
   "file_extension": ".py",
   "mimetype": "text/x-python",
   "name": "python",
   "nbconvert_exporter": "python",
   "pygments_lexer": "ipython3",
   "version": "3.9.12"
  }
 },
 "nbformat": 4,
 "nbformat_minor": 4
}
