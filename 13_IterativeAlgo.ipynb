{
 "cells": [
  {
   "cell_type": "markdown",
   "metadata": {},
   "source": [
    "**Iterative Algorithmen**"
   ]
  },
  {
   "cell_type": "code",
   "execution_count": 1,
   "metadata": {},
   "outputs": [],
   "source": [
    "#Bubblesort\n",
    "def bubbleSort(array):\n",
    "    n = len(array)\n",
    "    vertauschung=True\n",
    "    while(vertauschung==True):\n",
    "    # Gehe durch alle Array Elemente\n",
    "        vertauschung=False\n",
    "        for i in range(n-1):\n",
    "            if array[i] > array[i + 1] :\n",
    "                array[i], array[i + 1] = array[i + 1], array[i]\n",
    "                vertauschung=True\n",
    "    \n",
    "  "
   ]
  },
  {
   "cell_type": "code",
   "execution_count": 2,
   "metadata": {},
   "outputs": [
    {
     "name": "stdout",
     "output_type": "stream",
     "text": [
      "[0, 1, 2, 4, 5, 7, 9]\n"
     ]
    }
   ],
   "source": [
    "array=[4,7,2,9,0,1,5]\n",
    "bubbleSort(array)\n",
    "print(array)"
   ]
  },
  {
   "cell_type": "code",
   "execution_count": null,
   "metadata": {},
   "outputs": [],
   "source": []
  }
 ],
 "metadata": {
  "kernelspec": {
   "display_name": "Python 3",
   "language": "python",
   "name": "python3"
  },
  "language_info": {
   "codemirror_mode": {
    "name": "ipython",
    "version": 3
   },
   "file_extension": ".py",
   "mimetype": "text/x-python",
   "name": "python",
   "nbconvert_exporter": "python",
   "pygments_lexer": "ipython3",
   "version": "3.8.5"
  }
 },
 "nbformat": 4,
 "nbformat_minor": 4
}
