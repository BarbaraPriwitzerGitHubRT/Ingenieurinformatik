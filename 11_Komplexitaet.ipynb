{
 "cells": [
  {
   "cell_type": "markdown",
   "metadata": {},
   "source": [
    "**Komplexität von Algorithmen**\n",
    "\n",
    "Laufzeit- und Speicherplatzbedarf von Algorithmen werden mit Hilfe der Landau Symbole beschrieben.\n",
    "\n",
    "Dabei wird in der Regel ein Worst-Case-Szenario betrachtet\n",
    "\n"
   ]
  },
  {
   "cell_type": "code",
   "execution_count": 25,
   "metadata": {},
   "outputs": [],
   "source": [
    "def insertionSort(array):\n",
    "    '''\n",
    "    Sortieren eines Arrays mit Zahlen nach der Größe:\n",
    "    Frage Dich durch die Schlange nach links und finde Deinen Platz\n",
    "    '''\n",
    "    n = len(array)\n",
    "    zaehler = 0 \n",
    "    for i in range(1, n):\n",
    "        #Suche Deinen Platz in dem Array\n",
    "         for j in range(i, 0, -1):\n",
    "            if array[j] < array[j-1]:\n",
    "                array[j-1], array[j] = array[j], array[j-1]\n",
    "                zaehler +=1 #zähle die Anzahl der Vertauschungen\n",
    "                print(array)#zur Kontrolle der einzelnen Schritte\n",
    "            else:\n",
    "                 break\n",
    "    return(array, zaehler)"
   ]
  },
  {
   "cell_type": "code",
   "execution_count": 26,
   "metadata": {},
   "outputs": [],
   "source": [
    "mySortedArray,k=insertionSort([15,8,2,13,7,11,5,3])\n",
    "print('Sortiertes Array:', mySortedArray)\n",
    "print('Anzahl Vertauschungen InsertionSort:', k)"
   ]
  },
  {
   "cell_type": "markdown",
   "metadata": {},
   "source": [
    "**Bubble Sort**\n",
    "\n",
    "Hier werden von links nach rechts Nachbarn getauscht, bis die direkten Nachbarn die korrekte Reihenfolge haben."
   ]
  },
  {
   "cell_type": "code",
   "execution_count": 21,
   "metadata": {},
   "outputs": [],
   "source": [
    "def bubbleSort(array):\n",
    "    '''\n",
    "    Sortieren eines Arrays mit Zahlen nach der Größe:\n",
    "    Frage Deine Nachbarn und tausche Plätze mit ihnen\n",
    "    '''\n",
    "    n = len(array)\n",
    "    zaehler = 0\n",
    "    \n",
    "    k=n-1\n",
    "    \n",
    "    while (k>0):\n",
    "        for i in range(n-1):\n",
    "            if array[i] > array[i+1]:\n",
    "                # Swap: Tausche mit Deinem Nachbarn\n",
    "                array[i], array[i+1] = array[i+1], array[i]\n",
    "                print(array)#zur Kontrolle der einzelnen Schritte\n",
    "                has_swapped = True\n",
    "                zaehler +=1 #zähle die Anzahl der Vertauschungen\n",
    "        k=k-1\n",
    "    return(array,zaehler)"
   ]
  },
  {
   "cell_type": "code",
   "execution_count": 23,
   "metadata": {},
   "outputs": [],
   "source": [
    "mySortedArray,k=bubbleSort([15,8,2,13,7,11,5,3])\n",
    "print('Sortiertes Array:', mySortedArray)\n",
    "print('Anzahl Vertauschungen BubbleSort:', k)"
   ]
  }
 ],
 "metadata": {
  "kernelspec": {
   "display_name": "Python 3",
   "language": "python",
   "name": "python3"
  },
  "language_info": {
   "codemirror_mode": {
    "name": "ipython",
    "version": 3
   },
   "file_extension": ".py",
   "mimetype": "text/x-python",
   "name": "python",
   "nbconvert_exporter": "python",
   "pygments_lexer": "ipython3",
   "version": "3.8.5"
  }
 },
 "nbformat": 4,
 "nbformat_minor": 4
}
