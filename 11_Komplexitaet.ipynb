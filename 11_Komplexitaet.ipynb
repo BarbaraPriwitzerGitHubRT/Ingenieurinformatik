{
 "cells": [
  {
   "cell_type": "markdown",
   "metadata": {},
   "source": [
    "**Komplexität von Algorithmen**\n",
    "\n",
    "Laufzeit- und Speicherplatzbedarf von Algorithmen werden mit Hilfe der Landau Symbole beschrieben.\n",
    "\n",
    "Dabei wird in der Regel ein Worst-Case-Szenario betrachtet\n",
    "\n"
   ]
  },
  {
   "cell_type": "code",
   "execution_count": 25,
   "metadata": {},
   "outputs": [],
   "source": [
    "def insertionSort(array):\n",
    "    '''\n",
    "    Sortieren eines Arrays mit Zahlen nach der Größe:\n",
    "    Frage Dich durch die Schlange und finde Deinen Platz\n",
    "    '''\n",
    "    n = len(array)\n",
    "    for i in range(1, n):\n",
    "        #Suche Deinen Platz in dem Array\n",
    "         for j in range(i, 0, -1):\n",
    "            if array[j] < array[j-1]:\n",
    "                array[j-1], array[j] = array[j], array[j-1]\n",
    "            else:\n",
    "                 break\n",
    "    return(array)"
   ]
  },
  {
   "cell_type": "code",
   "execution_count": 26,
   "metadata": {},
   "outputs": [],
   "source": [
    "mySortedArray=insertionSort([7,9,3,6,1,5])\n",
    "#print(mySortedArray)"
   ]
  },
  {
   "cell_type": "markdown",
   "metadata": {},
   "source": [
    "**Bubble Sort**\n",
    "\n",
    "Hier werden von links nach rechts Nachbarn getausch, bis die direkten Nachbarn die korrekte Reihenfolge haben."
   ]
  },
  {
   "cell_type": "code",
   "execution_count": 21,
   "metadata": {},
   "outputs": [],
   "source": [
    "def bubbleSort(array):\n",
    "    '''\n",
    "    Sortieren eines Arrays mit Zahlen nach der Größe:\n",
    "    Frage Deine Nachbarn und tausche Plätze mit ihnen\n",
    "    '''\n",
    "    n = len(array)\n",
    "    #Stop Kriterium: keine Vertauschungen mehr aufgetreten\n",
    "    has_swapped = True #Wert True, damit alles startet\n",
    "\n",
    "    while(has_swapped):\n",
    "        has_swapped = False #auf False setzen, damit whlie ggf. gestoppt wird\n",
    "        for i in range(n-1):\n",
    "            if array[i] > array[i+1]:\n",
    "                # Swap: Tausche mit Deinem Nachbarn\n",
    "                array[i], array[i+1] = array[i+1], array[i]\n",
    "                has_swapped = True \n",
    "                \n",
    "    return(array)"
   ]
  },
  {
   "cell_type": "code",
   "execution_count": 23,
   "metadata": {},
   "outputs": [],
   "source": [
    "mySortedArray=bubbleSort([7,9,3,6,1,5])\n",
    "#print(mySortedArray)"
   ]
  },
  {
   "cell_type": "code",
   "execution_count": null,
   "metadata": {},
   "outputs": [],
   "source": []
  }
 ],
 "metadata": {
  "kernelspec": {
   "display_name": "Python 3",
   "language": "python",
   "name": "python3"
  },
  "language_info": {
   "codemirror_mode": {
    "name": "ipython",
    "version": 3
   },
   "file_extension": ".py",
   "mimetype": "text/x-python",
   "name": "python",
   "nbconvert_exporter": "python",
   "pygments_lexer": "ipython3",
   "version": "3.8.5"
  }
 },
 "nbformat": 4,
 "nbformat_minor": 4
}
