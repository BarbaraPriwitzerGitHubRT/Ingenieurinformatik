{
 "cells": [
  {
   "cell_type": "markdown",
   "metadata": {},
   "source": [
    "**Graphik mit Python: Die Matplotlib Bibliothek**\n",
    "\n",
    "Die *pylab*-Schnittstelle ist  die zur Verfügung gestellte Menge an Funktionen, die es Nutzerinnen und Nutzern ermöglichen, Plots mit einem höhersprachigen Code zu erstellen."
   ]
  },
  {
   "cell_type": "code",
   "execution_count": 4,
   "metadata": {},
   "outputs": [],
   "source": [
    "import matplotlib.pyplot as plt\n",
    "plt.plot([-1, -4.5, 16, 23, 15, 9])\n",
    "plt.plot([-1, -4.5, 16, 23, 15, 9], 'orange')\n",
    "plt.plot([-1, -4.5, 16, 23, 15, 9], '*r')\n",
    "plt.show()"
   ]
  },
  {
   "cell_type": "markdown",
   "metadata": {},
   "source": [
    "Für den Titel von Graphiken, Bezeichnung der Achsen, Legenden usw. existieren jeweils eigene Befehle. "
   ]
  },
  {
   "cell_type": "code",
   "execution_count": 6,
   "metadata": {},
   "outputs": [],
   "source": [
    "days = list(range(1,9))\n",
    "celsius_min = [19.6, 24.1, 26.7, 28.3, 27.5, 30.5, 32.8, 33.1]\n",
    "celsius_max = [24.8, 28.9, 31.3, 33.0, 34.9, 35.6, 38.4, 39.2]\n",
    "plt.xlabel('Day') # Bezeichnung der x-Achse\n",
    "plt.ylabel('Degrees Celsius') # Bzeichnung der y-Achse\n",
    "plt.title('Temperature in August') # Titel\n",
    "plt.plot(days, celsius_min, 'k',days, celsius_min, \"oy\", days, celsius_max, \"or\")\n",
    "plt.legend(['Min.Temp','Min.Temp', 'Max.Temp'],loc='upper left') \n",
    "# Legende, in der Reihenfolge wie gezeichnet wurde\n",
    "\n",
    "xmin, xmax, ymin, ymax = 0, 10, 14, 45 \n",
    "plt.axis([xmin, xmax, ymin, ymax]) \n",
    "# Maximal und Minimalwerte für x- und y-Achse festlegen\n",
    "\n",
    "import numpy as np #numerical python\n",
    "plt.yticks(np.arange(15,45, step=5)) \n",
    "#festlegen, welche Teilstriche auf der y-Achse gekennzeichnet werden\n",
    "\n",
    "plt.show()"
   ]
  },
  {
   "cell_type": "markdown",
   "metadata": {},
   "source": [
    "**Graphen von Funktionen**\n",
    "\n",
    "Hier nutzen wir das Package *numpy* für Mathematik und Numerik.  Für Graphen von Funktionen wird zum einen der Definitionsbereich durch viele $x$-Werte repräsentiert. Dazu wir das Intervall $[a,b]$ mit Hilfe von *np.linspace(a,b,n)* in $n$ Punkte mit gleichem Abstand zerlegt. Der erste Punkt ist $a$, der letzte $b$. Ohne Angabe von $n$, also *np.linspace(a,b)* erzeugt Python 50 Punkte. Dann werden $y$-Werte durch die Anwendung von mathematischen Funktionen auf die $x$-Werte berechnet und das Ganze als Liniendiagramm mit *plt.plot(x,y)* dargestellt.\n"
   ]
  },
  {
   "cell_type": "code",
   "execution_count": 7,
   "metadata": {},
   "outputs": [],
   "source": [
    "import numpy as np\n",
    "import matplotlib.pyplot as plt\n",
    "\n",
    "X = np.linspace(-2 * np.pi, 2 * np.pi,100) #x-Werte\n",
    "\n",
    "# drei verschiedene Funktionen\n",
    "F1 = 3 * np.sin(X)\n",
    "F2 = np.sin(2*X)\n",
    "F3 = 0.3 * np.sin(X)\n",
    "\n",
    "startx, endx = -2 * np.pi - 0.1, 2*np.pi + 0.1\n",
    "starty, endy = -3.1, 3.1\n",
    "\n",
    "# alle Graphen in dasselbe Graphikfenster\n",
    "plt.axis([startx, endx, starty, endy])\n",
    "plt.plot(X,F1)\n",
    "plt.plot(X,F2)\n",
    "plt.plot(X,F3)\n",
    "plt.show()"
   ]
  },
  {
   "cell_type": "markdown",
   "metadata": {},
   "source": [
    "**Mehrere Diagramme in einem Graphikfenster**\n",
    "\n",
    "Das Graphikfenster (*figure*) in mehrere Diagrammflächen (*axes*) unterteilen. Unten sehen Sie, wie die verschiedenen Diagramme gezeichnet werden."
   ]
  },
  {
   "cell_type": "code",
   "execution_count": 8,
   "metadata": {},
   "outputs": [],
   "source": [
    "# Daten: Sinuskurve\n",
    "x = np.linspace(0, 2 * np.pi, 400)\n",
    "y = np.sin(x ** 2)\n",
    "\n",
    "# Zwei Diagramme übereinander - Variante 1\n",
    "fig, (ax1, ax2) = plt.subplots(2)\n",
    "fig.suptitle('Übereinandergestapelte Diagramme')\n",
    "ax1.plot(x, y)\n",
    "ax2.plot(x, -y)\n",
    "plt.show()\n",
    "\n"
   ]
  },
  {
   "cell_type": "code",
   "execution_count": 9,
   "metadata": {},
   "outputs": [],
   "source": [
    "# Zwei Diagramme übereinander - Variante 2\n",
    "fig, axs = plt.subplots(2)\n",
    "fig.suptitle('Übereinandergestapelte Diagramme')\n",
    "axs[0].plot(x, y)\n",
    "axs[1].plot(x, -y)\n",
    "plt.show()"
   ]
  },
  {
   "cell_type": "code",
   "execution_count": 10,
   "metadata": {},
   "outputs": [],
   "source": [
    "# Zwei Diagramme nebeneinander \n",
    "fig, (ax1, ax2) = plt.subplots(1, 2)\n",
    "fig.suptitle('Nebeneinandergestapelte Diagramme')\n",
    "ax1.plot(x, y)\n",
    "ax2.plot(x, -y)\n",
    "plt.show()"
   ]
  },
  {
   "cell_type": "code",
   "execution_count": 11,
   "metadata": {},
   "outputs": [],
   "source": [
    "#fig, axs = plt.subplots(2, 2)\n",
    "axs[0, 0].plot(x, y)\n",
    "axs[0, 0].set_title('Axis [0,0]')\n",
    "axs[0, 1].plot(x, y, 'tab:orange')\n",
    "axs[0, 1].set_title('Axis [0,1]')\n",
    "axs[1, 0].plot(x, -y, 'tab:green')\n",
    "axs[1, 0].set_title('Axis [1,0]')\n",
    "axs[1, 1].plot(x, -y, 'tab:red')\n",
    "axs[1, 1].set_title('Axis [1,1]')\n",
    "\n",
    "# Achsenbezeichnungen \n",
    "for ax in axs.flat:\n",
    "    ax.set(xlabel='x-label', ylabel='y-label')\n",
    "\n",
    "# Achsenbezeichnungen nur außen\n",
    "for ax in axs.flat:\n",
    "    ax.label_outer()\n",
    "    \n",
    "plt.show()"
   ]
  },
  {
   "cell_type": "markdown",
   "metadata": {},
   "source": [
    "**Farben und Linien**\n",
    "\n",
    "Python verfügt über Farbbezeichnungen durch Namen. RGB oder RGBA (Rot,Grün,Blau,$\\alpha$) werden als Tupel vonDezimalzahlen aus $[0, 1]$ angegeben:  (0.1, 0.2, 0.5) oder (0.1, 0.2, 0.5, 0.3).\n",
    "\n",
    "Grau-Werte sind durch eine Zahl aus $[0,1]$ im String-Format gekennzeichnet.\n",
    "\n",
    "Es gibt auch weitere Colormaps, die zusätzlich geladen werden können, z.B. *cmap = 'plasma'*.\n",
    "\n",
    "Linienart und Dicke können geändert werden.\n"
   ]
  },
  {
   "cell_type": "code",
   "execution_count": 12,
   "metadata": {},
   "outputs": [],
   "source": [
    "X = np.linspace(0, 2 * np.pi, 100)\n",
    "\n",
    "F1 = 3 * np.sin(X)\n",
    "F2 = np.sin(2*X)\n",
    "F3 = 0.3 * np.sin(X)\n",
    "F4 = np.cos(X)\n",
    "\n",
    "plt.plot(X, F1, color=\"blue\", linewidth=2.5, linestyle=\"-\",label='3sin(x)')\n",
    "plt.plot(X, F2, color=(0.8,0.5,0.8), linewidth=1.5, linestyle=\"--\",label='sin(2x)')\n",
    "plt.plot(X, F3, color=(0,0.5,0.9,0.4), linewidth=2, linestyle=\":\",label='0.3sin(x)')\n",
    "plt.plot(X, F4, color='0.75', linewidth=2, linestyle=\"-.\",label='cos(x)')\n",
    "\n",
    "plt.legend()\n",
    "plt.show()"
   ]
  },
  {
   "cell_type": "markdown",
   "metadata": {},
   "source": [
    "**Punktmarker**\n",
    "\n",
    "Punkte können mit verschiedenen Symbolen eingezeichnet werden. Sie kennen bereits *'o'*, wodurch ein gefüllter Punkt entsteht. Eine Liste der mögliche Punktmarker finden Sie unter https://matplotlib.org/3.1.1/api/markers_api.html.\n",
    "\n",
    "Auch die Größe der Punktmarker kann festgelegt werden."
   ]
  },
  {
   "cell_type": "code",
   "execution_count": 13,
   "metadata": {},
   "outputs": [],
   "source": [
    "from matplotlib.pyplot import cm # for colormaps\n",
    "import numpy as np\n",
    "import matplotlib.pyplot as plt\n",
    "\n",
    "\n",
    "color = cm.Dark2(np.linspace(0,1,50))\n",
    "\n",
    "X = np.linspace(0, 2 * np.pi, 10, endpoint=True)\n",
    "\n",
    "F1 = 3 * np.sin(X)\n",
    "F2 = np.sin(2*X)\n",
    "plt.plot(X, F1)#, 'ro', markersize=5)\n",
    "for i,c in zip(range(10),color):\n",
    "       plt.plot(X[i], F2[i], 'x',c=c)#,markersize=10)\n",
    "plt.show()"
   ]
  },
  {
   "cell_type": "markdown",
   "metadata": {},
   "source": [
    "**Aufgabe**\n",
    "\n",
    "Zeichnen Sie den Graphen der Funktion $t=g_a(s)=-\\frac{1}{2a}s^4+s^2+\\frac32 a$ mit Parameter $a>0$ für mindestens 6 verschiedene Werte von $a$ im Bereich von $[-a,a]$. Verwenden Sie eine Colormap (https://matplotlib.org/3.1.1/gallery/color/colormap_reference.html), um die Funktionsgraphen unterschiedlich zu färben. Ändern Sie Linienart und -dicke für jeden Graphen. Bewerkstelligen Sie diese Aufgabe mit Hilfe einer Schleife. Ergänzen Sie die Graphik durch Legende, Titel und Achsenbezeichnungen. Zeichnen Sie zusätzlich die Punkte $(\\sqrt{\\frac a3},\\frac{16}{9}a)$ und $(-\\sqrt{\\frac a3},\\frac{16}{9}a)$ durch auffallende Marker ein."
   ]
  },
  {
   "cell_type": "code",
   "execution_count": null,
   "metadata": {},
   "outputs": [],
   "source": []
  },
  {
   "cell_type": "markdown",
   "metadata": {},
   "source": [
    "**Flächen färben**\n",
    "\n",
    "Die Methode *fill\\_between(x,y1,y2)* hat drei Argumente, welche die Grenzen der auszufüllenden Fläche angeben: die $x$-Werte und $y$-Werte von zwei Kurven. Die Fläche dazwischen wird eingefärbt in der angegebenen Farbe."
   ]
  },
  {
   "cell_type": "code",
   "execution_count": null,
   "metadata": {},
   "outputs": [],
   "source": [
    "fig, (ax, ax1) = plt.subplots(1, 2)\n",
    "\n",
    "n = 100\n",
    "X = np.linspace(-np.pi,np.pi,n)\n",
    "Y = np.sin(2*X)\n",
    "\n",
    "\n",
    "ax.plot (X, Y, color=\"blue\", alpha=1.00)\n",
    "ax.fill_between(X, Y, 1, color=\"blue\", alpha=.1)\n",
    "F1 = 3 * np.sin(X)\n",
    "F2 = np.sin(2*X)\n",
    "ax1.plot(X, F1, color=\"blue\", linewidth=2.5, linestyle=\"-\")\n",
    "ax1.plot(X, F2, color=\"red\", linewidth=1.5, linestyle=\"--\")\n",
    "ax1.fill_between(X, F1, F2, color=\"blue\", alpha=.1)"
   ]
  },
  {
   "cell_type": "markdown",
   "metadata": {},
   "source": [
    "**Darstellung von Daten**\n",
    "\n",
    "Bei der Darstellung von Daten ist es wichtig, den Datentyp zu unterscheiden.\n",
    "\n",
    "- *Nominale Daten*: z.B. Name, Wohnort oder Studienfach. Die Häufigkeit nominaler Daten wird in der Regel durch ein Tortendiagramm, manchmal auch durch ein Stabdiagramm dargestellt.\n",
    "- *Ordinale Daten*: z.B. Schmerzausprägung (keine, mäßig, stark, sehr stark) oder Zensuren (sehr gut, gut, befriedigend, ausreichend, ungenügend). Die Häufigkeit ordinaler Daten wird in der Regel durch ein Stabdiagramm, manchmal auch durch ein Tortendiagramm dargestellt.\n",
    "- *Diskrete Daten*: z.B. Anzahl Geschwister, Fachsemester. Die Häufigkeit diskreter Daten wird genau wie die ordinaler Daten in der Regel durch ein Balkendiagramm, manchmal auch durch ein Tortendiagramm dargestellt.\n",
    "- *Kontinuierliche Daten*: z.B. Körpergröße, Temperatur. Kontinuierliche Daten werden in Klassen eingeteilt und die Klassenhäufigkeit wird durch ein Histogramm dargestellt. \n"
   ]
  },
  {
   "cell_type": "code",
   "execution_count": 14,
   "metadata": {},
   "outputs": [],
   "source": [
    "#Tortendiagramm\n",
    "mylabels = 'Äpfel', 'Birnen', 'Bananen', 'Trauben' \n",
    "#nominale Bezeichnungen\n",
    "sizes = [15, 30, 45, 10] # Häufigkeit von 100\n",
    "myexplode = (0, 0.1, 0, 0)  # \"explodiere\" das zweite Tortenstück\n",
    "\n",
    "fig, ax = plt.subplots()\n",
    "ax.pie(sizes, explode=myexplode, labels=mylabels,  startangle=45)\n",
    "ax.axis('equal')  \n",
    "# 'equal'  damit tatsächlich ein Kreis entsteht"
   ]
  },
  {
   "cell_type": "code",
   "execution_count": 15,
   "metadata": {},
   "outputs": [],
   "source": [
    "#Stabdiagramm\n",
    "import numpy as np\n",
    "hfgkt = [3, 12, 45, 18, 5] #Häufigkeit\n",
    "labels = ('sehr gut', 'gut', 'befriedigend',\n",
    " 'ausreichend', 'ungenügend') #Bezeichnungen\n",
    "x = np.arange(len(labels)) #Anzahl x-Werte\n",
    "plt.figure()\n",
    "\n",
    "plt.bar(x,hfgkt,color=(0.5, 0, 0.2, 0.2),  edgecolor='blue') #Balkendiagramm\n",
    "\n",
    "plt.xticks(x,labels,rotation=60) #Bezeichnungen x-Werte, Drehung aus der Waagrechten um 60°\n"
   ]
  },
  {
   "cell_type": "code",
   "execution_count": 16,
   "metadata": {},
   "outputs": [],
   "source": [
    "#Stabdiagramm\n",
    "from matplotlib import colors as mcolors\n",
    "colors = dict(mcolors.BASE_COLORS, **mcolors.CSS4_COLORS) #für mehr Farben\n",
    "\n",
    "\n",
    "hfgkt = [50,110,34,15,6] #Häufigkeit\n",
    "labels=['0','1','2','3','4 oder mehr'] #Bezeichnungen\n",
    "plt.figure() \n",
    "plt.barh(labels, hfgkt,color=['gold', 'darkorange', 'orangered', 'crimson', 'purple'] )  #horizontales Balkendiagramm\n",
    "plt.title('Anzahl Geschwister')"
   ]
  },
  {
   "cell_type": "code",
   "execution_count": 17,
   "metadata": {},
   "outputs": [],
   "source": [
    "#Histogramm\n",
    "mu = 100  # Mittelwert\n",
    "sigma = 15  # Standardabweichung\n",
    "x = mu + sigma * np.random.randn(500) \n",
    "#500 zufällig erzeugte Werte\n",
    "num_bins = 15 #Anzahl Klassen\n",
    "\n",
    "fig, ax = plt.subplots()\n",
    " \n",
    "ax.hist(x, num_bins,color='green',alpha=0.5) #Histogramm\n",
    "ax.set_xlabel('IQ')\n",
    "ax.set_ylabel('Häufigkeit')\n",
    "ax.set_title(r'Histogramm für IQ: $\\mu=100$, $\\sigma=15$')"
   ]
  }
 ],
 "metadata": {
  "kernelspec": {
   "display_name": "Python 3",
   "language": "python",
   "name": "python3"
  },
  "language_info": {
   "codemirror_mode": {
    "name": "ipython",
    "version": 3
   },
   "file_extension": ".py",
   "mimetype": "text/x-python",
   "name": "python",
   "nbconvert_exporter": "python",
   "pygments_lexer": "ipython3",
   "version": "3.8.5"
  }
 },
 "nbformat": 4,
 "nbformat_minor": 2
}
