{
 "cells": [
  {
   "cell_type": "markdown",
   "metadata": {},
   "source": [
    "**Getter- und Setter-Methoden**\n",
    "\n",
    "Der Zugriff von außen auf eine Instanzvariable ist durch eine\n",
    "Methode möglich, die Auskunft über den aktuellen Wert de Variable gibt, die\n",
    "sogenannte Getter-Methode. Für jede Variable der Klasse wird eine solche Methode\n",
    "erstellt, die als Ergebnis den Wert der betreffenden Variablen bzw. das Attribut\n",
    "zurückliefert."
   ]
  },
  {
   "cell_type": "code",
   "execution_count": 1,
   "metadata": {},
   "outputs": [],
   "source": [
    "class Person:\n",
    "    \n",
    "    #Konstruktor\n",
    "    def __init__(self,vorname,name):\n",
    "        self.__name = name\n",
    "        self.__vorname = vorname\n",
    "        \n",
    "    #Getter Methoden\n",
    "    def getName(self):\n",
    "        return self.__name\n",
    "    \n",
    "    def getVorame(self):\n",
    "        return self.__vorname"
   ]
  },
  {
   "cell_type": "code",
   "execution_count": 2,
   "metadata": {},
   "outputs": [
    {
     "data": {
      "text/plain": [
       "'Lisa'"
      ]
     },
     "execution_count": 2,
     "metadata": {},
     "output_type": "execute_result"
    }
   ],
   "source": [
    "p=Person('Lisa','Stein')\n",
    "p.getName()\n",
    "p.getVorame()"
   ]
  },
  {
   "cell_type": "markdown",
   "metadata": {},
   "source": [
    "Methoden zum Zuweisen von neuen Werten für einzelne Attribute heißen Setter-\n",
    "Methoden.\n",
    "\n",
    "Beachten Sie, dass es stattdessen auch möglich wäre, die Instanzvariable als *public* oder *protected* zu wählen. Die Setter-Methode  bietet aber den\n",
    "Vorteil einer einheitlichen Benutzerschnittstelle und schützt vor ungewollten Änderungen. In dieser Schnittstelle kann auch geprüft werden,\n",
    "ob die Änderung des Attributwertes zulässig ist. \n"
   ]
  },
  {
   "cell_type": "code",
   "execution_count": 7,
   "metadata": {},
   "outputs": [],
   "source": [
    "class Person:\n",
    "    \n",
    "    #Konstruktor\n",
    "    def __init__(self,vorname,name,plz):\n",
    "        self.__name = name\n",
    "        self.__vorname = vorname\n",
    "        if(plz>0) and (plz<=99999):\n",
    "            self.__plz=plz\n",
    "        else:\n",
    "            print('Falscher Postleitzahlwert')\n",
    "            \n",
    "            \n",
    "        \n",
    "    #Setter Methode\n",
    "    def setPlz(self,neuePlz):\n",
    "        if(neuePlz>0) and (neuePlz<=99999):\n",
    "            self.__plz=neuePlz\n",
    "            \n",
    "   #Getter Methoden\n",
    "    def getPlz(self):\n",
    "        return self.__plz"
   ]
  },
  {
   "cell_type": "code",
   "execution_count": 8,
   "metadata": {},
   "outputs": [
    {
     "data": {
      "text/plain": [
       "1001"
      ]
     },
     "execution_count": 8,
     "metadata": {},
     "output_type": "execute_result"
    }
   ],
   "source": [
    "p=Person('Lisa','Stein',70101)\n",
    "p.getPlz()\n",
    "p.setPlz(1001)\n",
    "p.getPlz()"
   ]
  },
  {
   "cell_type": "markdown",
   "metadata": {},
   "source": [
    "**Überladen von Operatoren**\n",
    "\n",
    " Operatoren können in Python mehrere Bedeutungen\n",
    "haben. So kann man Zahlen, aber auch Arrays oder Zeichenketten addieren.\n",
    "\n",
    "Offensichtlich \"weiß\" der Operator $+$, was er ausführen soll, abhängig von dem Typ der Operanden.\n",
    "\n",
    "Wir zeigen hier zunächst eine objektorientierte Lösung  für die Addition von Vektoren und anschließend wird an diesem Beispiel das sogenannte Überladen von Operatoren demonstriert.\n"
   ]
  },
  {
   "cell_type": "code",
   "execution_count": 11,
   "metadata": {},
   "outputs": [],
   "source": [
    "class Vektor(object):\n",
    "    def __init__(self,x=0,y=0): \n",
    "        self.x = x\n",
    "        self.y = y\n",
    "    def addiere(self,other):\n",
    "        x = self.x + other.x \n",
    "        y = self.y + other.y\n",
    "        return Vektor(x,y)\n",
    "    def ausgabe(self):\n",
    "        print(\"(\",self.x,\",\",self.y,\")\") "
   ]
  },
  {
   "cell_type": "code",
   "execution_count": 13,
   "metadata": {},
   "outputs": [
    {
     "name": "stdout",
     "output_type": "stream",
     "text": [
      "( 4 , 3 )\n"
     ]
    }
   ],
   "source": [
    "v1 = Vektor(1,5) \n",
    "v2 = Vektor(3,-2) \n",
    "v3 = v1.addiere(v2) \n",
    "v3.ausgabe() "
   ]
  },
  {
   "cell_type": "markdown",
   "metadata": {},
   "source": [
    "Es wäre allerdings effizienter und natürlicher, wenn wir schreiben könnten:\n",
    "    \n",
    " *v3 = v1 + v2* \n",
    " \n",
    " Wenn wir das ausprobieren, gibt Python eine Fehlermeldung zurück, denn zwischen\n",
    "Objekten der Klasse Vektor ist zunächst kein Additionsoperator definiert. Mithilfe des\n",
    "Überladens von Operatoren  lässt sich das ändern. Dazu gibt es noch weitere vordefinierte Methoden\n",
    "in Python neben Kontruktor und Destruktor.\n",
    "\n",
    "Zur Definition der Vektoraddition mit $+$ nutzen wird die vordefinierte Methode \\_\\_add\\_\\_\n",
    "\n"
   ]
  },
  {
   "cell_type": "code",
   "execution_count": 18,
   "metadata": {},
   "outputs": [],
   "source": [
    "class Vektor(object):\n",
    "    def __init__(self,x=0,y=0): \n",
    "        self.x = x\n",
    "        self.y = y\n",
    "    def __add__(self,other):\n",
    "        x = self.x + other.x \n",
    "        y = self.y + other.y\n",
    "        return Vektor(x,y)\n",
    "    def ausgabe(self):\n",
    "        print(\"(\",self.x,\",\",self.y,\")\") "
   ]
  },
  {
   "cell_type": "code",
   "execution_count": 19,
   "metadata": {},
   "outputs": [
    {
     "name": "stdout",
     "output_type": "stream",
     "text": [
      "( 4 , 3 )\n"
     ]
    }
   ],
   "source": [
    "v1 = Vektor(1,5) \n",
    "v2 = Vektor(3,-2)\n",
    "v3=v1+v2\n",
    "v3.ausgabe()"
   ]
  },
  {
   "cell_type": "markdown",
   "metadata": {},
   "source": [
    "**Vererbung**\n",
    "\n",
    " Bei der Vererbung übernimmt eine Klasse die Attribute und die Methoden\n",
    "einer anderen Klasse. \n"
   ]
  },
  {
   "cell_type": "code",
   "execution_count": 20,
   "metadata": {},
   "outputs": [],
   "source": [
    "class Person:\n",
    "    \n",
    "\n",
    "    def __init__(self, vorname, nachname, geburtsdatum):\n",
    "        self._vorname = vorname\n",
    "        self._nachname = nachname\n",
    "        self._geburtsdatum = geburtsdatum\n",
    "        \n",
    "    def __str__(self):\n",
    "\n",
    "        ret = self._vorname + \" \" + self._nachname\n",
    "        ret += \", \" + self._geburtsdatum\n",
    "        return  ret\n",
    "    \n",
    "    def getPerson(self):\n",
    "        return self._nachname+\" \" +self._vorname\n",
    "    \n",
    "class Angestellter(Person):\n",
    "    \n",
    "\n",
    "    def __init__(self, vorname, nachname, geburtsdatum, personalnummer):\n",
    "        Person.__init__(self, vorname, nachname, geburtsdatum)\n",
    "        # alternativ:\n",
    "        #super().__init__(vorname, nachname, geburtsdatum)\n",
    "        self.__personalnummer = personalnummer\n",
    "        \n",
    "    def __str__(self):\n",
    "        #return super().__str__() + \" \" + self.__personalnummer\n",
    "        return Person.__str__(self) + \" \" + self.__personalnummer"
   ]
  },
  {
   "cell_type": "code",
   "execution_count": 21,
   "metadata": {},
   "outputs": [
    {
     "data": {
      "text/plain": [
       "'Simpson Homer'"
      ]
     },
     "execution_count": 21,
     "metadata": {},
     "output_type": "execute_result"
    }
   ],
   "source": [
    "x = Angestellter(\"Homer\", \"Simpson\", \"09.08.1969\", \"007\")\n",
    "x.getPerson()"
   ]
  },
  {
   "cell_type": "markdown",
   "metadata": {},
   "source": [
    "**Überschreiben**\n",
    "\n",
    "Mittels Vererbung können Klassen die Eigenschaften und Verhaltensweisen der Basisklasse übernehmen,\n",
    "ohne alles neu definieren zu müssen.\n",
    "Die Methoden der Basisklasse können von der abgeleiteten Klasse überschrieben werden, indem die abgeleitete\n",
    "Klasse die zu überschreibende Methode  erneut definiert. Damit entsteht\n",
    "in Basis- und Kindklasse unterschiedliches Verhalten, die öffentliche Struktur bleibt gleich.\n",
    "Überschriebene Methoden aus der Basisklasse und jede beliebige andere Methode aus der Basisklasse können\n",
    "aus der abgeleiteten Klasse heraus mit ihrem Namen angesprochen werden.\n",
    "\n",
    "In Python ist das Schlüsselwort *super()* hilfreich, mit dem angegeben werden kann, wie die übergeordnete Methode überschrieben wird."
   ]
  },
  {
   "cell_type": "code",
   "execution_count": 23,
   "metadata": {},
   "outputs": [],
   "source": [
    "class Fahrzeug:\n",
    "    def __init__(self, marke, hubraum, leistung):\n",
    "        self.marke = marke\n",
    "        self.hubraum = hubraum\n",
    "        self.leistung = leistung\n",
    "\n",
    "    def get_infos(self):\n",
    "        return \"Marke: \" + self.marke + \", Hubraum: \" +   str(self.hubraum) + \", Leistung: \" + str(self.leistung)\n",
    "\n",
    "class Personenwagen(Fahrzeug):\n",
    "    def __init__(self, marke, hubraum, leistung, anz_plaetze):\n",
    "        super().__init__(marke, hubraum, leistung)\n",
    "        self.anz_plaetze = anz_plaetze\n",
    "    \n",
    "    def get_infos(self):\n",
    "        return super().get_infos() + \", Anzahl Plaetze: \" + str(self.anz_plaetze)\n",
    "    \n",
    "class Lastwagen(Fahrzeug):\n",
    "    def __init__(self, marke, hubraum, leistung, last):\n",
    "        super().__init__(marke, hubraum, leistung)\n",
    "        self.last = last\n",
    "\n",
    "    def get_infos(self):\n",
    "        return super().get_infos() + \", Lastgewicht: \" + str(self.last)"
   ]
  },
  {
   "cell_type": "code",
   "execution_count": 24,
   "metadata": {},
   "outputs": [
    {
     "data": {
      "text/plain": [
       "'Marke: Mercedes, Hubraum: 5000, Leistung: 300, Lastgewicht: 2000'"
      ]
     },
     "execution_count": 24,
     "metadata": {},
     "output_type": "execute_result"
    }
   ],
   "source": [
    "pw = Personenwagen(\"Opel\", 222, 100, 5)\n",
    "pw.get_infos()\n",
    "lkw = Lastwagen(\"Mercedes\", 5000, 300, 2000)\n",
    "lkw.get_infos()"
   ]
  },
  {
   "cell_type": "code",
   "execution_count": null,
   "metadata": {},
   "outputs": [],
   "source": []
  }
 ],
 "metadata": {
  "kernelspec": {
   "display_name": "Python 3",
   "language": "python",
   "name": "python3"
  },
  "language_info": {
   "codemirror_mode": {
    "name": "ipython",
    "version": 3
   },
   "file_extension": ".py",
   "mimetype": "text/x-python",
   "name": "python",
   "nbconvert_exporter": "python",
   "pygments_lexer": "ipython3",
   "version": "3.7.4"
  }
 },
 "nbformat": 4,
 "nbformat_minor": 2
}
