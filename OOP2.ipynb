{
 "cells": [
  {
   "cell_type": "markdown",
   "metadata": {},
   "source": [
    "**Getter- und Setter-Methoden**\n",
    "\n",
    "Der Zugriff von außen auf eine Instanzvariable ist durch eine\n",
    "Methode möglich, die Auskunft über den aktuellen Wert der Variable gibt, die\n",
    "sogenannte Getter-Methode. Für jede Variable der Klasse wird eine solche Methode\n",
    "erstellt, die als Ergebnis den Wert der betreffenden Variablen bzw. das Attribut\n",
    "zurückliefert."
   ]
  },
  {
   "cell_type": "code",
   "execution_count": 1,
   "metadata": {},
   "outputs": [],
   "source": [
    "class Person:\n",
    "    \n",
    "    #Konstruktor\n",
    "    def __init__(self,vorname,name):\n",
    "        self.__name = name\n",
    "        self.__vorname = vorname\n",
    "        \n",
    "    #Getter Methoden\n",
    "    def getName(self):\n",
    "        return self.__name\n",
    "    \n",
    "    def getVorame(self):\n",
    "        return self.__vorname"
   ]
  },
  {
   "cell_type": "code",
   "execution_count": 7,
   "metadata": {},
   "outputs": [
    {
     "data": {
      "text/plain": [
       "'Stein'"
      ]
     },
     "execution_count": 7,
     "metadata": {},
     "output_type": "execute_result"
    }
   ],
   "source": [
    "p=Person('Lisa','Stein')\n",
    "a=p.getName()\n",
    "b=p.getVorame()\n",
    "p.getName()"
   ]
  },
  {
   "cell_type": "markdown",
   "metadata": {},
   "source": [
    "Methoden zum Zuweisen von neuen Werten für einzelne Attribute heißen Setter-\n",
    "Methoden.\n",
    "\n",
    "Beachten Sie, dass es stattdessen auch möglich wäre, die Instanzvariable als *public* oder *protected* zu wählen. Die Setter-Methode  bietet aber den\n",
    "Vorteil einer einheitlichen Benutzerschnittstelle und schützt vor ungewollten Änderungen. In dieser Schnittstelle kann auch geprüft werden,\n",
    "ob die Änderung des Attributwertes zulässig ist. \n"
   ]
  },
  {
   "cell_type": "code",
   "execution_count": 11,
   "metadata": {},
   "outputs": [],
   "source": [
    "#mit Setter Methode\n",
    "class Person:\n",
    "    \n",
    "    #Konstruktor\n",
    "    def __init__(self,vorname,name):\n",
    "        self.__name = name\n",
    "        self.__vorname = vorname                      \n",
    "    \n",
    "    #Setter Methode\n",
    "    def setPlz(self,Plz):\n",
    "        if(Plz>1000) and (Plz<=99999):\n",
    "            self.__plz=Plz\n",
    "        else:\n",
    "            print('Falscher Postleitzahlwert')\n",
    "            \n",
    "   #Getter Methode\n",
    "    def getPlz(self):\n",
    "        return self.__plz"
   ]
  },
  {
   "cell_type": "code",
   "execution_count": 17,
   "metadata": {},
   "outputs": [
    {
     "data": {
      "text/plain": [
       "'Müller'"
      ]
     },
     "execution_count": 17,
     "metadata": {},
     "output_type": "execute_result"
    }
   ],
   "source": [
    "p=Person('Lisa','Stein')# Instanz wird angelegt;\n",
    "p.setPlz(10000)\n",
    "\n",
    "\n",
    "# für die Instanz wird aber keine PLZ gesetzt\n",
    "p.getPlz()\n",
    "\n",
    "# so kann auf private Instanzvariable zugegriffen werden\n",
    "p._Person__name='Müller'\n",
    "p._Person__name"
   ]
  },
  {
   "cell_type": "code",
   "execution_count": 18,
   "metadata": {},
   "outputs": [],
   "source": [
    "#alternativ: Kontrolle im Konstruktor\n",
    "\n",
    "class Person:\n",
    "    \n",
    "    #Konstruktor\n",
    "    def __init__(self,vorname,name,plz):\n",
    "        self.__name = name\n",
    "        self.__vorname = vorname\n",
    "        if(plz>1000) and (plz<=99999):\n",
    "            self._plz=plz\n",
    "        else:\n",
    "            print('Falscher Postleitzahlwert')\n",
    "            \n",
    "   #Getter Methoden\n",
    "    def getPlz(self):\n",
    "        return self._plz"
   ]
  },
  {
   "cell_type": "code",
   "execution_count": 21,
   "metadata": {},
   "outputs": [
    {
     "name": "stdout",
     "output_type": "stream",
     "text": [
      "Falscher Postleitzahlwert\n"
     ]
    },
    {
     "data": {
      "text/plain": [
       "'Stein'"
      ]
     },
     "execution_count": 21,
     "metadata": {},
     "output_type": "execute_result"
    }
   ],
   "source": [
    "p1=Person('Lisa','Stein',100)\n",
    "#p1.getPlz()\n",
    "p1._Person__name"
   ]
  },
  {
   "cell_type": "markdown",
   "metadata": {},
   "source": [
    "**Vererbung**\n",
    "\n",
    " Bei der Vererbung übernimmt eine Klasse die Attribute und die Methoden\n",
    "einer anderen Klasse. \n"
   ]
  },
  {
   "cell_type": "code",
   "execution_count": 33,
   "metadata": {},
   "outputs": [],
   "source": [
    "class Person:\n",
    "    \n",
    "\n",
    "    def __init__(self, vorname, nachname, geburtsdatum):\n",
    "        self._vorname = vorname\n",
    "        self._nachname = nachname\n",
    "        self._geburtsdatum = geburtsdatum\n",
    "        \n",
    "    def __str__(self):\n",
    "\n",
    "        ret = self._vorname + \" \" + self._nachname\n",
    "        ret += \", \" + self._geburtsdatum\n",
    "        return  ret\n",
    "    \n",
    "    def getPerson(self):\n",
    "        return self._nachname+\" \" +self._vorname\n",
    "    \n",
    "class Angestellter(Person):\n",
    "    \n",
    "\n",
    "    def __init__(self, vorname, nachname, geburtsdatum, personalnummer):\n",
    "        Person.__init__(self, vorname, nachname, geburtsdatum)\n",
    "        # alternativ:\n",
    "        #super().__init__(vorname, nachname, geburtsdatum)\n",
    "        self.__personalnummer = personalnummer\n",
    "        \n",
    "    def getPerson(self):\n",
    "        #return super().getPerson() + \" \" + self.__personalnummer\n",
    "        return self._nachname+\" \" +self._vorname + \" \" + self.__personalnummer"
   ]
  },
  {
   "cell_type": "code",
   "execution_count": 34,
   "metadata": {},
   "outputs": [
    {
     "data": {
      "text/plain": [
       "'Simpson Homer 007'"
      ]
     },
     "execution_count": 34,
     "metadata": {},
     "output_type": "execute_result"
    }
   ],
   "source": [
    "x = Angestellter(\"Homer\", \"Simpson\", \"09.08.1969\", \"007\")\n",
    "x.getPerson() #vererbte Methode\n",
    "\n"
   ]
  },
  {
   "cell_type": "markdown",
   "metadata": {},
   "source": [
    "**Überschreiben**\n",
    "\n",
    "Mittels Vererbung können Klassen die Eigenschaften und Verhaltensweisen der Basisklasse übernehmen,\n",
    "ohne alles neu definieren zu müssen.\n",
    "Die Methoden der Basisklasse können von der abgeleiteten Klasse überschrieben werden, indem die abgeleitete\n",
    "Klasse die zu überschreibende Methode  erneut definiert. Damit entsteht\n",
    "in Basis- und Kindklasse unterschiedliches Verhalten, die öffentliche Struktur bleibt gleich.\n",
    "Überschriebene Methoden aus der Basisklasse und jede beliebige andere Methode aus der Basisklasse können\n",
    "aus der abgeleiteten Klasse heraus mit ihrem Namen angesprochen werden.\n",
    "\n",
    "In Python ist das Schlüsselwort *super()* hilfreich, mit dem angegeben werden kann, wie die übergeordnete Methode überschrieben wird."
   ]
  },
  {
   "cell_type": "code",
   "execution_count": 23,
   "metadata": {},
   "outputs": [],
   "source": [
    "class Fahrzeug:\n",
    "    def __init__(self, marke, hubraum, leistung):\n",
    "        self.marke = marke\n",
    "        self.hubraum = hubraum\n",
    "        self.leistung = leistung\n",
    "\n",
    "    def get_infos(self):\n",
    "        return \"Marke: \" + self.marke + \", Hubraum: \" +   str(self.hubraum) + \", Leistung: \" + str(self.leistung)\n",
    "\n",
    "class Personenwagen(Fahrzeug):\n",
    "    def __init__(self, marke, hubraum, leistung, anz_plaetze):\n",
    "        super().__init__(marke, hubraum, leistung)\n",
    "        self.anz_plaetze = anz_plaetze\n",
    "    \n",
    "    def get_infos(self):\n",
    "        return super().get_infos() + \", Anzahl Plaetze: \" + str(self.anz_plaetze)\n",
    "    \n",
    "class Lastwagen(Fahrzeug):\n",
    "    def __init__(self, marke, hubraum, leistung, last):\n",
    "        super().__init__(marke, hubraum, leistung)\n",
    "        self.last = last\n",
    "\n",
    "    def get_infos(self):\n",
    "        return super().get_infos() + \", Lastgewicht: \" + str(self.last)"
   ]
  },
  {
   "cell_type": "code",
   "execution_count": 24,
   "metadata": {},
   "outputs": [
    {
     "data": {
      "text/plain": [
       "'Marke: Mercedes, Hubraum: 5000, Leistung: 300, Lastgewicht: 2000'"
      ]
     },
     "execution_count": 24,
     "metadata": {},
     "output_type": "execute_result"
    }
   ],
   "source": [
    "pw = Personenwagen(\"Opel\", 222, 100, 5)\n",
    "pw.get_infos()\n",
    "lkw = Lastwagen(\"Mercedes\", 5000, 300, 2000)\n",
    "lkw.get_infos() #überschriebene Methode"
   ]
  }
 ],
 "metadata": {
  "kernelspec": {
   "display_name": "Python 3",
   "language": "python",
   "name": "python3"
  },
  "language_info": {
   "codemirror_mode": {
    "name": "ipython",
    "version": 3
   },
   "file_extension": ".py",
   "mimetype": "text/x-python",
   "name": "python",
   "nbconvert_exporter": "python",
   "pygments_lexer": "ipython3",
   "version": "3.7.4"
  }
 },
 "nbformat": 4,
 "nbformat_minor": 2
}
