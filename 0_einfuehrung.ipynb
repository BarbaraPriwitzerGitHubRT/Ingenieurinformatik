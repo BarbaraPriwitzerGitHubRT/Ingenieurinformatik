{
 "cells": [
  {
   "cell_type": "markdown",
   "metadata": {},
   "source": [
    "Für die Grundrechenarten verwendet Python folgende Symbole:\n",
    "\n",
    "|Symbol|Operation|\n",
    "|--------|--------|\n",
    "|    +    |    Addition    |\n",
    "|    -    |    Subtraktion    |\n",
    "|    *    |    Multiplikation    |\n",
    "|    /    |    Division    |\n",
    "|    * *   |    Potenz   |\n",
    "\n",
    "Berechnen Sie Folgendes:\n",
    "\n",
    " - $3\\cdot 4$;\n",
    " - $\\frac{12}{7}$;\n",
    " - $\\frac{(1+2)}{3}$;\n",
    " - $3+2\\cdot 4$;\n",
    " - $2^3$;\n",
    " - $\\frac{2}{\\frac54}$.\n",
    "\n"
   ]
  },
  {
   "cell_type": "code",
   "execution_count": 4,
   "metadata": {},
   "outputs": [
    {
     "data": {
      "text/plain": [
       "49"
      ]
     },
     "execution_count": 4,
     "metadata": {},
     "output_type": "execute_result"
    }
   ],
   "source": [
    "#Geben Sie hier Python-Code ein. \n",
    "#Wenn Sie im Menü auf den Pfeil Run klicken, wird der Code ausgführt.\n",
    "\n",
    "#z.B.\n",
    "1/3\n",
    "4*5\n",
    "7**2"
   ]
  },
  {
   "cell_type": "markdown",
   "metadata": {},
   "source": [
    "Der jeweils letzte Ausgabewert wird vom Interpreter in einer speziellen Variablen automatisch gespeichert. Der Name der Variable ist _."
   ]
  },
  {
   "cell_type": "code",
   "execution_count": 2,
   "metadata": {},
   "outputs": [],
   "source": [
    "_ #so erhalten Sie das Ergebnis der letzten Berechnung\n",
    "\n",
    "_/3 # und können so weiter verwendet werden"
   ]
  },
  {
   "cell_type": "markdown",
   "metadata": {},
   "source": [
    "*print* gibt alles zwischen den Anführungszeichen in der Konsole als Text aus. Sie können hierbei auch doppelte Anführungszeichen verwenden. Bei Zahlen können Sie die Anführungsstriche weglassen, genauso für Variablen. Bei Variablen erscheint dann der Wert der Variable, nicht ihr Name.\n"
   ]
  },
  {
   "cell_type": "code",
   "execution_count": 3,
   "metadata": {},
   "outputs": [],
   "source": [
    "print('Hallo Welt! ')\n",
    "\n",
    "meineZahl=9\n",
    "print(meineZahl)"
   ]
  },
  {
   "cell_type": "markdown",
   "metadata": {},
   "source": [
    "Sie können alles, was Sie ausgeben möchten, durch + verknüpfen:"
   ]
  },
  {
   "cell_type": "code",
   "execution_count": 4,
   "metadata": {},
   "outputs": [],
   "source": [
    "print('Hallo ' +  'Welt! ')"
   ]
  },
  {
   "cell_type": "markdown",
   "metadata": {},
   "source": [
    "Mit *input* können Konsoleneingaben übergeben werden:"
   ]
  },
  {
   "cell_type": "code",
   "execution_count": null,
   "metadata": {},
   "outputs": [],
   "source": [
    "print('Was ist Dein Lieblingsessen?')\n",
    "essen=input()\n",
    "print('Morgen gibt es '+ essen)"
   ]
  },
  {
   "cell_type": "markdown",
   "metadata": {},
   "source": [
    "Realisieren  Sie in Python, dass Sie von einer Person Name und Geburtstag abfragen und diese wieder ausgeben in einer Begrüßung."
   ]
  },
  {
   "cell_type": "code",
   "execution_count": 9,
   "metadata": {},
   "outputs": [],
   "source": [
    "#Ihr Code:"
   ]
  },
  {
   "cell_type": "markdown",
   "metadata": {},
   "source": [
    "Führen Sie die Zelle unten aus. Dadurch befüllen Sie die Variablen `app` and `ora` mit den Werten `apples` und `oranges`.   \n",
    "\n",
    "Ändern Sie die Werte dieser Variablen  in den folgenden Unteraufgaben NICHT! "
   ]
  },
  {
   "cell_type": "code",
   "execution_count": 8,
   "metadata": {},
   "outputs": [],
   "source": [
    "app = \"apples\"\n",
    "ora = \"oranges\""
   ]
  },
  {
   "cell_type": "markdown",
   "metadata": {},
   "source": [
    "Nutzen Sie die oben definierte Variable um folgendes auf dem Bildschirm zu auszugeben: apples"
   ]
  },
  {
   "cell_type": "code",
   "execution_count": null,
   "metadata": {},
   "outputs": [],
   "source": []
  },
  {
   "cell_type": "markdown",
   "metadata": {},
   "source": [
    "Nutzen Sie die oben definierten Variablen um folgendes auf dem Bildschirm zu auszugeben: oranges and apples"
   ]
  },
  {
   "cell_type": "code",
   "execution_count": null,
   "metadata": {},
   "outputs": [],
   "source": []
  },
  {
   "cell_type": "markdown",
   "metadata": {},
   "source": [
    "Nutzen Sie die oben definierte Variable um folgendes auf dem Bildschirm zu auszugeben: applesapplesapples"
   ]
  },
  {
   "cell_type": "code",
   "execution_count": null,
   "metadata": {},
   "outputs": [],
   "source": [
    "\n"
   ]
  }
 ],
 "metadata": {
  "kernelspec": {
   "display_name": "Python 3",
   "language": "python",
   "name": "python3"
  },
  "language_info": {
   "codemirror_mode": {
    "name": "ipython",
    "version": 3
   },
   "file_extension": ".py",
   "mimetype": "text/x-python",
   "name": "python",
   "nbconvert_exporter": "python",
   "pygments_lexer": "ipython3",
   "version": "3.8.5"
  }
 },
 "nbformat": 4,
 "nbformat_minor": 2
}
