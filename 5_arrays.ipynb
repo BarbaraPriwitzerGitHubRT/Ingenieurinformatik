{
 "cells": [
  {
   "cell_type": "markdown",
   "metadata": {},
   "source": [
    "**Listen**\n",
    "\n",
    "**Teil 1**\n",
    "\n",
    "In Python heißt der elementare Array *list*. Eine Liste besteht aus mehreren Werten in einer\n",
    "geordneten Reihenfolge mit eckigen Klammern:\n",
    " \n",
    "Die Anzahl der Elemente in der Liste wird mit *len(liste)* bestimmt. Der Zugriff\n",
    "auf ein Element eines Feldes mit $n$ Elementen erfolgt über den Feld-Index durch\n",
    "*liste[index]* mit den ganzzahligen Werten von *index* zwischen 0 und $n - 1$.\n",
    "Die Wertzuweisung eines Elements eines Feldes mit $n$ Elementen wird über den\n",
    "Feld-Index *index* mit 0 bis $n -1$ erledigt"
   ]
  },
  {
   "cell_type": "code",
   "execution_count": 1,
   "metadata": {},
   "outputs": [],
   "source": [
    "liste =[3,'f',4.89, 'hallo']\n",
    "print('Die Liste hat ' + str(len(liste)) + ' Elemente.')\n",
    "\n",
    "print('Das 3. Element der Liste ist ' + str(liste[2]))\n",
    "\n",
    "liste[2]=9/7\n",
    "print('Das 3. Element der Liste ist jetzt ' + str(liste[2]))\n",
    "print('Das 3. Element der Liste ist jetzt %.2f' %liste[2])\n",
    "\n"
   ]
  },
  {
   "cell_type": "markdown",
   "metadata": {},
   "source": [
    "Die Indexzahlen können dabei auch negativ sein, wobei hier der Wert $-1$ den letzten\n",
    "Index, $-2$ den vorletzten Index usw. in der Liste angibt.\n"
   ]
  },
  {
   "cell_type": "code",
   "execution_count": 3,
   "metadata": {},
   "outputs": [],
   "source": [
    "liste[-3]"
   ]
  },
  {
   "cell_type": "markdown",
   "metadata": {},
   "source": [
    "**Listenoperationen**\n",
    "\n",
    "Der *slice* Operator wählt gewisse Listenelemente aus:"
   ]
  },
  {
   "cell_type": "code",
   "execution_count": 4,
   "metadata": {},
   "outputs": [],
   "source": [
    "neueListe=liste[2:4]\n",
    "print(neueListe)"
   ]
  },
  {
   "cell_type": "markdown",
   "metadata": {},
   "source": [
    "Startet bzw. endet die Teilliste mit dem ersten bzw. letzten Element, gibt es folgende abkürzende Schreibweisen:"
   ]
  },
  {
   "cell_type": "code",
   "execution_count": 5,
   "metadata": {},
   "outputs": [],
   "source": [
    "print(liste[:2])\n",
    "print(liste[2:])"
   ]
  },
  {
   "cell_type": "markdown",
   "metadata": {},
   "source": [
    "Mit Hilfe eines dritten Arguments kann die Schrittweite geändert werden, so das nur jedes $i$-te Element zwischen $k$ und $l-1$ ausgewählt wird:"
   ]
  },
  {
   "cell_type": "code",
   "execution_count": 6,
   "metadata": {},
   "outputs": [],
   "source": [
    "liste[0:4:2]"
   ]
  },
  {
   "cell_type": "markdown",
   "metadata": {},
   "source": [
    "**Löschen von Listenelementen**\n",
    "\n"
   ]
  },
  {
   "cell_type": "code",
   "execution_count": 7,
   "metadata": {},
   "outputs": [],
   "source": [
    "del liste[2]\n",
    "print(liste)\n",
    "print(liste[2])"
   ]
  },
  {
   "cell_type": "code",
   "execution_count": 8,
   "metadata": {},
   "outputs": [],
   "source": [
    "liste =[3,'f',4.89, 'hallo']\n",
    "del liste[1:3]\n",
    "liste"
   ]
  },
  {
   "cell_type": "markdown",
   "metadata": {},
   "source": [
    "**Arithmetische Operationen auf Listen**\n",
    "\n",
    "Die Summe der Elemente bestimmt ergibt sich mit der Funktion *sum(liste)*. Mit\n",
    "den beiden Operatoren *min(liste)* und *max(liste)* wird das kleinste und\n",
    "größte Element aus der angegebenen Liste bestimmt."
   ]
  },
  {
   "cell_type": "code",
   "execution_count": 9,
   "metadata": {},
   "outputs": [],
   "source": [
    "import numpy as np\n",
    "liste=list(np.sin(range(0,8)))\n",
    "\n",
    "print('Die Summe der Listenelemente ist ',(sum(liste)))\n",
    "\n",
    "\n",
    "print('Der größte Wert in der Liste ist '+ str(max(liste)))\n",
    "\n",
    "print('Der kleinste Wert in der Liste ist %f' %min(liste))\n",
    "\n",
    "liste"
   ]
  },
  {
   "cell_type": "markdown",
   "metadata": {},
   "source": [
    "**Verkettung von Listen**\n",
    "\n",
    "Mit dem Plus-Operator $+$ können Sie zwei Listen verketten und mit dem Mal-Operator $*$ wiederholen.\n"
   ]
  },
  {
   "cell_type": "code",
   "execution_count": 10,
   "metadata": {},
   "outputs": [],
   "source": [
    "liste=[1,2,3]\n",
    "print(liste+liste)\n",
    "\n",
    "print(3*liste)"
   ]
  },
  {
   "cell_type": "markdown",
   "metadata": {},
   "source": [
    "**Listen erzeugen**\n",
    "\n",
    "Soll eine Liste eine bestimmt Anzahl $n$ an Elementen enthalten, so erzeugt man am einfachsten eine Liste mit lauter identischen Einträgen. Dann können den einzlnen Elementen der Liste die gewünschten Werte zugewiesen werden (z.B. in Iterationen)."
   ]
  },
  {
   "cell_type": "code",
   "execution_count": 1,
   "metadata": {},
   "outputs": [],
   "source": [
    "liste=[0]*10\n",
    "print(liste)\n",
    "for i in range(10):\n",
    "    liste[i]=i*(i+1)\n",
    "print(liste)"
   ]
  },
  {
   "cell_type": "markdown",
   "metadata": {},
   "source": [
    " Listen von Folgen natürlicher Zahlen lassen sich mit Hilfe von *range* erzeugen."
   ]
  },
  {
   "cell_type": "code",
   "execution_count": 3,
   "metadata": {},
   "outputs": [],
   "source": [
    "liste=list((range(1,11,2)))\n",
    "print(liste)\n"
   ]
  },
  {
   "cell_type": "markdown",
   "metadata": {},
   "source": [
    "**Elemente von Listen**\n",
    "\n",
    "Um zu überprüfen, ob ein Wert in einer Liste steht oder nicht, verwendet man *in* bzw. *not in*."
   ]
  },
  {
   "cell_type": "code",
   "execution_count": 4,
   "metadata": {},
   "outputs": [],
   "source": [
    "meinBool1 = 5 in liste\n",
    "print(meinBool1)\n",
    "\n",
    "meinBool2 = 5 not in liste\n",
    "print(meinBool2)"
   ]
  },
  {
   "cell_type": "markdown",
   "metadata": {},
   "source": [
    "Die Methode *index(wert)*\n",
    "findet in der Liste *liste* den ersten Index zu dem angegebenen Wert *wert*."
   ]
  },
  {
   "cell_type": "code",
   "execution_count": 5,
   "metadata": {},
   "outputs": [],
   "source": [
    "liste=liste+liste\n",
    "print(liste)\n",
    "print(liste.index(5))#Index des ersten Elementes mit dem Wert 5 in der Liste\n",
    "meinIndex=liste.index(5)\n",
    "liste[meinIndex]=0 #Überschreiben dieses Elementes\n",
    "print(liste)\n",
    "del liste[meinIndex] #Löschen dieses Elementes\n",
    "print(liste.index(5))"
   ]
  },
  {
   "cell_type": "markdown",
   "metadata": {},
   "source": [
    "**Aufgabe**\n",
    "\n",
    "1. Erzeugen Sie eine Liste aus den Wörtern 'ich', 'mag', 'gerne', 'Eis', 'und', 'Schokolade'.\n",
    "2. Fügen Sie nach dem Wort 'mag' das Wort 'nicht' ein.\n",
    "3. Ersetzen Sie die Wörter 'Eis', 'und', 'Schokolade' durch die Wörter 'Mathematik', 'Physik','und','Informatik'.\n",
    "4. Löschen Sie das Wort 'nicht'.\n"
   ]
  },
  {
   "cell_type": "code",
   "execution_count": null,
   "metadata": {},
   "outputs": [],
   "source": []
  },
  {
   "cell_type": "markdown",
   "metadata": {},
   "source": [
    "**Teil 2**\n",
    "\n",
    "**Listenmethoden**\n",
    "\n",
    "Mit den Methoden *append()* und *insert()* wird ein Element *element* am\n",
    "Ende bzw. an Position pos der Liste *liste* hinzugefügt.\n"
   ]
  },
  {
   "cell_type": "code",
   "execution_count": 6,
   "metadata": {},
   "outputs": [],
   "source": [
    "liste.append('neu')\n",
    "print(liste)\n",
    "liste.insert(4,'hier')\n",
    "print(liste)"
   ]
  },
  {
   "cell_type": "markdown",
   "metadata": {},
   "source": [
    "Alle Elemente einer zweiten Liste *v* sind mit *liste.extend(v)* an die angegebene\n",
    "Liste anhängbar."
   ]
  },
  {
   "cell_type": "code",
   "execution_count": 7,
   "metadata": {},
   "outputs": [],
   "source": [
    "liste.extend(['?','€','@'])\n",
    "print(liste)"
   ]
  },
  {
   "cell_type": "markdown",
   "metadata": {},
   "source": [
    "Die Methode *remove()* entfernt ein Element *element*\n",
    "aus der Liste *liste*"
   ]
  },
  {
   "cell_type": "code",
   "execution_count": 10,
   "metadata": {},
   "outputs": [],
   "source": [
    "liste.remove('?')\n",
    "print(liste)\n",
    "print.remove(2)"
   ]
  },
  {
   "cell_type": "markdown",
   "metadata": {},
   "source": [
    "Die Methode *pop(i)*\n",
    "Gibt das *i*-te Element von s zurück und entfernt es dabei \n",
    "  aus der Liste. Normalerweise, also in anderen Sprachen, liefert pop nur das \"oberste\" bzw. das am weitesten rechts stehende Element zurück.\n",
    "Ist *i* nicht angegeben, wird das letzte Element genommen, was dem üblichen *pop* anderer Programmiersprachen entspricht. "
   ]
  },
  {
   "cell_type": "code",
   "execution_count": 11,
   "metadata": {
    "scrolled": true
   },
   "outputs": [],
   "source": [
    "a=liste.pop(7)\n",
    "print('Das Element '+str(a)+' wurde aus der Liste entfernt. Die Liste hat jetzt die Gestalt ')\n",
    "print(liste)"
   ]
  },
  {
   "cell_type": "markdown",
   "metadata": {},
   "source": [
    "Mit der Methode *liste.reverse()*\n",
    "können wir die Reihenfolge der Elemente in der Liste umkehren."
   ]
  },
  {
   "cell_type": "code",
   "execution_count": 12,
   "metadata": {},
   "outputs": [],
   "source": [
    "liste.reverse()\n",
    "print(liste)\n"
   ]
  },
  {
   "cell_type": "markdown",
   "metadata": {},
   "source": [
    "Eine Liste aus Zahlenwerten oder Strings lässt sich mit der Methode *sort()*\n",
    "sortieren."
   ]
  },
  {
   "cell_type": "code",
   "execution_count": 13,
   "metadata": {},
   "outputs": [],
   "source": [
    "liste= [-n**2+6*n-2 for n in range(1,11)]\n",
    "liste.sort()\n",
    "print(liste)"
   ]
  },
  {
   "cell_type": "markdown",
   "metadata": {},
   "source": [
    "**Aufgabe**\n",
    "\n",
    "- Erzeugen Sie zwei Listen, eine mit den Zahlen von 1 bis 4 und eine mit den Zahlen von 5 bis 10.\n",
    "- Führen Sie die beiden Listen zusammen, einmal durch den Operator $+$ und einmal durch die Methode *extend*.\n",
    "-  Entfernen Sie alle ungeraden Zahlen aus der so entstandenen Liste.\n",
    "-  Ändern Sie diese Liste gerader Zahlen bis 10 so, dass sie mit der größten Zahl startet."
   ]
  },
  {
   "cell_type": "code",
   "execution_count": null,
   "metadata": {
    "scrolled": true
   },
   "outputs": [],
   "source": []
  },
  {
   "cell_type": "markdown",
   "metadata": {},
   "source": [
    "**Mehrdimensionale Listen**\n",
    "\n",
    "Mehrdimensionale Listen  entstehen aus eindimensionalen Listen mit zusätzlichen\n",
    "eckigen Klammern. Der Zugriff auf das Element in der $i + 1$-ten Zeile und der $j + 1$-ten Spalte der\n",
    " mehrdimensionalen Listen  erfolgt über zwei Indizes $i$ und $j$ mit *matrix[i][j]* (nicht vergessen: Indizierungen starten in Python immer mit 0!).  Der Vektor aller Elemente in der $i+1$-ten Zeile der\n",
    " mehrdimensionale Listen  ist definierbar durch *matrix[i]*."
   ]
  },
  {
   "cell_type": "code",
   "execution_count": 14,
   "metadata": {},
   "outputs": [],
   "source": [
    "matrix = [[1,2], [3,4], [5,6]]\n",
    "print(matrix)\n",
    "print(matrix[2][0])\n",
    "\n"
   ]
  },
  {
   "cell_type": "markdown",
   "metadata": {},
   "source": [
    " Der Vektor aller Elemente in der $i+1$-ten Zeile der\n",
    " mehrdimensionale Listen  ist definierbar durch *matrix[i]*. Die $j+1$-te Spalte ergibt sich durch *[row[j] for row in matrix]*.\n",
    " "
   ]
  },
  {
   "cell_type": "code",
   "execution_count": 16,
   "metadata": {},
   "outputs": [],
   "source": [
    "print(matrix[1])\n",
    "\n",
    "[row[1] for row in matrix]"
   ]
  },
  {
   "cell_type": "markdown",
   "metadata": {},
   "source": [
    "Die Wertzuweisung\n",
    "eines Elements $(i + 1, j + 1)$ der  mehrdimensionale Listen  lautet"
   ]
  },
  {
   "cell_type": "code",
   "execution_count": 17,
   "metadata": {},
   "outputs": [],
   "source": [
    "matrix[2][1]=-1\n",
    "\n",
    "print(matrix)"
   ]
  },
  {
   "cell_type": "markdown",
   "metadata": {},
   "source": [
    "Die Anzahl der Zeilen ergibt sich mit *len(matrix)* und die Anzahl der\n",
    "Spalten mit *len(matrix[0])*."
   ]
  },
  {
   "cell_type": "code",
   "execution_count": 18,
   "metadata": {},
   "outputs": [],
   "source": [
    "print(len(matrix))\n",
    "\n",
    "print(len(matrix[0]))\n",
    "\n",
    "print(matrix[0])"
   ]
  },
  {
   "cell_type": "markdown",
   "metadata": {},
   "source": [
    "**Aufgabe**\n",
    "\n",
    "Initalisieren Sie eine zweidimensionale Liste, die Vorname und Nachname von drei Freunden oder Freundinnen von Ihnen enthält.\n",
    "Fügen Sie den Namen einer weiteren Person hinzu. Löschen Sie den Namen der zweiten Person aus der Liste."
   ]
  },
  {
   "cell_type": "code",
   "execution_count": null,
   "metadata": {},
   "outputs": [],
   "source": []
  },
  {
   "cell_type": "markdown",
   "metadata": {},
   "source": [
    "**Teil 3**\n",
    "\n",
    "**Strings (Zeichenketten)**\n",
    "\n",
    "In Python wird jeder Buchstabe\n",
    "einer Zeichenkette als ein Element einer Liste angesehen.\n",
    " Der Zugriff auf einzelne Buchstaben einer Zeichenkette erfolgt über eine Indexschreibweise\n",
    "mit eckigen Klammern. Auf die Elemente in einem String kann wie auf eine Liste zugegriffen werden. Ein\n",
    "String ist im Gegensatz zu einer Liste jedoch unveränderlich.\n",
    "\n",
    "\n",
    "Mit dem Additionsoperator + und dem Multiplikationsoperator * können\n",
    "Sie Zeichenketten verketten oder wiederholen:"
   ]
  },
  {
   "cell_type": "code",
   "execution_count": 1,
   "metadata": {},
   "outputs": [],
   "source": [
    "print('Python'+ ' ist toll')\n",
    "\n",
    "print('Python'*3)\n",
    "\n",
    "a='Python'\n",
    "\n",
    "print(a[3])\n",
    "\n"
   ]
  },
  {
   "cell_type": "markdown",
   "metadata": {},
   "source": [
    " Die Länge einer Zeichenkette mit der Anzahl der Zeichen bestimmt sich mit der\n",
    "Funktion *len()*."
   ]
  },
  {
   "cell_type": "code",
   "execution_count": 2,
   "metadata": {},
   "outputs": [],
   "source": [
    "len('Python')"
   ]
  },
  {
   "cell_type": "markdown",
   "metadata": {},
   "source": [
    "Die Funktion *str(zahl)* wandelt eine angegebene Zahl in einen String um."
   ]
  },
  {
   "cell_type": "code",
   "execution_count": 3,
   "metadata": {},
   "outputs": [],
   "source": [
    "b=str(967)\n",
    "b*4"
   ]
  },
  {
   "cell_type": "markdown",
   "metadata": {},
   "source": [
    "Mit dem Maskierungszeichen \\ können Zeichen in Strings aufgenommen\n",
    "werden, die sonst nicht zulässig wären."
   ]
  },
  {
   "cell_type": "code",
   "execution_count": 4,
   "metadata": {},
   "outputs": [],
   "source": [
    "a=\"\\\"Python\\\"\"\n",
    "print(a)\n",
    "len(a)"
   ]
  },
  {
   "cell_type": "markdown",
   "metadata": {},
   "source": [
    "Der Operator *in* prüft, ob eine Zeichenkette in einer anderen enthalten ist:"
   ]
  },
  {
   "cell_type": "code",
   "execution_count": 5,
   "metadata": {},
   "outputs": [],
   "source": [
    "'C#' in 'Python ist toll'"
   ]
  },
  {
   "cell_type": "markdown",
   "metadata": {},
   "source": [
    "Das Verbinden mehrerer Strings zu einer einzelnen Zeichenkette erledigt die\n",
    "Methode *join()* mit einem gewünschten Verbindungszeichen und den einzelnen\n",
    "Strings in eckigen Klammern."
   ]
  },
  {
   "cell_type": "code",
   "execution_count": 7,
   "metadata": {},
   "outputs": [],
   "source": [
    "#a=' '.join(['Python', 'ist', 'toll'])\n",
    "a='ist'.join([ 'Python', 'toll'])\n",
    "type(a)\n",
    "print(a)"
   ]
  },
  {
   "cell_type": "markdown",
   "metadata": {},
   "source": [
    "Die Methode *split(t)* wandelt einen String mit einem angegebenen Trennzeichen\n",
    "*t* in die einzelnen Teilstrings um"
   ]
  },
  {
   "cell_type": "code",
   "execution_count": 8,
   "metadata": {},
   "outputs": [],
   "source": [
    " b='Python ist gar nicht toll'.split('t')\n",
    "print(b)\n",
    "print(type(b))\n",
    "print(b[0])\n",
    "print(type(b[0]))"
   ]
  },
  {
   "cell_type": "markdown",
   "metadata": {},
   "source": [
    "Die Methode *replace(alt, neu)* ersetzt die Vorkommen der Zeichenkette\n",
    "*alt* durch *neu*."
   ]
  },
  {
   "cell_type": "code",
   "execution_count": 9,
   "metadata": {},
   "outputs": [],
   "source": [
    "s = 'Programmieren ist nicht schön'\n",
    "s.replace('nicht', 'richtig')"
   ]
  },
  {
   "cell_type": "markdown",
   "metadata": {},
   "source": [
    "**Aufgabe**\n",
    "\n",
    "Schreiben Sie ein Python Skript, das zur Eingabe von Postleitzahl (PLZ) und Ort auffordert. Trennen Sie dann den String in PLZ und Ort über das Leerzeichen und überprüfen Sie, ob die PLZ 5 Ziffern hat und ob der Ort nur aus Buchstaben besteht."
   ]
  },
  {
   "cell_type": "code",
   "execution_count": null,
   "metadata": {},
   "outputs": [],
   "source": []
  }
 ],
 "metadata": {
  "kernelspec": {
   "display_name": "Python 3",
   "language": "python",
   "name": "python3"
  },
  "language_info": {
   "codemirror_mode": {
    "name": "ipython",
    "version": 3
   },
   "file_extension": ".py",
   "mimetype": "text/x-python",
   "name": "python",
   "nbconvert_exporter": "python",
   "pygments_lexer": "ipython3",
   "version": "3.8.5"
  }
 },
 "nbformat": 4,
 "nbformat_minor": 2
}
