{
 "cells": [
  {
   "cell_type": "markdown",
   "metadata": {},
   "source": [
    "**Listen**\n",
    "\n",
    "**Teil 1**\n",
    "\n",
    "In Python heißt der elementare Array *list*. Eine Liste besteht aus mehreren Werten in einer\n",
    "geordneten Reihenfolge mit eckigen Klammern:\n",
    " \n",
    "Die Anzahl der Elemente in der Liste wird mit *len(liste)* bestimmt. Der Zugriff\n",
    "auf ein Element eines Feldes mit $n$ Elementen erfolgt über den Feld-Index durch\n",
    "*liste[index]* mit den ganzzahligen Werten von *index* zwischen 0 und $n - 1$.\n",
    "Die Wertzuweisung eines Elements eines Feldes mit $n$ Elementen wird über den\n",
    "Feld-Index *index* mit 0 bis $n -1$ erledigt"
   ]
  },
  {
   "cell_type": "code",
   "execution_count": 1,
   "metadata": {},
   "outputs": [
    {
     "name": "stdout",
     "output_type": "stream",
     "text": [
      "Die Liste hat 4 Elemente.\n",
      "Das 3. Element der Liste ist 4.89\n",
      "Das 3. Element der Liste ist jetzt 1.2857142857142858\n",
      "Das 3. Element der Liste ist jetzt 1.29\n"
     ]
    }
   ],
   "source": [
    "liste =[3,'f',4.89, 'hallo']\n",
    "print('Die Liste hat ' + str(len(liste)) + ' Elemente.')\n",
    "\n",
    "print('Das 3. Element der Liste ist ' + str(liste[2]))\n",
    "\n",
    "liste[2]=9/7\n",
    "print('Das 3. Element der Liste ist jetzt ' + str(liste[2]))\n",
    "print('Das 3. Element der Liste ist jetzt %.2f' %liste[2])\n",
    "\n"
   ]
  },
  {
   "cell_type": "markdown",
   "metadata": {},
   "source": [
    "Die Indexzahlen können dabei auch negativ sein, wobei hier der Wert $-1$ den letzten\n",
    "Index, $-2$ den vorletzten Index usw. in der Liste angibt.\n"
   ]
  },
  {
   "cell_type": "code",
   "execution_count": 2,
   "metadata": {},
   "outputs": [
    {
     "data": {
      "text/plain": [
       "'f'"
      ]
     },
     "execution_count": 2,
     "metadata": {},
     "output_type": "execute_result"
    }
   ],
   "source": [
    "liste[-3]"
   ]
  },
  {
   "cell_type": "markdown",
   "metadata": {},
   "source": [
    "**Listenoperationen**\n",
    "\n",
    "Der *slice* Operator wählt gewisse Listenelemente aus:"
   ]
  },
  {
   "cell_type": "code",
   "execution_count": 6,
   "metadata": {},
   "outputs": [
    {
     "name": "stdout",
     "output_type": "stream",
     "text": [
      "[1.2857142857142858, 'hallo']\n"
     ]
    }
   ],
   "source": [
    "neueListe=liste[2:4]\n",
    "print(neueListe)"
   ]
  },
  {
   "cell_type": "markdown",
   "metadata": {},
   "source": [
    "Startet bzw. endet die Teilliste mit dem ersten bzw. letzten Element, gibt es folgende abkürzende Schreibweisen:"
   ]
  },
  {
   "cell_type": "code",
   "execution_count": 7,
   "metadata": {},
   "outputs": [
    {
     "name": "stdout",
     "output_type": "stream",
     "text": [
      "[3, 'f']\n",
      "[1.2857142857142858, 'hallo']\n"
     ]
    }
   ],
   "source": [
    "print(liste[:2])\n",
    "print(liste[2:])"
   ]
  },
  {
   "cell_type": "markdown",
   "metadata": {},
   "source": [
    "Mit Hilfe eines dritten Arguments kann die Schrittweite geändert werden, so das nur jedes $i$-te Element zwischen $k$ und $l-1$ ausgewählt wird:"
   ]
  },
  {
   "cell_type": "code",
   "execution_count": 8,
   "metadata": {},
   "outputs": [
    {
     "data": {
      "text/plain": [
       "[3, 1.2857142857142858]"
      ]
     },
     "execution_count": 8,
     "metadata": {},
     "output_type": "execute_result"
    }
   ],
   "source": [
    "liste[0:4:2]"
   ]
  },
  {
   "cell_type": "markdown",
   "metadata": {},
   "source": [
    "Fehlen die ersten beiden Argumente, so wird die Schrittweite von Anfang bis Ende angewendet."
   ]
  },
  {
   "cell_type": "code",
   "execution_count": 9,
   "metadata": {},
   "outputs": [
    {
     "name": "stdout",
     "output_type": "stream",
     "text": [
      "[3, 1.2857142857142858]\n"
     ]
    }
   ],
   "source": [
    "print(liste[::2])"
   ]
  },
  {
   "cell_type": "markdown",
   "metadata": {},
   "source": [
    "**Löschen von Listenelementen**\n",
    "\n"
   ]
  },
  {
   "cell_type": "code",
   "execution_count": 10,
   "metadata": {},
   "outputs": [
    {
     "name": "stdout",
     "output_type": "stream",
     "text": [
      "[3, 'f', 'hallo']\n",
      "hallo\n"
     ]
    }
   ],
   "source": [
    "del liste[2]\n",
    "print(liste)\n",
    "print(liste[2])"
   ]
  },
  {
   "cell_type": "code",
   "execution_count": 11,
   "metadata": {},
   "outputs": [
    {
     "data": {
      "text/plain": [
       "[3, 'hallo']"
      ]
     },
     "execution_count": 11,
     "metadata": {},
     "output_type": "execute_result"
    }
   ],
   "source": [
    "liste =[3,'f',4.89, 'hallo']\n",
    "del liste[1:3]\n",
    "liste"
   ]
  },
  {
   "cell_type": "markdown",
   "metadata": {},
   "source": [
    "**Arithmetische Operationen auf Listen**\n",
    "\n",
    "Die Summe der Elemente bestimmt ergibt sich mit der Funktion *sum(liste)*. Mit\n",
    "den beiden Operatoren *min(liste)* und *max(liste)* wird das kleinste und\n",
    "größte Element aus der angegebenen Liste bestimmt."
   ]
  },
  {
   "cell_type": "code",
   "execution_count": 12,
   "metadata": {},
   "outputs": [
    {
     "name": "stdout",
     "output_type": "stream",
     "text": [
      "Die Summe der Listenelemente ist  0.5537327502422419\n",
      "Der größte Wert in der Liste ist 0.9092974268256817\n",
      "Der kleinste Wert in der Liste ist -0.958924\n"
     ]
    },
    {
     "data": {
      "text/plain": [
       "[0.0,\n",
       " 0.8414709848078965,\n",
       " 0.9092974268256817,\n",
       " 0.1411200080598672,\n",
       " -0.7568024953079282,\n",
       " -0.9589242746631385,\n",
       " -0.27941549819892586,\n",
       " 0.6569865987187891]"
      ]
     },
     "execution_count": 12,
     "metadata": {},
     "output_type": "execute_result"
    }
   ],
   "source": [
    "import numpy as np\n",
    "liste=list(np.sin(range(0,8)))\n",
    "\n",
    "print('Die Summe der Listenelemente ist ',(sum(liste)))\n",
    "\n",
    "\n",
    "print('Der größte Wert in der Liste ist '+ str(max(liste)))\n",
    "\n",
    "print('Der kleinste Wert in der Liste ist %f' %min(liste))\n",
    "\n",
    "liste"
   ]
  },
  {
   "cell_type": "markdown",
   "metadata": {},
   "source": [
    "**Verkettung von Listen**\n",
    "\n",
    "Mit dem Plus-Operator $+$ können Sie zwei Listen verketten und mit dem Mal-Operator $*$ wiederholen.\n"
   ]
  },
  {
   "cell_type": "code",
   "execution_count": 10,
   "metadata": {},
   "outputs": [],
   "source": [
    "liste=[1,2,3]\n",
    "print(liste+liste)\n",
    "\n",
    "print(3*liste)"
   ]
  },
  {
   "cell_type": "markdown",
   "metadata": {},
   "source": [
    "**Listen erzeugen**\n",
    "\n",
    "Soll eine Liste eine bestimmt Anzahl $n$ an Elementen enthalten, so erzeugt man am einfachsten eine Liste mit lauter identischen Einträgen. Dann können den einzlnen Elementen der Liste die gewünschten Werte zugewiesen werden (z.B. in Iterationen)."
   ]
  },
  {
   "cell_type": "code",
   "execution_count": 1,
   "metadata": {},
   "outputs": [],
   "source": [
    "liste=[0]*10\n",
    "print(liste)\n",
    "for i in range(10):\n",
    "    liste[i]=i*(i+1)\n",
    "print(liste)"
   ]
  },
  {
   "cell_type": "markdown",
   "metadata": {},
   "source": [
    " Listen von Folgen natürlicher Zahlen lassen sich mit Hilfe von *range* erzeugen."
   ]
  },
  {
   "cell_type": "code",
   "execution_count": 3,
   "metadata": {},
   "outputs": [],
   "source": [
    "liste=list((range(1,11,2)))\n",
    "print(liste)\n"
   ]
  },
  {
   "cell_type": "markdown",
   "metadata": {},
   "source": [
    "**Elemente von Listen**\n",
    "\n",
    "Um zu überprüfen, ob ein Wert in einer Liste steht oder nicht, verwendet man *in* bzw. *not in*."
   ]
  },
  {
   "cell_type": "code",
   "execution_count": 4,
   "metadata": {},
   "outputs": [],
   "source": [
    "meinBool1 = 5 in liste\n",
    "print(meinBool1)\n",
    "\n",
    "meinBool2 = 5 not in liste\n",
    "print(meinBool2)"
   ]
  },
  {
   "cell_type": "markdown",
   "metadata": {},
   "source": [
    "Die Methode *index(wert)*\n",
    "findet in der Liste *liste* den ersten Index zu dem angegebenen Wert *wert*."
   ]
  },
  {
   "cell_type": "code",
   "execution_count": 5,
   "metadata": {},
   "outputs": [],
   "source": [
    "liste=liste+liste\n",
    "print(liste)\n",
    "print(liste.index(5))#Index des ersten Elementes mit dem Wert 5 in der Liste\n",
    "meinIndex=liste.index(5)\n",
    "liste[meinIndex]=0 #Überschreiben dieses Elementes\n",
    "print(liste)\n",
    "del liste[meinIndex] #Löschen dieses Elementes\n",
    "print(liste.index(5))"
   ]
  },
  {
   "cell_type": "markdown",
   "metadata": {},
   "source": [
    "**Aufgabe**\n",
    "\n",
    "1. Erzeugen Sie eine Liste aus den Wörtern 'ich', 'mag', 'gerne', 'Eis', 'und', 'Schokolade'.\n",
    "2. Fügen Sie nach dem Wort 'mag' das Wort 'nicht' ein.\n",
    "3. Ersetzen Sie die Wörter 'Eis', 'und', 'Schokolade' durch die Wörter 'Mathematik', 'Physik','und','Informatik'.\n",
    "4. Löschen Sie das Wort 'nicht'.\n"
   ]
  },
  {
   "cell_type": "code",
   "execution_count": null,
   "metadata": {},
   "outputs": [],
   "source": []
  },
  {
   "cell_type": "markdown",
   "metadata": {},
   "source": [
    "**Teil 2**\n",
    "\n",
    "**Listenmethoden**\n",
    "\n",
    "Mit den Methoden *append()* und *insert()* wird ein Element *element* am\n",
    "Ende bzw. an Position pos der Liste *liste* hinzugefügt.\n"
   ]
  },
  {
   "cell_type": "code",
   "execution_count": 6,
   "metadata": {},
   "outputs": [],
   "source": [
    "liste=list((range(1,11,2)))\n",
    "liste.append('neu')\n",
    "print(liste)\n",
    "liste.insert(4,'hier')\n",
    "print(liste)"
   ]
  },
  {
   "cell_type": "markdown",
   "metadata": {},
   "source": [
    "Alle Elemente einer zweiten Liste *v* sind mit *liste.extend(v)* an die angegebene\n",
    "Liste anhängbar."
   ]
  },
  {
   "cell_type": "code",
   "execution_count": 7,
   "metadata": {},
   "outputs": [],
   "source": [
    "liste.extend(['?','€','@'])\n",
    "print(liste)"
   ]
  },
  {
   "cell_type": "markdown",
   "metadata": {},
   "source": [
    "Die Methode *remove()* entfernt ein Element *element*\n",
    "aus der Liste *liste*"
   ]
  },
  {
   "cell_type": "code",
   "execution_count": 10,
   "metadata": {},
   "outputs": [],
   "source": [
    "liste.remove('?')\n",
    "print(liste)\n",
    "liste.remove(2)\n",
    "print(liste)"
   ]
  },
  {
   "cell_type": "markdown",
   "metadata": {},
   "source": [
    "Die Methode *pop(i)*\n",
    "Gibt das *i*-te Element von s zurück und entfernt es dabei \n",
    "  aus der Liste. Normalerweise, also in anderen Sprachen, liefert pop nur das \"oberste\" bzw. das am weitesten rechts stehende Element zurück.\n",
    "Ist *i* nicht angegeben, wird das letzte Element genommen, was dem üblichen *pop* anderer Programmiersprachen entspricht. "
   ]
  },
  {
   "cell_type": "code",
   "execution_count": 11,
   "metadata": {
    "scrolled": true
   },
   "outputs": [],
   "source": [
    "a=liste.pop(7)\n",
    "print('Das Element '+str(a)+' wurde aus der Liste entfernt. Die Liste hat jetzt die Gestalt ')\n",
    "print(liste)"
   ]
  },
  {
   "cell_type": "markdown",
   "metadata": {},
   "source": [
    "Mit der Methode *liste.reverse()*\n",
    "können wir die Reihenfolge der Elemente in der Liste umkehren."
   ]
  },
  {
   "cell_type": "code",
   "execution_count": 12,
   "metadata": {},
   "outputs": [],
   "source": [
    "liste.reverse()\n",
    "print(liste)\n"
   ]
  },
  {
   "cell_type": "markdown",
   "metadata": {},
   "source": [
    "Eine Liste aus Zahlenwerten oder Strings lässt sich mit der Methode *sort()*\n",
    "sortieren."
   ]
  },
  {
   "cell_type": "code",
   "execution_count": 13,
   "metadata": {},
   "outputs": [],
   "source": [
    "liste= [-n**2+6*n-2 for n in range(1,11)]\n",
    "liste.sort()\n",
    "print(liste)"
   ]
  },
  {
   "cell_type": "markdown",
   "metadata": {},
   "source": [
    "**Aufgabe**\n",
    "\n",
    "- Erzeugen Sie zwei Listen, eine mit den Zahlen von 1 bis 4 und eine mit den Zahlen von 5 bis 10.\n",
    "- Führen Sie die beiden Listen zusammen, einmal durch den Operator $+$ und einmal durch die Methode *extend*.\n",
    "-  Entfernen Sie alle ungeraden Zahlen aus der so entstandenen Liste.\n",
    "-  Ändern Sie diese Liste gerader Zahlen bis 10 so, dass sie mit der größten Zahl startet."
   ]
  },
  {
   "cell_type": "code",
   "execution_count": null,
   "metadata": {
    "scrolled": true
   },
   "outputs": [],
   "source": []
  },
  {
   "cell_type": "markdown",
   "metadata": {},
   "source": [
    "**Mehrdimensionale Listen**\n",
    "\n",
    "Mehrdimensionale Listen  entstehen aus eindimensionalen Listen mit zusätzlichen\n",
    "eckigen Klammern. Der Zugriff auf das Element in der $i + 1$-ten Zeile und der $j + 1$-ten Spalte der\n",
    " mehrdimensionalen Listen  erfolgt über zwei Indizes $i$ und $j$ mit *matrix[i][j]* (nicht vergessen: Indizierungen starten in Python immer mit 0!).  Der Vektor aller Elemente in der $i+1$-ten Zeile der\n",
    " mehrdimensionale Listen  ist definierbar durch *matrix[i]*."
   ]
  },
  {
   "cell_type": "code",
   "execution_count": 14,
   "metadata": {},
   "outputs": [],
   "source": [
    "matrix = [[1,2], [3,4], [5,6]]\n",
    "print(matrix)\n",
    "print(matrix[2][0])\n",
    "\n"
   ]
  },
  {
   "cell_type": "markdown",
   "metadata": {},
   "source": [
    " Der Vektor aller Elemente in der $i+1$-ten Zeile der\n",
    " mehrdimensionale Listen  ist definierbar durch *matrix[i]*. Die $j+1$-te Spalte ergibt sich durch *[row[j] for row in matrix]*.\n",
    " "
   ]
  },
  {
   "cell_type": "code",
   "execution_count": 16,
   "metadata": {},
   "outputs": [],
   "source": [
    "print(matrix[1])\n",
    "\n",
    "[row[1] for row in matrix]"
   ]
  },
  {
   "cell_type": "markdown",
   "metadata": {},
   "source": [
    "Die Wertzuweisung\n",
    "eines Elements $(i + 1, j + 1)$ der  mehrdimensionale Listen  lautet"
   ]
  },
  {
   "cell_type": "code",
   "execution_count": 17,
   "metadata": {},
   "outputs": [],
   "source": [
    "matrix[2][1]=-1\n",
    "\n",
    "print(matrix)"
   ]
  },
  {
   "cell_type": "markdown",
   "metadata": {},
   "source": [
    "Die Anzahl der Zeilen ergibt sich mit *len(matrix)* und die Anzahl der\n",
    "Spalten mit *len(matrix[0])*."
   ]
  },
  {
   "cell_type": "code",
   "execution_count": 18,
   "metadata": {},
   "outputs": [],
   "source": [
    "print(len(matrix))\n",
    "\n",
    "print(len(matrix[0]))\n",
    "\n",
    "print(matrix[0])"
   ]
  },
  {
   "cell_type": "markdown",
   "metadata": {},
   "source": [
    "**Aufgabe**\n",
    "\n",
    "Initalisieren Sie eine zweidimensionale Liste, die Vorname und Nachname von drei Freunden oder Freundinnen von Ihnen enthält.\n",
    "Fügen Sie den Namen einer weiteren Person hinzu. Löschen Sie den Namen der zweiten Person aus der Liste."
   ]
  },
  {
   "cell_type": "code",
   "execution_count": null,
   "metadata": {},
   "outputs": [],
   "source": []
  },
  {
   "cell_type": "markdown",
   "metadata": {},
   "source": [
    "**Teil 3**\n",
    "\n",
    "**Strings (Zeichenketten)**\n",
    "\n",
    "In Python wird jeder Buchstabe\n",
    "einer Zeichenkette als ein Element einer Liste angesehen.\n",
    " Der Zugriff auf einzelne Buchstaben einer Zeichenkette erfolgt über eine Indexschreibweise\n",
    "mit eckigen Klammern. Auf die Elemente in einem String kann wie auf eine Liste zugegriffen werden. Ein\n",
    "String ist im Gegensatz zu einer Liste jedoch unveränderlich.\n",
    "\n",
    "\n",
    "Mit dem Additionsoperator + und dem Multiplikationsoperator * können\n",
    "Sie Zeichenketten verketten oder wiederholen:"
   ]
  },
  {
   "cell_type": "code",
   "execution_count": 1,
   "metadata": {},
   "outputs": [
    {
     "name": "stdout",
     "output_type": "stream",
     "text": [
      "Python ist toll\n",
      "PythonPythonPython\n",
      "h\n"
     ]
    }
   ],
   "source": [
    "print('Python'+ ' ist toll')\n",
    "\n",
    "print('Python'*3)\n",
    "\n",
    "a='Python'\n",
    "\n",
    "print(a[3])\n",
    "\n"
   ]
  },
  {
   "cell_type": "markdown",
   "metadata": {},
   "source": [
    " Die Länge einer Zeichenkette mit der Anzahl der Zeichen bestimmt sich mit der\n",
    "Funktion *len()*."
   ]
  },
  {
   "cell_type": "code",
   "execution_count": 2,
   "metadata": {},
   "outputs": [
    {
     "data": {
      "text/plain": [
       "6"
      ]
     },
     "execution_count": 2,
     "metadata": {},
     "output_type": "execute_result"
    }
   ],
   "source": [
    "len('Python')"
   ]
  },
  {
   "cell_type": "markdown",
   "metadata": {},
   "source": [
    "Die Funktion *str(zahl)* wandelt eine angegebene Zahl in einen String um."
   ]
  },
  {
   "cell_type": "code",
   "execution_count": 4,
   "metadata": {},
   "outputs": [
    {
     "data": {
      "text/plain": [
       "'967967967967'"
      ]
     },
     "execution_count": 4,
     "metadata": {},
     "output_type": "execute_result"
    }
   ],
   "source": [
    "b=str(967)\n",
    "b*4"
   ]
  },
  {
   "cell_type": "markdown",
   "metadata": {},
   "source": [
    "Mit dem Maskierungszeichen \\ können Zeichen in Strings aufgenommen\n",
    "werden, die sonst nicht zulässig wären."
   ]
  },
  {
   "cell_type": "code",
   "execution_count": 5,
   "metadata": {},
   "outputs": [
    {
     "name": "stdout",
     "output_type": "stream",
     "text": [
      "\"Python\"\n"
     ]
    },
    {
     "data": {
      "text/plain": [
       "8"
      ]
     },
     "execution_count": 5,
     "metadata": {},
     "output_type": "execute_result"
    }
   ],
   "source": [
    "a=\"\\\"Python\\\"\"\n",
    "print(a)\n",
    "len(a)"
   ]
  },
  {
   "cell_type": "markdown",
   "metadata": {},
   "source": [
    "Der Operator *in* prüft, ob eine Zeichenkette in einer anderen enthalten ist:"
   ]
  },
  {
   "cell_type": "code",
   "execution_count": 7,
   "metadata": {},
   "outputs": [
    {
     "data": {
      "text/plain": [
       "True"
      ]
     },
     "execution_count": 7,
     "metadata": {},
     "output_type": "execute_result"
    }
   ],
   "source": [
    "'C#' in 'Python ist toll'"
   ]
  },
  {
   "cell_type": "markdown",
   "metadata": {},
   "source": [
    "Das Verbinden mehrerer Strings zu einer einzelnen Zeichenkette erledigt die\n",
    "Methode *join()* mit einem gewünschten Verbindungszeichen und den einzelnen\n",
    "Strings in eckigen Klammern."
   ]
  },
  {
   "cell_type": "code",
   "execution_count": 13,
   "metadata": {},
   "outputs": [
    {
     "name": "stdout",
     "output_type": "stream",
     "text": [
      "<class 'str'>\n",
      "Python ist toll\n"
     ]
    }
   ],
   "source": [
    "#a=' '.join(['Python', 'ist', 'toll'])\n",
    "a=' ist '.join([ 'Python', 'toll'])\n",
    "print(type(a))\n",
    "print(a)"
   ]
  },
  {
   "cell_type": "markdown",
   "metadata": {},
   "source": [
    "Die Methode *split(t)* wandelt einen String mit einem angegebenen Trennzeichen\n",
    "*t* in die einzelnen Teilstrings um"
   ]
  },
  {
   "cell_type": "code",
   "execution_count": 15,
   "metadata": {},
   "outputs": [
    {
     "name": "stdout",
     "output_type": "stream",
     "text": [
      "['Python', 'ist', 'gar', 'nicht', 'toll']\n",
      "<class 'list'>\n",
      "Python\n",
      "<class 'str'>\n"
     ]
    }
   ],
   "source": [
    " b='Python ist gar nicht toll'.split(' ')\n",
    "print(b)\n",
    "print(type(b))\n",
    "print(b[0])\n",
    "print(type(b[0]))"
   ]
  },
  {
   "cell_type": "markdown",
   "metadata": {},
   "source": [
    "Die Methode *replace(alt, neu)* ersetzt die Vorkommen der Zeichenkette\n",
    "*alt* durch *neu*."
   ]
  },
  {
   "cell_type": "code",
   "execution_count": 9,
   "metadata": {},
   "outputs": [],
   "source": [
    "s = 'Programmieren ist nicht schön'\n",
    "s.replace('nicht', 'richtig')"
   ]
  },
  {
   "cell_type": "markdown",
   "metadata": {},
   "source": [
    "**Aufgabe**\n",
    "\n",
    "Schreiben Sie ein Python Skript, das zur Eingabe von Postleitzahl (PLZ) und Ort auffordert. Trennen Sie dann den String in PLZ und Ort über das Leerzeichen und überprüfen Sie, ob die PLZ 5 Ziffern hat und ob der Ort nur aus Buchstaben besteht."
   ]
  },
  {
   "cell_type": "code",
   "execution_count": null,
   "metadata": {},
   "outputs": [],
   "source": []
  },
  {
   "cell_type": "markdown",
   "metadata": {},
   "source": [
    "**Teil 4**\n",
    "\n",
    "**Dictionaries**\n",
    "\n",
    "Dictionaries sind assoziative Arrays.Ein Dictionary besteht aus Schlüssel-Objekt-Paaren. Zu einem bestimmten Schlüssel gehört immer ein Objekt. \n",
    "\n",
    "In Python können Schlüssel  von jedem unveränderlichen Typ sein. Strings und Zahlen können immer Schlüssel sein. Tupel können als Schlüssel verwendet werden, wenn sie nur Strings, Zahlen oder Tupel enthalten; enthält ein Tupel direkt oder indirekt ein veränderbares Objekt, kann es nicht als Schlüssel verwendet werden. Listen können nicht als Schlüssel verwendet werden.\n",
    "\n",
    "Ein Paar geschweifte Klammern erzeugt ein leeres Dictionary: {}. Eine kommagetrennte Liste von Schlüssel:Wert-Paaren innerhalb der geschweiften Klammern fügt dem Dictionary Schlüssel:Wert-Paare hinzu; dies ist auch die Art und Weise, wie Dictionaries bei der Ausgabe geschrieben werden. Innerhalb eines Dictionary müssen die Schlüssel verschieden sein."
   ]
  },
  {
   "cell_type": "code",
   "execution_count": 2,
   "metadata": {},
   "outputs": [
    {
     "data": {
      "text/plain": [
       "593145"
      ]
     },
     "execution_count": 2,
     "metadata": {},
     "output_type": "execute_result"
    }
   ],
   "source": [
    "staedte_einwohner = {\"Berlin\": 3_669_491,\n",
    "                    \"Hamburg\": 1_847_253,\n",
    "                    \"München\": 1_484_226,\n",
    "                    \"Köln\": 1_087_863,\n",
    "                    \"Frankfurt am Main\": 763_380,\n",
    "                    \"Stuttgart\": 635_911,\n",
    "                    \"Düsseldorf\": 621_877,\n",
    "                    \"Leipzig\": 593_145,\n",
    "                    \"Dortmund\": 588_250,\n",
    "                    \"Essen\": 582_760,\n",
    "                    \"Bremen\": 567_559,\n",
    "                    \"Dresden\": 556_780,\n",
    "                    \"Hannover\": 536_925,\n",
    "                    \"Nürnberg\": 518_370}\n",
    "\n",
    "#Zugriff auf einzelne Elemente\n",
    "staedte_einwohner[\"Leipzig\"]"
   ]
  },
  {
   "cell_type": "markdown",
   "metadata": {},
   "source": [
    "Dictionaries können auch erweitert werden, z.B. ausgehend von einem leeren Dictionary"
   ]
  },
  {
   "cell_type": "code",
   "execution_count": 4,
   "metadata": {},
   "outputs": [
    {
     "name": "stdout",
     "output_type": "stream",
     "text": [
      "{'rot': 'rouge', 'grün': 'vert', 'blau': 'bleu'}\n",
      "Das französische Wort für gelb ist jaune\n"
     ]
    }
   ],
   "source": [
    "de_fr={} #oder de_fr=dict()\n",
    "de_fr[\"rot\"]=\"rouge\"\n",
    "de_fr[\"grün\"]=\"vert\"\n",
    "de_fr[\"blau\"]=\"bleu\"\n",
    "\n",
    "print(de_fr)\n",
    "\n",
    "de_fr[\"gelb\"]=\"jaune\"\n",
    "\n",
    "print(\"Das französische Wort für gelb ist \" + de_fr[\"gelb\"])\n"
   ]
  },
  {
   "cell_type": "markdown",
   "metadata": {},
   "source": [
    "Auch Dictionaries sind als Schlüssel möglich."
   ]
  },
  {
   "cell_type": "code",
   "execution_count": 7,
   "metadata": {},
   "outputs": [
    {
     "name": "stdout",
     "output_type": "stream",
     "text": [
      "jaune\n"
     ]
    }
   ],
   "source": [
    "de_en={\"rot\":\"red\",\"grün\":\"green\",\"blau\":\"blue\",\"gelb\":\"yellow\"}\n",
    "woerterbuecher = {\"Englisch\" : de_en, \"Französisch\" : de_fr }\n",
    "print(woerterbuecher[\"Französisch\"][\"gelb\"])"
   ]
  },
  {
   "cell_type": "markdown",
   "metadata": {},
   "source": [
    "Folgende **Operatoren** sind für Dictionaries definiert:\n",
    "\n",
    "- *len(d)* liefert die Anzahl aller im Dictionary enthaltenen Elemente, d.h. Schlüssel-Werte-Paare\n",
    "- *del d[k]}* löscht den Schlüssel *k* zusammen mit seinem Wert\n",
    "- *k in d* (bzw. *k not in d*)  hat den Wert *True*, wenn es im Dictionary *d* einen Schlüssel *k* gibt (bzw. nicht gibt)\n",
    "-  Es ist auch eine Iteration durch die Schlüssel und Werte eines Dictionaries möglich.\n",
    "\n"
   ]
  },
  {
   "cell_type": "code",
   "execution_count": 9,
   "metadata": {},
   "outputs": [
    {
     "name": "stdout",
     "output_type": "stream",
     "text": [
      "4\n",
      "False\n",
      "True\n"
     ]
    }
   ],
   "source": [
    "print(len(de_fr))\n",
    "print(\"schwarz\" in de_fr)\n",
    "print(\"gelb\" in de_fr)\n",
    "\n"
   ]
  },
  {
   "cell_type": "code",
   "execution_count": 10,
   "metadata": {},
   "outputs": [
    {
     "name": "stdout",
     "output_type": "stream",
     "text": [
      "rot rouge\n",
      "grün vert\n",
      "blau bleu\n",
      "gelb jaune\n",
      "rouge\n",
      "vert\n",
      "bleu\n",
      "jaune\n",
      "rot\n",
      "grün\n",
      "blau\n",
      "gelb\n",
      "rouge\n",
      "vert\n",
      "bleu\n",
      "jaune\n",
      "('rot', 'rouge')\n",
      "('grün', 'vert')\n",
      "('blau', 'bleu')\n",
      "('gelb', 'jaune')\n"
     ]
    }
   ],
   "source": [
    "#Iteration\n",
    "for k, v in de_fr.items():\n",
    "    print(k, v)\n",
    "    \n",
    "for k in de_fr:\n",
    "    print(de_fr[k])  \n",
    "    \n",
    "for k in de_fr.keys():\n",
    "    print(k)\n",
    "\n",
    "for v in de_fr.values():\n",
    "    print(v)\n",
    "    \n",
    "for d in de_fr.items():\n",
    "    print(d)"
   ]
  },
  {
   "cell_type": "markdown",
   "metadata": {},
   "source": [
    "Verschiedene **Methoden** sind für Dictionaries definiert:\n",
    "- *pop()* und *popitem()*: Ähnlich wie bei Listen werden hier Elemente des Dictionaries entfernt. \n",
    "- *pop* benötigt einen Schlüssel als Parameter und entfernt das entsprechende Element mit Schlüssel und Wert. *popitem* entfernt das letzte Element des Dictionaries.\n",
    "- *clear()* löscht alle Elemente aus dem Dictionary.\n",
    "- Weitere Methodensind *keys(), item()* und *values()*."
   ]
  },
  {
   "cell_type": "code",
   "execution_count": 12,
   "metadata": {},
   "outputs": [
    {
     "ename": "KeyError",
     "evalue": "'Hannover'",
     "output_type": "error",
     "traceback": [
      "\u001b[1;31m---------------------------------------------------------------------------\u001b[0m",
      "\u001b[1;31mKeyError\u001b[0m                                  Traceback (most recent call last)",
      "\u001b[1;32m~\\AppData\\Local\\Temp\\ipykernel_14156\\3195034859.py\u001b[0m in \u001b[0;36m<module>\u001b[1;34m\u001b[0m\n\u001b[1;32m----> 1\u001b[1;33m \u001b[0mstaedte_einwohner\u001b[0m\u001b[1;33m.\u001b[0m\u001b[0mpop\u001b[0m\u001b[1;33m(\u001b[0m\u001b[1;34m\"Hannover\"\u001b[0m\u001b[1;33m)\u001b[0m\u001b[1;33m\u001b[0m\u001b[1;33m\u001b[0m\u001b[0m\n\u001b[0m\u001b[0;32m      2\u001b[0m \u001b[0mprint\u001b[0m\u001b[1;33m(\u001b[0m\u001b[0mstaedte_einwohner\u001b[0m\u001b[1;33m)\u001b[0m\u001b[1;33m\u001b[0m\u001b[1;33m\u001b[0m\u001b[0m\n\u001b[0;32m      3\u001b[0m \u001b[0mstaedte_einwohner\u001b[0m\u001b[1;33m.\u001b[0m\u001b[0mpopitem\u001b[0m\u001b[1;33m(\u001b[0m\u001b[1;33m)\u001b[0m\u001b[1;33m\u001b[0m\u001b[1;33m\u001b[0m\u001b[0m\n\u001b[0;32m      4\u001b[0m \u001b[0mprint\u001b[0m\u001b[1;33m(\u001b[0m\u001b[0mstaedte_einwohner\u001b[0m\u001b[1;33m)\u001b[0m\u001b[1;33m\u001b[0m\u001b[1;33m\u001b[0m\u001b[0m\n\u001b[0;32m      5\u001b[0m \u001b[1;33m\u001b[0m\u001b[0m\n",
      "\u001b[1;31mKeyError\u001b[0m: 'Hannover'"
     ]
    }
   ],
   "source": [
    "staedte_einwohner.pop(\"Hannover\")\n",
    "print(staedte_einwohner)\n",
    "staedte_einwohner.popitem()\n",
    "print(staedte_einwohner)\n",
    "\n",
    "print(staedte_einwohner.keys())\n",
    "print(staedte_einwohner.values())\n",
    "print(staedte_einwohner.items())\n",
    "\n",
    "staedte_einwohner.clear()\n"
   ]
  },
  {
   "cell_type": "markdown",
   "metadata": {},
   "source": [
    "**Aufgabe**\n",
    "\n",
    "Fragen Sie  über Input einen String ab und geben Sie dann ein Wörterbuch ausgibt, das jedem Zeichen im String zuordnet, wie häufig dieses Zeichen vorkommt. Wird der String \"Hallo Welt\" eingegeben, soll das Wörterbuch {'H': 1, 'a': 1, 'l': 3, 'o': 1, ' ': 1, 'W': 1, 'e': 1, 't': 1} ausgegeben werden. \n",
    "\n",
    "Hinweis: *list(s)* zerlegt einen String *s* in die einzelnen Zeichen des Strings."
   ]
  },
  {
   "cell_type": "code",
   "execution_count": null,
   "metadata": {},
   "outputs": [],
   "source": [
    "\n",
    "\n"
   ]
  }
 ],
 "metadata": {
  "kernelspec": {
   "display_name": "Python 3 (ipykernel)",
   "language": "python",
   "name": "python3"
  },
  "language_info": {
   "codemirror_mode": {
    "name": "ipython",
    "version": 3
   },
   "file_extension": ".py",
   "mimetype": "text/x-python",
   "name": "python",
   "nbconvert_exporter": "python",
   "pygments_lexer": "ipython3",
   "version": "3.9.12"
  }
 },
 "nbformat": 4,
 "nbformat_minor": 2
}
