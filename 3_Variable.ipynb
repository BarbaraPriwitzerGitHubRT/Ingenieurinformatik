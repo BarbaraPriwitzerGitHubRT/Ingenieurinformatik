{
 "cells": [
  {
   "cell_type": "markdown",
   "metadata": {},
   "source": [
    "**Datentypen, Variable und Konstante**\n",
    "\n",
    "In Python lässt sich der Datentyp durch *type()* abfragen. Zu beachten ist außerdem, dass Python den Datentyp einer Variable bzw. Konstante automatisch erkennt."
   ]
  },
  {
   "cell_type": "code",
   "execution_count": 1,
   "metadata": {},
   "outputs": [],
   "source": [
    "a=2\n",
    "print(type(a))\n",
    "a=int(a/3)\n",
    "print(type(a))\n",
    "a"
   ]
  },
  {
   "cell_type": "markdown",
   "metadata": {},
   "source": [
    "Weitere spezielle Datentypen in Python:"
   ]
  },
  {
   "cell_type": "code",
   "execution_count": 2,
   "metadata": {},
   "outputs": [],
   "source": [
    "type(2+3j)"
   ]
  },
  {
   "cell_type": "code",
   "execution_count": 3,
   "metadata": {},
   "outputs": [],
   "source": [
    "type([2,'a'])"
   ]
  },
  {
   "cell_type": "markdown",
   "metadata": {},
   "source": [
    "Nachfolgend entsteht auch wieder eine Liste, die über Anfang, Ende und Inkrementierung definiert ist."
   ]
  },
  {
   "cell_type": "code",
   "execution_count": 5,
   "metadata": {},
   "outputs": [],
   "source": [
    "x=range(3,9,2)\n",
    "type(x)"
   ]
  },
  {
   "cell_type": "markdown",
   "metadata": {},
   "source": [
    "Der Unterschied zwischen List und Tuple ist, dass die Elemente eines Tuples nicht verändert werden können, während Listenelemente überschrieben werden dürfen."
   ]
  },
  {
   "cell_type": "code",
   "execution_count": 9,
   "metadata": {},
   "outputs": [
    {
     "name": "stdout",
     "output_type": "stream",
     "text": [
      "<class 'list'>\n"
     ]
    }
   ],
   "source": [
    "#Tuple\n",
    "b=(2,'a')\n",
    "print(type(b))\n",
    "\n",
    "#Liste\n",
    "c=[2,'a']\n",
    "print(type(c))\n",
    "c[0]=3\n",
    "print(c)\n",
    "\n",
    "b[0]=3"
   ]
  },
  {
   "cell_type": "markdown",
   "metadata": {},
   "source": [
    "Bei einer Menge ist die Reihenfolge der Elemente unwichtig:"
   ]
  },
  {
   "cell_type": "code",
   "execution_count": 17,
   "metadata": {},
   "outputs": [
    {
     "data": {
      "text/plain": [
       "True"
      ]
     },
     "execution_count": 17,
     "metadata": {},
     "output_type": "execute_result"
    }
   ],
   "source": [
    "type({2,'a'})\n",
    "{2,'a'}=={'a',2}"
   ]
  },
  {
   "cell_type": "markdown",
   "metadata": {},
   "source": [
    "**Beispiel**\n",
    "\n",
    "In einem Programm soll der Wert zweier Variablen vertauscht werden (z. B. *a = 2, b = 3* soll geändert werden zu *a = 3, b = 2*). Warum funktioniert dies nicht mit nachfolgendem Programmstück:"
   ]
  },
  {
   "cell_type": "code",
   "execution_count": 12,
   "metadata": {},
   "outputs": [],
   "source": [
    "a=3\n",
    "b=2\n",
    "\n",
    "\n",
    "a = b\n",
    "b = a\n",
    "#print('a ist %d' %a)\n",
    "#print('b ist %d' %b)"
   ]
  },
  {
   "cell_type": "markdown",
   "metadata": {},
   "source": [
    "**Implizite Typumwandlung**\n",
    "\n",
    "Diese wird automatisch durch den Compiler vorgenommen, wenn der Wert der Variablen überschrieben wird."
   ]
  },
  {
   "cell_type": "code",
   "execution_count": 14,
   "metadata": {},
   "outputs": [],
   "source": [
    "a = range(4)\n",
    "type(a)\n",
    "a=5/6\n",
    "#print(type(a))\n",
    "a='hallo'\n",
    "#print(type(a))\n"
   ]
  },
  {
   "cell_type": "markdown",
   "metadata": {},
   "source": [
    "**Explizite Typumwandlung**\n",
    "\n",
    "Explizite Typumwandlung wird im Programmcode ausdrücklich geschrieben. Dazu\n",
    "wird der Name des gewünschten Typs geklammert vor den zu konvertierenden\n",
    "Ausdruck gestellt:"
   ]
  },
  {
   "cell_type": "code",
   "execution_count": 18,
   "metadata": {},
   "outputs": [],
   "source": [
    "a = 9\n",
    "print(type(a))\n",
    "a=float(9)\n",
    "print(type(a))\n",
    "a=str(a)\n",
    "print(type(a))\n",
    "print('a ist ' + a)"
   ]
  },
  {
   "cell_type": "markdown",
   "metadata": {},
   "source": [
    "Diese explizite Typumwandlung ist jedoch nicht in allen Fällen möglich:"
   ]
  },
  {
   "cell_type": "code",
   "execution_count": 19,
   "metadata": {},
   "outputs": [],
   "source": [
    "a =[7]\n",
    "print(type(a))\n",
    "a=int(a)"
   ]
  },
  {
   "cell_type": "markdown",
   "metadata": {},
   "source": [
    "**Zuweisungsoperator**\n",
    "\n",
    "Der folgende Ausdruck liefert einen Syntaxfehler, da auf der linken Seite kein Speicherobjekt\n",
    "steht.\n",
    "\n"
   ]
  },
  {
   "cell_type": "code",
   "execution_count": 21,
   "metadata": {},
   "outputs": [],
   "source": [
    "#falsche Verwendung des Zuweisungsoperators\n",
    "#5 = a\n",
    "\n"
   ]
  },
  {
   "cell_type": "code",
   "execution_count": null,
   "metadata": {},
   "outputs": [],
   "source": [
    "# weiteres Beispiel\n",
    "a=-3\n",
    "print(type(a))\n",
    "a**=4\n",
    "print(a)"
   ]
  },
  {
   "cell_type": "markdown",
   "metadata": {},
   "source": [
    "Für welche Integer-Werte *a* haben folgende Verknüpfungen den Wert *True*: "
   ]
  },
  {
   "cell_type": "code",
   "execution_count": 22,
   "metadata": {},
   "outputs": [],
   "source": [
    "a=\n",
    "(a<3 or a>10) and (a//2<5)\n"
   ]
  },
  {
   "cell_type": "code",
   "execution_count": 23,
   "metadata": {},
   "outputs": [],
   "source": [
    "a=\n",
    "(a%4==2) and (a<20) and (a>=5)"
   ]
  },
  {
   "cell_type": "code",
   "execution_count": 24,
   "metadata": {},
   "outputs": [],
   "source": [
    "a=\n",
    "not(a**2>10) or (a*a==1)"
   ]
  }
 ],
 "metadata": {
  "kernelspec": {
   "display_name": "Python 3",
   "language": "python",
   "name": "python3"
  },
  "language_info": {
   "codemirror_mode": {
    "name": "ipython",
    "version": 3
   },
   "file_extension": ".py",
   "mimetype": "text/x-python",
   "name": "python",
   "nbconvert_exporter": "python",
   "pygments_lexer": "ipython3",
   "version": "3.8.5"
  }
 },
 "nbformat": 4,
 "nbformat_minor": 2
}
