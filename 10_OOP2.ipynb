{
 "cells": [
  {
   "cell_type": "markdown",
   "metadata": {},
   "source": [
    "**Hierarchie von Klassen: abgeleitete Klassen**\n",
    "\n",
    "**Teil 1**\n",
    "\n",
    "\n",
    "In objektorientierten Sprachen können Klassen von anderen Klassen abgeleitet werden. Die abgeleitete Klasse erbt Variablen und Methoden von der Basisklasse. Somit unterstützen die abgeleiteten Klassen die gleichen Methoden/Variablen wie die Basisklassen -und können überall dort benutzt werden, wo die Basisklasse benutzt werden kann.\n",
    "\n",
    "Für abgeleitete Klassen können genau wie für Basisklassen Methoden und Variable definiert werden.\n",
    "\n",
    "\n"
   ]
  },
  {
   "cell_type": "code",
   "execution_count": 1,
   "metadata": {},
   "outputs": [],
   "source": [
    "class Person: \n",
    "\n",
    "    def __init__(self, vorname, nachname):\n",
    "        self._vorname = vorname\n",
    "        self._nachname = nachname\n",
    "               \n",
    "    def printinfos(self):\n",
    "       print(self._vorname, self._nachname)\n",
    "\n",
    "#die abgeleitete Klasse bezieht sich in der Definition auf die übergeordnete Klasse\n",
    "class Student(Person):\n",
    "    pass #keine weiteren Eigenschaften oder Methoden   "
   ]
  },
  {
   "cell_type": "code",
   "execution_count": 2,
   "metadata": {},
   "outputs": [],
   "source": [
    "s=Student('Alex','Maier')\n",
    "s.printinfos()"
   ]
  },
  {
   "cell_type": "markdown",
   "metadata": {},
   "source": [
    "**Vererbung**\n",
    "\n",
    "Durch  Vererbung übernimmt eine abgeleitete Klasse die Variablen und die Methoden der Basisklasse. \n",
    "\n",
    "Wird eine angeforderte Variable oder Methode nicht innerhalb der Klasse gefunden, so wird in der Basisklasse weitergesucht. Diese Regel wird rekursiv angewandt, wenn die Basisklasse selbst von einer anderen Klasse abgeleitet wird.\n",
    "\n",
    "\n"
   ]
  },
  {
   "cell_type": "code",
   "execution_count": 3,
   "metadata": {},
   "outputs": [],
   "source": [
    "class Student(Person):\n",
    "    def __init__(self, vorname, nachname,mtknr):\n",
    "        self._vorname = vorname\n",
    "        self._nachname = nachname\n",
    "        self.matrikelnr = mtknr"
   ]
  },
  {
   "cell_type": "code",
   "execution_count": 4,
   "metadata": {},
   "outputs": [],
   "source": [
    "lisa=Student('Lisa', 'Stein', 123456)\n",
    "\n",
    "#Die Methode printinfos() wurde vererbt\n",
    "lisa.printinfos()"
   ]
  },
  {
   "cell_type": "markdown",
   "metadata": {},
   "source": [
    "Die *super()*-Funktion in einer Methode (auch in einer Verwaltungsmethode wie dem Konstruktor) sorgt dafür, dass die Eigenschaften der Methode an die abgeleitete Klasse vererbt werden. Zusätzlich können nun weitere Variablen definiert werden oder Methoden erweitert werden."
   ]
  },
  {
   "cell_type": "code",
   "execution_count": 7,
   "metadata": {},
   "outputs": [],
   "source": [
    "class Student(Person):\n",
    "    def __init__(self, vorname, nachname,mtknr):\n",
    "        super().__init__(vorname, nachname) #hier wird __init__ der Basisklasse vererbt\n",
    "        self.matrikelnr = mtknr #hier wird __init__ für die abgeleitete Klasse erweitert\n",
    "        \n",
    "maxM=Student('Max','Moritz',123123)\n",
    "print(maxM._vorname)\n",
    "print(maxM.matrikelnr)"
   ]
  },
  {
   "cell_type": "markdown",
   "metadata": {},
   "source": [
    "**Überschreiben**\n",
    "\n",
    "Der Begriff Überschreiben (Englisch: override) beschreibt eine Technik in der objektorientierten Programmierung, die es einer abgeleiteten Klasse erlaubt, eine eigene Implementierung einer von der Basisklasse geerbten Methode zu definieren. Dabei ersetzt die überschreibende Methode der abgeleiteten Klasse die überschriebene Methode. \n",
    "\n",
    "Damit entsteht\n",
    "in Basis- und Kindklasse unterschiedliches Verhalten.\n",
    "Überschriebene Methoden aus der Basisklasse und jede beliebige andere Methode aus der Basisklasse können\n",
    "aus der abgeleiteten Klasse heraus mit ihrem Namen angesprochen werden.\n",
    "\n",
    "In Python ist das Schlüsselwort *super()* hilfreich, mit dem angegeben werden kann, wie die übergeordnete Methode überschrieben wird."
   ]
  },
  {
   "cell_type": "code",
   "execution_count": 8,
   "metadata": {},
   "outputs": [],
   "source": [
    "class Student(Person):\n",
    "    def __init__(self, vorname, nachname,mtknr):\n",
    "        self._vorname = vorname\n",
    "        self._nachname = nachname\n",
    "        self.matrikelnr = mtknr\n",
    "\n",
    "    def printinfos(self):\n",
    "       print(self._vorname, self._nachname,'hat die Matrikelnummer',self.matrikelnr) \n",
    "        #Überschreiben der Methode printinfos()\n"
   ]
  },
  {
   "cell_type": "code",
   "execution_count": 10,
   "metadata": {},
   "outputs": [],
   "source": [
    "lisa=Student('Lisa', 'Stein',123456)\n",
    "lisa.printinfos()\n",
    "\n",
    "lisa2=Person('Lisa', 'Stein')\n",
    "lisa2.printinfos()    #für Person ist die ursprüngliche Methode erhalten geblieben"
   ]
  },
  {
   "cell_type": "markdown",
   "metadata": {},
   "source": [
    "**Aufgabe**\n",
    "\n",
    "Unten ist die Klasse Fahrzeug und die abgeleitete Klasse Personenwagen definiert.\n",
    "\n",
    "- Bilden Sie eine Instanz Personenwagen und verwenden Sie für diese Instanz die Methode *get_infos*.\n",
    "- Definieren Sie eine von Fahrzeug abgeleitete Klasse Lastwagen mit der zusätzlichen Instanzvariable *last* und überschreiben Sie die Methode *get_infos*, so dass Sie Informationen zur möglichen Zuladung *last* erhalten.\n",
    "- Bilden Sie eine Instanz Lastwagen und verwenden Sie dafür die überschriebene Methode *get_infos*."
   ]
  },
  {
   "cell_type": "code",
   "execution_count": 1,
   "metadata": {},
   "outputs": [],
   "source": [
    "class Fahrzeug:\n",
    "    def __init__(self, marke, hubraum, leistung):\n",
    "        self.marke = marke\n",
    "        self.hubraum = hubraum\n",
    "        self.leistung = leistung\n",
    "\n",
    "    def get_infos(self):\n",
    "        return \"Marke: \" + self.marke + \", Hubraum: \" +   str(self.hubraum) + \", Leistung: \" + str(self.leistung)\n",
    "\n",
    "class Personenwagen(Fahrzeug):\n",
    "    def __init__(self, marke, hubraum, leistung, anz_plaetze):\n",
    "        super().__init__(marke, hubraum, leistung)\n",
    "        self.anz_plaetze = anz_plaetze\n",
    "    \n",
    "    def get_infos(self):\n",
    "        return super().get_infos() + \", Anzahl Plaetze: \" + str(self.anz_plaetze)\n",
    "    \n"
   ]
  },
  {
   "cell_type": "code",
   "execution_count": 11,
   "metadata": {},
   "outputs": [],
   "source": [
    "#Instanz Personenwagen\n"
   ]
  },
  {
   "cell_type": "code",
   "execution_count": 4,
   "metadata": {},
   "outputs": [],
   "source": [
    "#neue abgeleitete Klasse: Lastwagen\n"
   ]
  },
  {
   "cell_type": "code",
   "execution_count": 12,
   "metadata": {},
   "outputs": [],
   "source": [
    "#Instanz Lastwagen und Methode get_infos"
   ]
  },
  {
   "cell_type": "markdown",
   "metadata": {},
   "source": [
    "**Teil 2**\n",
    "\n",
    "**Variablentyp protected**\n",
    "\n",
    "Das Beispiel unten demonstriert, wie der Variablentyp *protected* für abgeleitete Klassen genutzt werden kann. Werden die Instanzvariable für *Form* private definiert, so erhält man eine Fehlermeldung."
   ]
  },
  {
   "cell_type": "code",
   "execution_count": 3,
   "metadata": {},
   "outputs": [],
   "source": [
    "# Basisklasse \n",
    "class Form: \n",
    "      \n",
    "    # Konstruktor \n",
    "    def __init__(self, length, breadth): \n",
    "        self.__length = length\n",
    "        self.__breadth = breadth \n",
    "          \n",
    "    # Instanzmethode\n",
    "    def displaySides(self):   \n",
    "        # Zugriff auf die geschützten Variablen\n",
    "        print(\"Länge der Form: \", self.__length) \n",
    "        print(\"Breite der Form: \", self.__breadth) \n",
    "  \n",
    "  \n",
    "# abgeleitete Klasse \n",
    "class Rechteck(Form): \n",
    "  \n",
    "    # Konstruktor \n",
    "    def __init__(self, length, breadth): \n",
    "        # noch eine Variante zur Vererbung: Aufruf des Konstruktors der Basisklasse \n",
    "        Form.__init__(self, length, breadth)\n",
    "\n",
    "    #Instanzmethode\n",
    "    def calculateArea(self): \n",
    "        # Zugriff auf die geschützten Variablen -> erzeugt Fehlermeldung\n",
    "        # daher besser: protected Variable benutzen\n",
    "        print(\"Fläche des Rechtecks: \", self.__length * self.__breadth) \n",
    "                      "
   ]
  },
  {
   "cell_type": "code",
   "execution_count": 16,
   "metadata": {},
   "outputs": [],
   "source": [
    "# Erzeugen von Instanzen        \n",
    "obj = Rechteck(80, 50) \n",
    "  \n",
    "# Aufruf der vererbten Methode\n",
    "obj.displaySides()\n",
    "  \n",
    "# Aufruf der Instanzmethode der abgeleiteten Klasse\n",
    "obj.calculateArea()"
   ]
  },
  {
   "cell_type": "markdown",
   "metadata": {},
   "source": [
    "Schreiben Sie nun den Code um unter Verwendung des Variablentyps private und testen Sie, dass dann die Verwendung von calculateArea möglich ist."
   ]
  },
  {
   "cell_type": "code",
   "execution_count": null,
   "metadata": {},
   "outputs": [],
   "source": []
  },
  {
   "cell_type": "markdown",
   "metadata": {},
   "source": [
    "**Teil 3**\n",
    "\n",
    "**Mehrfachvererbung**\n",
    "\n",
    "Mehrfachvererbung kann auf zwei Arten realisiert werden\n",
    "- Von einer Klasse kann wiederum eine Klasse abgeleitet werden."
   ]
  },
  {
   "cell_type": "code",
   "execution_count": 4,
   "metadata": {},
   "outputs": [],
   "source": [
    "class Quadrat(Rechteck):\n",
    "        # Konstruktor \n",
    "    def __init__(self, length): \n",
    "        # noch eine Variante zur Vererbung: Aufruf des Konstruktors der Basisklasse \n",
    "        Form.__init__(self, length, length)\n"
   ]
  },
  {
   "cell_type": "code",
   "execution_count": null,
   "metadata": {},
   "outputs": [],
   "source": [
    "# Erzeugen von Instanzen        \n",
    "obj2 = Quadrat(60)\n",
    "  \n",
    "# Aufruf der vererbten Methode der Basisklasse\n",
    "obj2.displaySides()\n",
    "  \n",
    "# Aufruf der vererbten Methode der abgeleiteten Klasse\n",
    "obj2.calculateArea()"
   ]
  },
  {
   "cell_type": "markdown",
   "metadata": {},
   "source": [
    "- Eine abgeleitete Klasse wird von zwei oder mehr Basisklassen abgeleitet."
   ]
  },
  {
   "cell_type": "code",
   "execution_count": null,
   "metadata": {},
   "outputs": [],
   "source": [
    "# Basisklasse \n",
    "class Design: \n",
    "      \n",
    "    # Konstruktor \n",
    "    def __init__(self, filling, line): \n",
    "        self._filling = filling\n",
    "        self._line = line \n",
    "          \n",
    "    # Instanzmethode\n",
    "    def displayDesign(self):   \n",
    "        print(\"Füllungsfarbe ist: \", self._filling) \n",
    "        print(\"Linienfarbe ist: \", self._line) \n",
    "  \n",
    "  \n",
    "# abgeleitete Klasse \n",
    "class BuntesRechteck(Form, Design): \n",
    "  \n",
    "    # Konstruktor \n",
    "    def __init__(self, length, breadth, filling,line): \n",
    "        # noch eine Variante zur Vererbung: Aufruf des Konstruktors der Basisklasse \n",
    "        Form.__init__(self, length, breadth)\n",
    "        Design.__init__(self, filling, line)\n"
   ]
  },
  {
   "cell_type": "code",
   "execution_count": null,
   "metadata": {},
   "outputs": [],
   "source": [
    "# Erzeugen von Instanzen        \n",
    "obj3 = BuntesRechteck(40,60,'gelb','rot')\n",
    "  \n",
    "# Aufruf der vererbten Methoden der Basisklasse\n",
    "obj3.displaySides()\n",
    "\n",
    "obj3.displayDesign()"
   ]
  },
  {
   "cell_type": "markdown",
   "metadata": {},
   "source": [
    "Definieren Sie eine abgeleitete Klasse BuntesQuadrat ähnlich wie BuntesRechteck. Bilden Sie dann eine Instanz dieser Klasse und demonstrieren Sie die Anwendung von Methoden für diese Instanz."
   ]
  },
  {
   "cell_type": "code",
   "execution_count": null,
   "metadata": {},
   "outputs": [],
   "source": []
  }
 ],
 "metadata": {
  "kernelspec": {
   "display_name": "Python 3",
   "language": "python",
   "name": "python3"
  },
  "language_info": {
   "codemirror_mode": {
    "name": "ipython",
    "version": 3
   },
   "file_extension": ".py",
   "mimetype": "text/x-python",
   "name": "python",
   "nbconvert_exporter": "python",
   "pygments_lexer": "ipython3",
   "version": "3.8.5"
  }
 },
 "nbformat": 4,
 "nbformat_minor": 2
}
