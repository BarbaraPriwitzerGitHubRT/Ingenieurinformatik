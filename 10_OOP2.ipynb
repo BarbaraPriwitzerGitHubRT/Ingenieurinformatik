{
 "cells": [
  {
   "cell_type": "markdown",
   "metadata": {},
   "source": [
    "**Hierarchie von Klassen: abgeleitete Klassen**\n",
    "\n",
    "\n",
    "In objektorientierten Sprachen können Klassen von anderen Klassen abgeleitet werden. Die abgeleitete Klasse erbt Variablen und Methoden von der Basisklasse. Somit unterstützen die abgeleiteten Klassen die gleichen Methoden/Variablen wie die Basisklassen -und können überall dort benutzt werden, wo die Basisklasse benutzt werden kann.\n",
    "\n",
    "Für abgeleitete Klassen können genau wie für Basisklassen Methoden und Variable definiert werden.\n",
    "\n",
    "\n"
   ]
  },
  {
   "cell_type": "code",
   "execution_count": 7,
   "metadata": {},
   "outputs": [],
   "source": [
    "class Person: \n",
    "\n",
    "    def __init__(self, vorname, nachname):\n",
    "        self._vorname = vorname\n",
    "        self._nachname = nachname\n",
    "               \n",
    "    def printinfos(self):\n",
    "       print(self._vorname, self._nachname)\n",
    "\n",
    "#die abgeleitete Klasse bezieht sich in der Definition auf die übergeordnete Klasse\n",
    "class Student(Person):\n",
    "    pass #keine weiteren Eigenschaften oder Methoden   "
   ]
  },
  {
   "cell_type": "code",
   "execution_count": 8,
   "metadata": {},
   "outputs": [
    {
     "name": "stdout",
     "output_type": "stream",
     "text": [
      "Alex Maier\n"
     ]
    }
   ],
   "source": [
    "s=Student('Alex','Maier')\n",
    "s.printinfos()"
   ]
  },
  {
   "cell_type": "markdown",
   "metadata": {},
   "source": [
    "**Vererbung**\n",
    "\n",
    "Durch  Vererbung übernimmt eine abgeleitete Klasse die Variablen und die Methoden der Basisklasse. \n",
    "\n",
    "Wird eine angeforderte Variable oder Methode nicht innerhalb der Klasse gefunden, so wird in der Basisklasse weitergesucht. Diese Regel wird rekursiv angewandt, wenn die Basisklasse selbst von einer anderen Klasse abgeleitet wird.\n",
    "\n",
    "\n"
   ]
  },
  {
   "cell_type": "code",
   "execution_count": 9,
   "metadata": {},
   "outputs": [],
   "source": [
    "class Student(Person):\n",
    "    def __init__(self, vorname, nachname,mtknr):\n",
    "        self._vorname = vorname\n",
    "        self._nachname = nachname\n",
    "        self.matrikelnr = mtknr"
   ]
  },
  {
   "cell_type": "code",
   "execution_count": 10,
   "metadata": {},
   "outputs": [
    {
     "name": "stdout",
     "output_type": "stream",
     "text": [
      "Lisa Stein\n"
     ]
    }
   ],
   "source": [
    "lisa=Student('Lisa', 'Stein', 123456)\n",
    "\n",
    "#Die Methode printinfos() wurde vererbt\n",
    "lisa.printinfos()"
   ]
  },
  {
   "cell_type": "markdown",
   "metadata": {},
   "source": [
    "**Überschreiben**\n",
    "\n",
    "Der Begriff Überschreiben (Englisch: override) beschreibt eine Technik in der objektorientierten Programmierung, die es einer abgeleiteten Klasse erlaubt, eine eigene Implementierung einer von der Basisklasse geerbten Methode zu definieren. Dabei ersetzt die überschreibende Methode der abgeleiteten Klasse die überschriebene Methode. Es ist auch möglich in der überschreibenden Methode die Methode, die man überschreibt, aufzurufen.\n",
    "\n",
    "Damit entsteht\n",
    "in Basis- und Kindklasse unterschiedliches Verhalten.\n",
    "Überschriebene Methoden aus der Basisklasse und jede beliebige andere Methode aus der Basisklasse können\n",
    "aus der abgeleiteten Klasse heraus mit ihrem Namen angesprochen werden.\n",
    "\n",
    "In Python ist das Schlüsselwort *super()* hilfreich, mit dem angegeben werden kann, wie die übergeordnete Methode überschrieben wird."
   ]
  },
  {
   "cell_type": "code",
   "execution_count": 11,
   "metadata": {},
   "outputs": [],
   "source": [
    "class Student(Person):\n",
    "    def __init__(self, vorname, nachname,mtknr):\n",
    "        self._vorname = vorname\n",
    "        self._nachname = nachname\n",
    "        self.matrikelnr = mtknr\n",
    "\n",
    "    def printinfos(self):\n",
    "       print(self._vorname, self._nachname,'\\n',self.matrikelnr) \n",
    "        #Überschreiben der Methode printinfos()\n"
   ]
  },
  {
   "cell_type": "code",
   "execution_count": 13,
   "metadata": {},
   "outputs": [
    {
     "name": "stdout",
     "output_type": "stream",
     "text": [
      "Lisa Stein \n",
      " 123456\n",
      "Lisa Stein\n"
     ]
    }
   ],
   "source": [
    "lisa=Student('Lisa', 'Stein',123456)\n",
    "lisa.printinfos()\n",
    "\n",
    "lisa2=Person('Lisa', 'Stein')\n",
    "lisa2.printinfos()    "
   ]
  },
  {
   "cell_type": "code",
   "execution_count": 14,
   "metadata": {},
   "outputs": [],
   "source": [
    "#oder mit super\n",
    "class Student(Person):\n",
    "    def __init__(self, vorname, nachname,mtknr):\n",
    "        super().__init__(vorname, nachname)\n",
    "        self.matrikelnr = mtknr\n",
    "\n",
    "    def printinfos(self):\n",
    "        super().printinfos()\n",
    "        print(self.matrikelnr)"
   ]
  },
  {
   "cell_type": "code",
   "execution_count": 15,
   "metadata": {},
   "outputs": [
    {
     "name": "stdout",
     "output_type": "stream",
     "text": [
      "Lisa Stein\n",
      "123456\n"
     ]
    }
   ],
   "source": [
    "lisa=Student('Lisa', 'Stein',123456)\n",
    "lisa.printinfos()\n",
    "    "
   ]
  },
  {
   "cell_type": "markdown",
   "metadata": {},
   "source": [
    "**Aufgabe**\n",
    "\n",
    "Unten ist die Klasse Fahrzeug und die abgeleitete Klasse Personenwagen definiert.\n",
    "\n",
    "- Bilden Sie eine Instanz Personenwagen und verwenden Sie für diese Instanz die Methode *get_infos*.\n",
    "- Definieren Sie eine von Fahrzeug abgeleitete Klasse Lastwagen mit der zusätzlichen Instanzvariable *last* und überschreiben Sie die Methode *get_infos*, so dass auch Informationen zur möglichen Zuladung *last* erhalten.\n",
    "- Bilden Sie eine Instanz Lastwagen."
   ]
  },
  {
   "cell_type": "code",
   "execution_count": 3,
   "metadata": {},
   "outputs": [],
   "source": [
    "class Fahrzeug:\n",
    "    def __init__(self, marke, hubraum, leistung):\n",
    "        self.marke = marke\n",
    "        self.hubraum = hubraum\n",
    "        self.leistung = leistung\n",
    "\n",
    "    def get_infos(self):\n",
    "        return \"Marke: \" + self.marke + \", Hubraum: \" +   str(self.hubraum) + \", Leistung: \" + str(self.leistung)\n",
    "\n",
    "class Personenwagen(Fahrzeug):\n",
    "    def __init__(self, marke, hubraum, leistung, anz_plaetze):\n",
    "        super().__init__(marke, hubraum, leistung)\n",
    "        self.anz_plaetze = anz_plaetze\n",
    "    \n",
    "    def get_infos(self):\n",
    "        return super().get_infos() + \", Anzahl Plaetze: \" + str(self.anz_plaetze)\n",
    "    \n"
   ]
  },
  {
   "cell_type": "code",
   "execution_count": null,
   "metadata": {},
   "outputs": [],
   "source": []
  }
 ],
 "metadata": {
  "kernelspec": {
   "display_name": "Python 3",
   "language": "python",
   "name": "python3"
  },
  "language_info": {
   "codemirror_mode": {
    "name": "ipython",
    "version": 3
   },
   "file_extension": ".py",
   "mimetype": "text/x-python",
   "name": "python",
   "nbconvert_exporter": "python",
   "pygments_lexer": "ipython3",
   "version": "3.8.5"
  }
 },
 "nbformat": 4,
 "nbformat_minor": 2
}
