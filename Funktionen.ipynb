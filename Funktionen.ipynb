{
 "cells": [
  {
   "cell_type": "markdown",
   "metadata": {},
   "source": [
    "**Funktionen in Python**"
   ]
  },
  {
   "cell_type": "code",
   "execution_count": 1,
   "metadata": {},
   "outputs": [],
   "source": [
    "def summe(start,end):                #Funktionskopf mit Schlüsselwort def, Name, Eingabeparametern, Doppelpunkt\n",
    "    wert=0                           #Start Funktionsrumpf\n",
    "    for i in range(start,end+1):\n",
    "        wert=wert+i\n",
    "    return(wert)                     #Ende Funktionsrumpf mit Rückgabewert"
   ]
  },
  {
   "cell_type": "code",
   "execution_count": 3,
   "metadata": {},
   "outputs": [],
   "source": [
    "summe(5,9)\n"
   ]
  },
  {
   "cell_type": "markdown",
   "metadata": {},
   "source": [
    "**Beispiele für Funktionen**"
   ]
  },
  {
   "cell_type": "code",
   "execution_count": 6,
   "metadata": {},
   "outputs": [],
   "source": [
    "def ausgabeString(s):\n",
    "    print(\"Der Name lautet \", str(s))\n",
    "\n",
    "ausgabeString('Anton')"
   ]
  },
  {
   "cell_type": "code",
   "execution_count": 8,
   "metadata": {},
   "outputs": [],
   "source": [
    "def flaecheRechteck(a, b):\n",
    "    return a * b\n",
    "\n",
    "A=flaecheRechteck(10.3, 4.4)\n",
    "print(\"Flaeche: \", str(A))"
   ]
  },
  {
   "cell_type": "code",
   "execution_count": 14,
   "metadata": {},
   "outputs": [],
   "source": [
    "from math import sqrt \n",
    "\n",
    "def dist(xa,ya,xb,yb): \n",
    "    \"\"\"dist - Berechnet den Abstand zweier Punkte. \n",
    "    Übergabeparameter sind \n",
    "    xa,ya (erster Punkt) und xb,yb (zweiter Punkt)\"\"\"\n",
    "    abstand = sqrt((xa-xb)**2+(ya-yb)**2) \n",
    "    return abstand\n",
    "# Punkt 1 \n",
    "x1 = 0.0; y1 = 0.0\n",
    "# Punkt 2\n",
    "x2 = 0.5; y2 = 0.5\n",
    "\n",
    "if (dist(x1,y1,x2,y2)<1):\n",
    "    print('Die Punkte haben einen Abstand kleiner als 1.')"
   ]
  },
  {
   "cell_type": "markdown",
   "metadata": {},
   "source": [
    "**Eingabeparameter einer Funktion**"
   ]
  },
  {
   "cell_type": "code",
   "execution_count": 16,
   "metadata": {},
   "outputs": [],
   "source": [
    "def summe(a, b, c=0, d=0):\n",
    "    return a + b + c + d\n",
    "#Aufruf mit 2,3, oder 4 Eingabeparametern\n",
    "summe(1,2)\n",
    "summe(1,2,3)\n",
    "summe(1,2,3,4)\n"
   ]
  },
  {
   "cell_type": "code",
   "execution_count": 18,
   "metadata": {},
   "outputs": [],
   "source": [
    "#beliebig Anzahl von Eingabeparametern\n",
    "def summe(a, *b):\n",
    "    return a + sum(b)\n",
    "\n",
    "#Aufruf\n",
    "summe(1,2)\n",
    "summe(1,2,3)\n",
    "summe(1,2,3,4)\n",
    "summe(1,2,3,4,5)\n"
   ]
  },
  {
   "cell_type": "markdown",
   "metadata": {},
   "source": [
    "**Aufgabe**\n",
    "\n",
    "Schreiben Sie eine Funktion, die den Mittelwert von beliebig vielen Zahlen berechnet."
   ]
  },
  {
   "cell_type": "code",
   "execution_count": null,
   "metadata": {},
   "outputs": [],
   "source": []
  },
  {
   "cell_type": "markdown",
   "metadata": {},
   "source": [
    "**Rückgabewerte einer Funktion**\n",
    "\n",
    "(1) mehrere Rückgabwerte "
   ]
  },
  {
   "cell_type": "markdown",
   "metadata": {},
   "source": []
  },
  {
   "cell_type": "code",
   "execution_count": 6,
   "metadata": {},
   "outputs": [],
   "source": [
    "from numpy import abs\n",
    "from numpy import max\n",
    "from math import sqrt \n",
    "\n",
    "\n",
    "\n",
    "def dist3(xa,ya,xb,yb): \n",
    "    \"\"\"dist - Berechnet den Abstand zweier Punkte. \n",
    "    Eingabeparameter sind xa,ya (erster Punkt) \n",
    "    und xb,yb (zweiter Punkt)\"\"\"\n",
    "    abstandE = sqrt((xa-xb)**2+(ya-yb)**2)     # euklidischer Abstand\n",
    "    abstandM = abs(xa-xb)+abs(ya-yb)           # Manhattan Abstand\n",
    "    abstandMax = max([abs(xa-xb),abs(ya-yb)])  # Maximum-Abstand\n",
    "    return [abstandE, abstandM, abstandMax]\n",
    "\n",
    "# Punkt 1 \n",
    "x1 = 0.0; y1 = 0.0\n",
    "# Punkt 2\n",
    "x2 = 0.5; y2 = 0.5\n",
    "dist3(x1,y1,x2,y2)"
   ]
  },
  {
   "cell_type": "markdown",
   "metadata": {},
   "source": [
    "(2) kein Rückgabewert"
   ]
  },
  {
   "cell_type": "code",
   "execution_count": 8,
   "metadata": {},
   "outputs": [],
   "source": [
    "def Rechteck(a, b):\n",
    "    F= a * b\n",
    "    U=2*(a+b)\n",
    "    print(\"Das Rechteck hat Fläche %.3f und Umfang %.3f.\\n\"%(F,U))\n",
    "    \n",
    "Rechteck(3,5)"
   ]
  },
  {
   "cell_type": "markdown",
   "metadata": {},
   "source": [
    "**Globale und lokale Variable**\n"
   ]
  },
  {
   "cell_type": "code",
   "execution_count": 15,
   "metadata": {},
   "outputs": [],
   "source": [
    "x = 2\n",
    "\n",
    "def Wurzel2():\n",
    "    global x\n",
    "    x = sqrt(x)\n",
    "    print(x)\n",
    "    \n",
    "def Wurzel2_a(x):\n",
    "    x = sqrt(x)\n",
    "    print(x)\n",
    "\n",
    "Wurzel2_a(x)\n",
    "print(x)\n",
    "Wurzel2()\n",
    "print(x)"
   ]
  },
  {
   "cell_type": "markdown",
   "metadata": {},
   "source": [
    "**Call by reference**"
   ]
  },
  {
   "cell_type": "code",
   "execution_count": 18,
   "metadata": {},
   "outputs": [
    {
     "name": "stdout",
     "output_type": "stream",
     "text": [
      "[1, 2, 3, 4, 5]\n",
      "[-1, 2, 3, 4, 5]\n",
      "[-1, 2, 3, -1, 5]\n"
     ]
    }
   ],
   "source": [
    "def beispielCbR(a,index):\n",
    "    a[index]=-1\n",
    "    \n",
    "def main():\n",
    "    meinArray=[1,2,3,4,5]\n",
    "    print(meinArray)\n",
    "    beispielCbR(meinArray,0)\n",
    "    print(meinArray)\n",
    "    beispielCbR(meinArray,3)\n",
    "    print(meinArray)\n",
    "    \n",
    "main()"
   ]
  },
  {
   "cell_type": "markdown",
   "metadata": {},
   "source": [
    "**Aufgabe**\n",
    "\n",
    "Schreiben Sie eine Funktion *ausfuehren*, die einen String s (z.B. *hallo*) als Eingabeparameter erhält und die eine eingabparamterfreie Python-Funktion mit Namen s (z.B. *hallo*) ausführt."
   ]
  },
  {
   "cell_type": "code",
   "execution_count": null,
   "metadata": {},
   "outputs": [],
   "source": [
    "def hallo():\n",
    "    def hallo():\n",
    "    name=input('Wie heißt Du?\\n')\n",
    "    print('Hallo %s!'%name)"
   ]
  }
 ],
 "metadata": {
  "kernelspec": {
   "display_name": "Python 3",
   "language": "python",
   "name": "python3"
  },
  "language_info": {
   "codemirror_mode": {
    "name": "ipython",
    "version": 3
   },
   "file_extension": ".py",
   "mimetype": "text/x-python",
   "name": "python",
   "nbconvert_exporter": "python",
   "pygments_lexer": "ipython3",
   "version": "3.7.4"
  }
 },
 "nbformat": 4,
 "nbformat_minor": 2
}
