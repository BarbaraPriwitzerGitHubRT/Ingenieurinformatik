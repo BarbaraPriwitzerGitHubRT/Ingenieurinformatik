{
 "cells": [
  {
   "cell_type": "markdown",
   "metadata": {},
   "source": [
    "**Einfache Verzweigung**\n",
    "\n",
    "Eine ganze Zahl wird mit 2 multipliziert, wenn sie gerade ist. Bei einer ungeraden Zahl soll das Ergebnis der ganzzahlige Anteil der Division durch 2 sein."
   ]
  },
  {
   "cell_type": "code",
   "execution_count": 10,
   "metadata": {},
   "outputs": [
    {
     "name": "stdout",
     "output_type": "stream",
     "text": [
      "Geben Sie eine ganze Zahl ein.\n",
      "654\n",
      "1308\n"
     ]
    }
   ],
   "source": [
    "a=int(input('Geben Sie eine ganze Zahl ein.\\n'))\n",
    "if a%2==0:\n",
    "    b=a*2\n",
    "else: \n",
    "    b=a//2\n",
    "print(b)\n"
   ]
  },
  {
   "cell_type": "markdown",
   "metadata": {},
   "source": [
    "**Aufgabe**\n",
    "\n",
    "Schreiben Sie ein Programm, das für eine Zahl x einen Text ausgibt, der sagt,\n",
    "ob x positiv oder negativ ist.\n"
   ]
  },
  {
   "cell_type": "code",
   "execution_count": null,
   "metadata": {},
   "outputs": [],
   "source": [
    "\n"
   ]
  },
  {
   "cell_type": "markdown",
   "metadata": {},
   "source": [
    "**Mehrfache Verzweigung**\n",
    "Der Preis für eine Eintrittskarte ist abhängig vom Alter:"
   ]
  },
  {
   "cell_type": "code",
   "execution_count": 13,
   "metadata": {},
   "outputs": [
    {
     "name": "stdout",
     "output_type": "stream",
     "text": [
      "Die Kinokarte kostet 7 Euro.\n"
     ]
    }
   ],
   "source": [
    "alter=7\n",
    "if (alter >16):\n",
    "    print ('Die Kinokarte kostet 10 Euro.')\n",
    "elif (alter >12):\n",
    "    print ('Die Kinokarte kostet 8 Euro.')\n",
    "else:\n",
    "    print ('Die Kinokarte kostet 7 Euro.')"
   ]
  },
  {
   "cell_type": "markdown",
   "metadata": {},
   "source": [
    "**Aufgabe**\n",
    "\n",
    "Berechnen Sie den  Signalwert *y* in Abhängigkeit von den  Variablen *x* und *a*:\n",
    "$$\n",
    "y=\\begin{cases}\n",
    "0 & x<0\\\\\n",
    "x&0\\le x\\le a\\\\\n",
    "a& \\text{sonst}\n",
    "\\end{cases}\n",
    "$$\n",
    "\n",
    "Die Variable *y* hat den Wert 0 für negative *x*, den Wert *x* für alle *x*-Werte zwischen\n",
    "0 und *a* sowie den Wert *a* für alle Werte $x > a$.\n"
   ]
  },
  {
   "cell_type": "code",
   "execution_count": 16,
   "metadata": {},
   "outputs": [
    {
     "name": "stdout",
     "output_type": "stream",
     "text": [
      "0\n"
     ]
    }
   ],
   "source": [
    "a=3\n",
    "x=-2.7\n",
    "if (x<0):\n",
    "    y=0\n",
    "elif(x<=a):\n",
    "    y=x\n",
    "else:\n",
    "    if(x%2==0):\n",
    "        y=-a\n",
    "    else:\n",
    "        y=a\n",
    "print(y)"
   ]
  },
  {
   "cell_type": "markdown",
   "metadata": {},
   "source": [
    "**Geschachtelte Verzweigung**\n",
    "\n",
    "Mehrfachverzeigungen  können auch ohne Verwendung des Schlüsselwortes *elif*, sondern durch aufeinanderfolgende *if* Verzweigungen realisiert werden."
   ]
  },
  {
   "cell_type": "code",
   "execution_count": 18,
   "metadata": {},
   "outputs": [
    {
     "name": "stdout",
     "output_type": "stream",
     "text": [
      "x ist positiv, und gerade oder durch 3 teilbar.\n"
     ]
    }
   ],
   "source": [
    "x=12\n",
    "\n",
    "if x > 0:\n",
    "    if (x%2 == 0 or x%3 == 0):\n",
    "        print('x ist positiv, und gerade oder durch 3 teilbar.')\n",
    "    else:\n",
    "        print('x ist positiv und ungerade und nicht durch 3 teilbar.')\n",
    "else:\n",
    "    print('x ist negativ.')\n"
   ]
  },
  {
   "cell_type": "markdown",
   "metadata": {},
   "source": [
    "**Zählschleife**\n",
    "\n",
    "Wir bilden die Summe der ersten 10 Quadratzahlen:"
   ]
  },
  {
   "cell_type": "code",
   "execution_count": 22,
   "metadata": {},
   "outputs": [
    {
     "name": "stdout",
     "output_type": "stream",
     "text": [
      "1\n",
      "10\n",
      "35\n",
      "84\n",
      "165\n",
      "165\n"
     ]
    }
   ],
   "source": [
    "n=10\n",
    "s = 0\n",
    "for i in range(1, n+1, 2):\n",
    "    s = s + i*i\n",
    "    print(s)\n",
    "print(s)"
   ]
  },
  {
   "cell_type": "code",
   "execution_count": 21,
   "metadata": {},
   "outputs": [
    {
     "name": "stdout",
     "output_type": "stream",
     "text": [
      "0\n",
      "1\n",
      "5\n",
      "14\n",
      "30\n",
      "55\n",
      "91\n",
      "140\n",
      "204\n",
      "285\n",
      "385\n",
      "385\n"
     ]
    }
   ],
   "source": [
    "n=10\n",
    "s=0    \n",
    "for i in range(n+1):\n",
    "    s = s + i*i\n",
    "    print(s)\n",
    "print(s)"
   ]
  },
  {
   "cell_type": "markdown",
   "metadata": {},
   "source": [
    "**Aufgabe**\n",
    "\n",
    "Schreiben Sie ein Python Skript, das den größten Wert unter den 10 Zahlen $x\\in\\{-n^2+6n-2| n=1,2,\\dots 10\\}$  findet."
   ]
  },
  {
   "cell_type": "code",
   "execution_count": null,
   "metadata": {},
   "outputs": [],
   "source": []
  },
  {
   "cell_type": "markdown",
   "metadata": {},
   "source": [
    "**Geschachtelte Zählschleifen**\n",
    "\n",
    "Wie oft wird der Text ausgegeben?"
   ]
  },
  {
   "cell_type": "code",
   "execution_count": 4,
   "metadata": {},
   "outputs": [
    {
     "name": "stdout",
     "output_type": "stream",
     "text": [
      "1\n",
      "2\n",
      "Hallo Welt 1\n",
      "3\n",
      "Hallo Welt 2\n",
      "4\n",
      "Hallo Welt 3\n",
      "2\n",
      "2\n",
      "Hallo Welt 4\n",
      "3\n",
      "Hallo Welt 5\n",
      "4\n",
      "Hallo Welt 6\n",
      "3\n",
      "2\n",
      "Hallo Welt 7\n",
      "3\n",
      "Hallo Welt 8\n",
      "4\n",
      "Hallo Welt 9\n",
      "4\n",
      "2\n",
      "Hallo Welt 10\n",
      "3\n",
      "Hallo Welt 11\n",
      "4\n",
      "Hallo Welt 12\n",
      "5\n",
      "2\n",
      "Hallo Welt 13\n",
      "3\n",
      "Hallo Welt 14\n",
      "4\n",
      "Hallo Welt 15\n"
     ]
    }
   ],
   "source": [
    "anzahl =0\n",
    "\n",
    "for i in range(1,6):\n",
    "    for j in range(2,5):\n",
    "        anzahl = anzahl + 1\n",
    "        print('Hallo Welt' , anzahl)"
   ]
  },
  {
   "cell_type": "markdown",
   "metadata": {},
   "source": [
    "**while-Schleife**\n",
    "\n",
    "Die while-Schleife ist eine bedingte Iteration.\n",
    "\n",
    "Beispiel: Summe der ersten 10 Quadratzahlen"
   ]
  },
  {
   "cell_type": "code",
   "execution_count": 5,
   "metadata": {},
   "outputs": [
    {
     "name": "stdout",
     "output_type": "stream",
     "text": [
      "385\n"
     ]
    }
   ],
   "source": [
    "i = 1\n",
    "s=0\n",
    "while i <= 10:\n",
    "    s=s+i*i\n",
    "    i = i+1\n",
    "print(s)"
   ]
  },
  {
   "cell_type": "markdown",
   "metadata": {},
   "source": [
    "**Aufgabe**\n",
    "\n",
    "\n",
    "Teilen Sie eine natürliche Zahl immer wieder  durch 2, so lange das Ergebnis gerade ist.\n"
   ]
  },
  {
   "cell_type": "code",
   "execution_count": 8,
   "metadata": {},
   "outputs": [
    {
     "name": "stdout",
     "output_type": "stream",
     "text": [
      "Geben Sie eine natürliche Zahl ein: 4044\n",
      "1011.0\n"
     ]
    }
   ],
   "source": [
    "n=int(input('Geben Sie eine natürliche Zahl ein: '))\n",
    "while(n%2==0):\n",
    "    n/=2\n",
    "print(n)"
   ]
  },
  {
   "cell_type": "markdown",
   "metadata": {},
   "source": [
    "**Sprunganweisungen**\n",
    "\n",
    "Python verfügt über die beiden Sprunganweisungen *break* und *continue*.\n"
   ]
  },
  {
   "cell_type": "code",
   "execution_count": 9,
   "metadata": {},
   "outputs": [
    {
     "name": "stdout",
     "output_type": "stream",
     "text": [
      "s\n",
      "t\n",
      "r\n",
      "The end\n"
     ]
    }
   ],
   "source": [
    "for val in \"string\":\n",
    "    if val == \"i\":\n",
    "        break\n",
    "    print(val)\n",
    "\n",
    "print(\"The end\")"
   ]
  },
  {
   "cell_type": "code",
   "execution_count": 10,
   "metadata": {},
   "outputs": [
    {
     "name": "stdout",
     "output_type": "stream",
     "text": [
      "s\n",
      "t\n",
      "r\n",
      "n\n",
      "g\n",
      "The end\n"
     ]
    }
   ],
   "source": [
    "for val in \"string\":\n",
    "    if val == \"i\":\n",
    "       continue\n",
    "    print(val)\n",
    "print(\"The end\")   "
   ]
  },
  {
   "cell_type": "markdown",
   "metadata": {},
   "source": [
    "Schreiben Sie die beiden Beispiele oben ohne Sprunganweisungen."
   ]
  },
  {
   "cell_type": "code",
   "execution_count": 13,
   "metadata": {},
   "outputs": [
    {
     "name": "stdout",
     "output_type": "stream",
     "text": [
      "s\n",
      "t\n",
      "r\n",
      "The end\n"
     ]
    }
   ],
   "source": [
    "s=\"string\"\n",
    "n=len(s)\n",
    "val=0\n",
    "while (val<n):\n",
    "    if s[val] != \"i\":\n",
    "        print(s[val])\n",
    "        val+=1\n",
    "    else:\n",
    "        val=n       \n",
    "        \n",
    "\n",
    "print(\"The end\")"
   ]
  },
  {
   "cell_type": "code",
   "execution_count": 12,
   "metadata": {},
   "outputs": [
    {
     "name": "stdout",
     "output_type": "stream",
     "text": [
      "s\n",
      "t\n",
      "r\n",
      "n\n",
      "g\n",
      "The end\n"
     ]
    }
   ],
   "source": [
    "for val in \"string\":\n",
    "    if val != \"i\":\n",
    "       print(val)\n",
    "print(\"The end\")   "
   ]
  },
  {
   "cell_type": "code",
   "execution_count": null,
   "metadata": {},
   "outputs": [],
   "source": []
  }
 ],
 "metadata": {
  "kernelspec": {
   "display_name": "Python 3",
   "language": "python",
   "name": "python3"
  },
  "language_info": {
   "codemirror_mode": {
    "name": "ipython",
    "version": 3
   },
   "file_extension": ".py",
   "mimetype": "text/x-python",
   "name": "python",
   "nbconvert_exporter": "python",
   "pygments_lexer": "ipython3",
   "version": "3.8.5"
  }
 },
 "nbformat": 4,
 "nbformat_minor": 2
}
