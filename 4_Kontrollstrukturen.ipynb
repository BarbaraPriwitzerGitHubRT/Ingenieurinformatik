{
 "cells": [
  {
   "cell_type": "markdown",
   "metadata": {},
   "source": [
    "**Kontrollstrukturen**\n",
    "\n",
    "**Teil 1 - Verzweigungen**\n",
    "\n",
    "**Einfache Verzweigung**\n",
    "\n",
    "Eine ganze Zahl wird mit 2 multipliziert, wenn sie gerade ist. Bei einer ungeraden Zahl soll das Ergebnis der ganzzahlige Anteil der Division durch 2 sein."
   ]
  },
  {
   "cell_type": "code",
   "execution_count": 2,
   "metadata": {},
   "outputs": [],
   "source": [
    "a=int(input('Geben Sie eine ganze Zahl ein.\\n'))\n",
    "if a%2==0:\n",
    "    b=a*2\n",
    "else: \n",
    "    b=a//2\n",
    "print(b)\n"
   ]
  },
  {
   "cell_type": "markdown",
   "metadata": {},
   "source": [
    "**Aufgabe**\n",
    "\n",
    "Schreiben Sie ein Programm, das für eine Zahl x einen Text ausgibt, der sagt,\n",
    "ob x positiv oder negativ ist.\n"
   ]
  },
  {
   "cell_type": "code",
   "execution_count": null,
   "metadata": {},
   "outputs": [],
   "source": [
    "x=float(input('Geben Sie eine Zahl ein.\\n'))\n"
   ]
  },
  {
   "cell_type": "markdown",
   "metadata": {},
   "source": [
    "**Mehrfache Verzweigung**\n",
    "\n",
    "Der Preis für eine Eintrittskarte ist abhängig vom Alter:"
   ]
  },
  {
   "cell_type": "code",
   "execution_count": null,
   "metadata": {},
   "outputs": [],
   "source": [
    "alter=int(input('Wie alt bist Du?\\n'))\n",
    "if (alter >16):\n",
    "    print ('Die Kinokarte kostet 10 Euro.')\n",
    "elif (alter >12):\n",
    "    print ('Die Kinokarte kostet 8 Euro.')\n",
    "else:\n",
    "    print ('Die Kinokarte kostet 7 Euro.')\n"
   ]
  },
  {
   "cell_type": "markdown",
   "metadata": {},
   "source": [
    "**Aufgabe**\n",
    "\n",
    "Berechnen Sie den  Signalwert *y* in Abhängigkeit vom Wert von *x* und vom Parameter *a*:\n",
    "$$\n",
    "y=\\begin{cases}\n",
    "0 & x<0\\\\\n",
    "x&0\\le x\\le a\\\\\n",
    "a& \\text{sonst}\n",
    "\\end{cases}\n",
    "$$\n",
    "\n",
    "Die Variable *y* hat den Wert 0 für negative *x*, den Wert *x* für alle *x*-Werte zwischen\n",
    "0 und *a* sowie den Wert *a* für alle Werte $x > a$.\n"
   ]
  },
  {
   "cell_type": "code",
   "execution_count": null,
   "metadata": {},
   "outputs": [],
   "source": []
  },
  {
   "cell_type": "markdown",
   "metadata": {},
   "source": [
    "**Geschachtelte Verzweigung**\n",
    "\n",
    "Mehrfachverzeigungen  können auch ohne Verwendung des Schlüsselwortes *elif*, sondern durch aufeinanderfolgende *if* Verzweigungen realisiert werden."
   ]
  },
  {
   "cell_type": "code",
   "execution_count": null,
   "metadata": {},
   "outputs": [],
   "source": [
    "x=7\n",
    "\n",
    "if x > 0:\n",
    "    if (x%2 == 0 or x%3 == 0):\n",
    "        print('x ist positiv, und gerade oder durch 3 teilbar.')\n",
    "    else:\n",
    "        print('x ist positiv und ungerade und nicht durch 3 teilbar.')\n",
    "else:\n",
    "    print('x ist negativ.')\n"
   ]
  },
  {
   "cell_type": "markdown",
   "metadata": {},
   "source": [
    "**Teil 2 - Iterationen**\n",
    "\n",
    "**Zählschleife**\n",
    "\n",
    "Wir bilden die Summe der ersten 10 Quadratzahlen:"
   ]
  },
  {
   "cell_type": "code",
   "execution_count": null,
   "metadata": {},
   "outputs": [],
   "source": [
    "n=10\n",
    "s = 0    #Initialisierung\n",
    "for i in range(1, n+1):\n",
    "    s = s + i*i    #Addition von Quadrat\n",
    "    print(s)       #Kontrollausgabe\n",
    "print(s)       \n"
   ]
  },
  {
   "cell_type": "markdown",
   "metadata": {},
   "source": [
    "**Aufgabe**\n",
    "\n",
    "Schreiben Sie ein Python Skript, das den größten Wert unter den 10 Zahlen $x\\in\\{-n^2+6n-2| n=1,2,\\dots 10\\}$  findet."
   ]
  },
  {
   "cell_type": "code",
   "execution_count": null,
   "metadata": {},
   "outputs": [],
   "source": []
  },
  {
   "cell_type": "markdown",
   "metadata": {},
   "source": [
    "**Geschachtelte Zählschleifen**\n",
    "\n",
    "Wie oft wird der Text ausgegeben?\n",
    "\n",
    "Stellen Sie die Schleife in einem Flußdiagramm dar."
   ]
  },
  {
   "cell_type": "code",
   "execution_count": null,
   "metadata": {},
   "outputs": [],
   "source": [
    "anzahl =0\n",
    "\n",
    "for i in range(2,6):\n",
    "    for j in range(3):\n",
    "        anzahl = anzahl + 1\n",
    "        print('Hallo Welt' , anzahl)"
   ]
  },
  {
   "cell_type": "markdown",
   "metadata": {},
   "source": [
    "**while-Schleife**\n",
    "\n",
    "Die while-Schleife ist eine bedingte Iteration.\n",
    "\n",
    "Beispiel: Summe der ersten 10 Quadratzahlen"
   ]
  },
  {
   "cell_type": "code",
   "execution_count": null,
   "metadata": {},
   "outputs": [],
   "source": [
    "i = 1\n",
    "s=0\n",
    "while i <= 10:\n",
    "    s=s+i*i\n",
    "    i = i+1\n",
    "print(s)"
   ]
  },
  {
   "cell_type": "markdown",
   "metadata": {},
   "source": [
    "**Aufgabe**\n",
    "\n",
    "\n",
    "Teilen Sie eine natürliche Zahl immer wieder  durch 2, so lange das Ergebnis gerade ist.\n"
   ]
  },
  {
   "cell_type": "code",
   "execution_count": null,
   "metadata": {},
   "outputs": [],
   "source": [
    "n=int(input('Geben Sie eine natürliche Zahl ein.\\n'))\n",
    "while(n%2==0):\n",
    "    n=n/2\n",
    "    print(n)\n",
    "print(n)"
   ]
  },
  {
   "cell_type": "markdown",
   "metadata": {},
   "source": [
    "**Teil 3 Sprunganweisungen**\n",
    "\n",
    "Python verfügt über die beiden Sprunganweisungen *break* und *continue*.\n",
    "\n",
    "**Aufgabe**\n",
    "\n",
    "Sagen Sie für die beiden Codes unten jeweils vorher, welche Print-Ausgaben sich ergeben. Erklären Sie nach Ausführung die Print-Ausgaben.\n"
   ]
  },
  {
   "cell_type": "code",
   "execution_count": null,
   "metadata": {},
   "outputs": [],
   "source": [
    "for val in \"Training\":\n",
    "    if val == \"i\":\n",
    "        break\n",
    "    print(val)\n",
    "\n",
    "print(\"The end\")"
   ]
  },
  {
   "cell_type": "code",
   "execution_count": null,
   "metadata": {},
   "outputs": [],
   "source": [
    "for val in \"Training\":\n",
    "    if val == \"i\":\n",
    "       continue\n",
    "    print(val)\n",
    "print(\"The end\")   "
   ]
  },
  {
   "cell_type": "markdown",
   "metadata": {},
   "source": [
    "Schreiben Sie die beiden Beispiele oben ohne Sprunganweisungen."
   ]
  },
  {
   "cell_type": "code",
   "execution_count": null,
   "metadata": {},
   "outputs": [],
   "source": [
    " "
   ]
  },
  {
   "cell_type": "code",
   "execution_count": null,
   "metadata": {},
   "outputs": [],
   "source": []
  }
 ],
 "metadata": {
  "kernelspec": {
   "display_name": "Python 3",
   "language": "python",
   "name": "python3"
  },
  "language_info": {
   "codemirror_mode": {
    "name": "ipython",
    "version": 3
   },
   "file_extension": ".py",
   "mimetype": "text/x-python",
   "name": "python",
   "nbconvert_exporter": "python",
   "pygments_lexer": "ipython3",
   "version": "3.8.5"
  }
 },
 "nbformat": 4,
 "nbformat_minor": 2
}
