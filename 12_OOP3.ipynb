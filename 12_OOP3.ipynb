{
 "cells": [
  {
   "cell_type": "markdown",
   "id": "ddcd725d",
   "metadata": {},
   "source": [
    "**Objektorientierte Programmierung in Python III**\n",
    "\n",
    "**Teil 1**\n",
    "\n",
    "**Mehrfachvererbung**\n",
    "\n",
    "Mehrfachvererbung kann auf zwei Arten realisiert werden\n",
    "- Von einer Klasse kann wiederum eine Klasse abgeleitet werden."
   ]
  },
  {
   "cell_type": "code",
   "execution_count": null,
   "id": "017d9b2d",
   "metadata": {},
   "outputs": [],
   "source": [
    "# Basisklasse \n",
    "class Form: \n",
    "      \n",
    "    # Konstruktor \n",
    "    def __init__(self, length, breadth): \n",
    "        self._length = length\n",
    "        self._breadth = breadth \n",
    "          \n",
    "    # Instanzmethode\n",
    "    def displaySides(self):   \n",
    "        # Zugriff auf die geschützten Variablen\n",
    "        print(\"Länge der Form: \", self._length) \n",
    "        print(\"Breite der Form: \", self._breadth) \n",
    "  \n",
    "  \n",
    "# abgeleitete Klasse \n",
    "class Rechteck(Form): \n",
    "  \n",
    "    # Konstruktor \n",
    "    def __init__(self, length, breadth): \n",
    "        # noch eine Variante zur Vererbung: Aufruf des Konstruktors der Basisklasse \n",
    "        Form.__init__(self, length, breadth)\n",
    "\n",
    "    #Instanzmethode\n",
    "    def calculateArea(self): \n",
    "        print(\"Fläche des Rechtecks: \", self._length * self._breadth) \n",
    "                      \n",
    "\n",
    "class Quadrat(Rechteck):\n",
    "        # Konstruktor \n",
    "    def __init__(self, length): \n",
    "        # noch eine Variante zur Vererbung: Aufruf des Konstruktors der Basisklasse \n",
    "        Form.__init__(self, length, length)"
   ]
  },
  {
   "cell_type": "code",
   "execution_count": null,
   "id": "31fce77d",
   "metadata": {},
   "outputs": [],
   "source": [
    "# Erzeugen von Instanzen        \n",
    "obj2 = Quadrat(60)\n",
    "  \n",
    "# Aufruf der vererbten Methode der Basisklasse\n",
    "obj2.displaySides()\n",
    "  \n",
    "# Aufruf der vererbten Methode der abgeleiteten Klasse\n",
    "obj2.calculateArea()"
   ]
  },
  {
   "cell_type": "markdown",
   "id": "399f86f2",
   "metadata": {},
   "source": [
    "- Eine abgeleitete Klasse wird von zwei oder mehr Basisklassen abgeleitet."
   ]
  },
  {
   "cell_type": "code",
   "execution_count": null,
   "id": "51d013ac",
   "metadata": {},
   "outputs": [],
   "source": [
    "# Basisklasse \n",
    "class Design: \n",
    "      \n",
    "    # Konstruktor \n",
    "    def __init__(self, filling, line): \n",
    "        self._filling = filling\n",
    "        self._line = line \n",
    "          \n",
    "    # Instanzmethode\n",
    "    def displayDesign(self):   \n",
    "        print(\"Füllungsfarbe ist: \", self._filling) \n",
    "        print(\"Linienfarbe ist: \", self._line) \n",
    "  \n",
    "  \n",
    "# abgeleitete Klasse \n",
    "class BuntesRechteck(Form, Design): \n",
    "  \n",
    "    # Konstruktor \n",
    "    def __init__(self, length, breadth, filling,line): \n",
    "        # noch eine Variante zur Vererbung: Aufruf des Konstruktors der Basisklasse \n",
    "        Form.__init__(self, length, breadth)\n",
    "        Design.__init__(self, filling, line)\n"
   ]
  },
  {
   "cell_type": "code",
   "execution_count": null,
   "id": "7ec92f02",
   "metadata": {},
   "outputs": [],
   "source": [
    "# Erzeugen von Instanzen        \n",
    "obj3 = BuntesRechteck(40,60,'gelb','rot')\n",
    "  \n",
    "# Aufruf der vererbten Methoden der Basisklasse\n",
    "obj3.displaySides()\n",
    "\n",
    "obj3.displayDesign()"
   ]
  },
  {
   "cell_type": "markdown",
   "id": "8ba32e58",
   "metadata": {},
   "source": [
    "**Aufgabe**\n",
    "\n",
    "Definieren Sie eine abgeleitete Klasse BuntesQuadrat ähnlich wie BuntesRechteck. Bilden Sie dann eine Instanz dieser Klasse und demonstrieren Sie die Anwendung von Methoden für diese Instanz."
   ]
  },
  {
   "cell_type": "code",
   "execution_count": null,
   "id": "4675502e",
   "metadata": {},
   "outputs": [],
   "source": []
  },
  {
   "cell_type": "markdown",
   "id": "74f8357e",
   "metadata": {},
   "source": [
    "**Teil 2**\n",
    "\n",
    "**Klassenvariable und Klassenmethoden**\n",
    "\n",
    "Manchmal ist es sinnvoll Eigenschaften zu verwenden, die nicht an Instanzen einer\n",
    "Klasse gebunden sind. Ein Beispiel ist eine Variable, welche die Anzahl der angelegten\n",
    "Objekte einer Klasse zählt. Solche Klassenvariable werden gemeinsam benutzt, in dem Sinne, dass auf sie von allen Objekten (Instanzen) der Klasse zugegriffen wird. Es gibt nur eine Kopie einer Klassenvariable, und wenn irgendein Objekt eine Änderung an einer Klassenvariable vornimmt, dann spiegelt sich diese Änderung sofort auch in allen anderen Instanzen der Klasse wieder.\n"
   ]
  },
  {
   "cell_type": "code",
   "execution_count": null,
   "id": "65fecd28",
   "metadata": {},
   "outputs": [],
   "source": [
    "class Person:\n",
    "    anzahl=0 #Klassenvariable\n",
    "    #Konstruktor\n",
    "    def __init__(self,vorname,name):\n",
    "        self.name = name\n",
    "        self.vorname = vorname\n",
    "        # Wenn diese Person erzeugt wird,\n",
    "        # traegt er/sie zur Anzahl der Personen bei\n",
    "        Person.anzahl += 1\n",
    "    \n",
    "    #Methoden\n",
    "    def getPerson(self):\n",
    "        return self.name+\" \" +self.vorname\n",
    "    \n",
    "    def wieViele(self):\n",
    "        '''Gibt die aktuelle Personenzahl aus.'''\n",
    "        if Person.anzahl == 1:\n",
    "            print('Ich bin ganz allein hier.')\n",
    "        else:\n",
    "            print('Es gibt hier %d Personen.' % Person.anzahl)"
   ]
  },
  {
   "cell_type": "code",
   "execution_count": null,
   "id": "4860b80b",
   "metadata": {},
   "outputs": [],
   "source": [
    "p1=Person('Charlie','Brown')\n",
    "p1.wieViele()\n",
    "\n",
    "#p2=Person('Lucy', 'van Pelt')\n",
    "#p1.wieViele()\n",
    "#p2.wieViele()\n",
    "\n",
    "p1.name='Black'\n",
    "p2.wieViele()"
   ]
  },
  {
   "cell_type": "markdown",
   "id": "80c8d285",
   "metadata": {},
   "source": [
    "**Bemerkung - Instanz- und Klassenvariable**\n",
    "- Klassenvariable werden durch *Klassenname.klassenvariable* verwendet, Instanzvariable durch *self.instanzvariable*.\n",
    "- Jede Instanz hat eine eigene Kopie der Instanzvariable, eine Klassenvariable existiert genau einmal für die Klasse.\n",
    "- Klassenvariable werden in der Regel gleich zu Beginn des Klassenblocks\n",
    "definiert, Instanzvariable üblicherweise durch den Konstruktor."
   ]
  },
  {
   "cell_type": "markdown",
   "id": "69e8f909",
   "metadata": {},
   "source": [
    "**Klassenmethoden**\n",
    "\n",
    "Eine Klassenmethode ist an die Klasse nicht an die Instanz gebunden. Auch ohne dass ein Objekt instanziiert wurde, lässt sich eine Klassenmethode aufrufen.\n",
    "\n",
    "In Python wird eine Klassenmethode durch den Dekorierer *@classmethod* definiert. Das erste Argument einer Klassenmethode ist eine Referenz auf die Klasse *cls*, d.h. das Klassenobjekt."
   ]
  },
  {
   "cell_type": "code",
   "execution_count": null,
   "id": "97dba96b",
   "metadata": {},
   "outputs": [],
   "source": [
    "class Person:\n",
    "    anzahl=0\n",
    "    #Konstruktor\n",
    "    def __init__(self,vorname,name):\n",
    "        self.__name = name\n",
    "        self.__vorname = vorname\n",
    "        # Wenn diese Person erzeugt wird,\n",
    "        # traegt er/sie zur Bevoelkerung bei\n",
    "        Person.anzahl += 1\n",
    "    \n",
    "    #Methoden\n",
    "    @classmethod    \n",
    "    def anzahlPersonen(cls):\n",
    "        return Person.anzahl"
   ]
  },
  {
   "cell_type": "code",
   "execution_count": null,
   "id": "fb3332ec",
   "metadata": {},
   "outputs": [],
   "source": [
    "print(Person.anzahlPersonen())\n",
    "\n",
    "p1=Person('Charlie','Brown')\n",
    "#p2=Person('Lucy', 'van Pelt')\n",
    "\n",
    "print(Person.anzahlPersonen())\n",
    "p1.anzahlPersonen()"
   ]
  },
  {
   "cell_type": "markdown",
   "id": "6006dc52",
   "metadata": {},
   "source": [
    "**Statische\n",
    "Methoden**\n",
    "\n",
    "Statische\n",
    "Methoden existieren unabhängig von einer bestimmten Instanz. Ein Programm kann eine statische Methode ausführen, ohne zuerst ein Objekt zu erzeugen. Statische Methoden werden mit Hilfe des Dekorators *@staticmethod* definiert. \n",
    "\n",
    "Statische Methoden benötigen keinen *self* ode *cls*-Parameter. Der erste Parameter einer statischen Methode kann ein beliebiger Parameter sein. Die Methode ist also weder an die Klasse noch an eine Instanz gebunden. \n",
    " Der Zugriff auf eine statische Methode erfolgt entweder durch die Klasse oder durch die Instanz.\n",
    " \n",
    " Das folgende Beispiel würde sich auch mit einer Klassenmethode realisieren lassen. Dann muss aber der Parameter *cls* noch angegeben werden. Durch die Nutzung der statische Methode spart man also lediglich diese Parameterangabe. \n",
    "\n"
   ]
  },
  {
   "cell_type": "code",
   "execution_count": null,
   "id": "1fab0f42",
   "metadata": {},
   "outputs": [],
   "source": [
    "class Person:\n",
    "    anzahl=0\n",
    "    #Konstruktor\n",
    "    def __init__(self,vorname,name):\n",
    "        self.__name = name\n",
    "        self.__vorname = vorname\n",
    "        # Wenn diese Person erzeugt wird,\n",
    "        # traegt er/sie zur Bevoelkerung bei\n",
    "        Person.anzahl += 1\n",
    "    \n",
    "    #Methoden\n",
    "    @staticmethod    \n",
    "    def anzahlPersonen():\n",
    "        return Person.anzahl+Mensch.anzahl\n",
    "\n",
    "class Mensch:\n",
    "    anzahl=0\n",
    "    #Konstruktor\n",
    "    def __init__(self,id):\n",
    "        self.__id = id\n",
    "        # Wenn diese Person erzeugt wird,\n",
    "        # traegt er/sie zur Bevoelkerung bei\n",
    "        Mensch.anzahl += 1\n",
    "    \n",
    "    #Methoden\n",
    "    @staticmethod    \n",
    "    def anzahlPersonen():\n",
    "        return Mensch.anzahl + Person.anzahl  "
   ]
  },
  {
   "cell_type": "code",
   "execution_count": null,
   "id": "3f5d6855",
   "metadata": {},
   "outputs": [],
   "source": [
    "print(Mensch.anzahlPersonen())\n",
    "\n",
    "print(Person.anzahlPersonen())\n",
    "\n",
    "p1=Person('Charlie','Brown')\n",
    "p2=Person('Lucy', 'van Pelt')\n",
    "p3=Mensch(111)\n",
    "print(Mensch.anzahlPersonen())\n",
    "print(Person.anzahlPersonen())"
   ]
  }
 ],
 "metadata": {
  "kernelspec": {
   "display_name": "Python 3 (ipykernel)",
   "language": "python",
   "name": "python3"
  },
  "language_info": {
   "codemirror_mode": {
    "name": "ipython",
    "version": 3
   },
   "file_extension": ".py",
   "mimetype": "text/x-python",
   "name": "python",
   "nbconvert_exporter": "python",
   "pygments_lexer": "ipython3",
   "version": "3.9.12"
  }
 },
 "nbformat": 4,
 "nbformat_minor": 5
}
