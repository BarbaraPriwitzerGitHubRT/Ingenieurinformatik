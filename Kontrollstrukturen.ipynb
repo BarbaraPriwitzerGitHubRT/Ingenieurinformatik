{
 "cells": [
  {
   "cell_type": "markdown",
   "metadata": {},
   "source": [
    "**Einfache Verzweigung**\n",
    "\n",
    "Eine ganze Zahl wird mit 2 multipliziert, wenn sie gerade ist. Bei einer ungeraden Zahl soll das Ergebnis der ganzzahlige Anteil der Division durch 2 sein."
   ]
  },
  {
   "cell_type": "code",
   "execution_count": null,
   "metadata": {},
   "outputs": [],
   "source": [
    "a=int(input('Geben Sie eine ganze Zahl ein.\\n'))\n",
    "if a%2==0:\n",
    "    b=a*2\n",
    "else: \n",
    "    b=a//2\n",
    "print(b)"
   ]
  },
  {
   "cell_type": "markdown",
   "metadata": {},
   "source": [
    "**Aufgabe**\n",
    "\n",
    "Schreiben Sie ein Programm, dass für eine Zahl x einen Text ausgibt, der sagt\n",
    "ob x positiv oder negativ ist.\n"
   ]
  },
  {
   "cell_type": "code",
   "execution_count": null,
   "metadata": {},
   "outputs": [],
   "source": []
  },
  {
   "cell_type": "markdown",
   "metadata": {},
   "source": [
    "**Mehrfache Verzweigung**\n",
    "Der Preis für eine Eintrittskarte ist abhängig vom Alter:"
   ]
  },
  {
   "cell_type": "code",
   "execution_count": 6,
   "metadata": {},
   "outputs": [
    {
     "name": "stdout",
     "output_type": "stream",
     "text": [
      "Die Kinokarte kostet 8 Euro.\n"
     ]
    }
   ],
   "source": [
    "alter=14\n",
    "if (alter >16):\n",
    "    print ('Die Kinokarte kostet 10 Euro.')\n",
    "elif (alter >12):\n",
    "    print ('Die Kinokarte kostet 8 Euro.')\n",
    "else:\n",
    "    print ('Die Kinokarte kostet 7 Euro.')"
   ]
  },
  {
   "cell_type": "markdown",
   "metadata": {},
   "source": [
    "**Aufgabe**\n",
    "\n",
    "Berechnen Sie den  Signalwert *y* in Abhängigkeit von den  Variablen *x* und *a*:\n",
    "$$\n",
    "y=\\begin{cases}\n",
    "0 & x<0\\\\\n",
    "x&0\\le x\\le a\\\\\n",
    "a& \\text{sonst}\n",
    "\\end{cases}\n",
    "$$\n",
    "\n",
    "Die Variable *y* hat den Wert 0, für *x*, den Wert *x* für alle *x*-Werte zwischen\n",
    "0 und *x* sowie den Wert *x* für alle Werte $x > a$.\n"
   ]
  },
  {
   "cell_type": "code",
   "execution_count": null,
   "metadata": {},
   "outputs": [],
   "source": []
  },
  {
   "cell_type": "markdown",
   "metadata": {},
   "source": [
    "**Geschachtelte Verzweigung**\n",
    "\n",
    "Mehrfachverzeigungen  können auch ohne Verwendung des Schlüsselwortes *elif*, sondern durch aufeinanderfolgende *if* Verzweigungen realisiert werden."
   ]
  },
  {
   "cell_type": "code",
   "execution_count": 9,
   "metadata": {},
   "outputs": [
    {
     "name": "stdout",
     "output_type": "stream",
     "text": [
      "x ist negativ.\n"
     ]
    }
   ],
   "source": [
    "x=-7\n",
    "\n",
    "if x > 0:\n",
    "    if x%2 == 0:\n",
    "        print('x ist positiv und gerade.')\n",
    "    else:\n",
    "        print('x ist positiv und ungerade.')\n",
    "else:\n",
    "    print('x ist negativ.')\n"
   ]
  },
  {
   "cell_type": "markdown",
   "metadata": {},
   "source": [
    "**Zählschleife**\n",
    "\n",
    "Wir bilden die Summe der ersten 10 Quadratzahlen:"
   ]
  },
  {
   "cell_type": "code",
   "execution_count": 7,
   "metadata": {},
   "outputs": [],
   "source": [
    "n=10\n",
    "s = 0\n",
    "for i in range(1, n+1, 1):\n",
    "    s = s + i*i  \n",
    "print(s)"
   ]
  },
  {
   "cell_type": "code",
   "execution_count": 6,
   "metadata": {},
   "outputs": [],
   "source": [
    "n=10\n",
    "s=0    \n",
    "for i in range(n+1):\n",
    "    s = s + i*i \n",
    "print(s)"
   ]
  },
  {
   "cell_type": "markdown",
   "metadata": {},
   "source": [
    "**Aufgabe**\n",
    "\n",
    "Schreiben Sie ein Python Skript, das den größten Wert unter den 10 Zahlen x=[-n**2+6*n-2 for n in range(1,11)] findet."
   ]
  },
  {
   "cell_type": "code",
   "execution_count": null,
   "metadata": {},
   "outputs": [],
   "source": [
    "\n",
    "    "
   ]
  },
  {
   "cell_type": "markdown",
   "metadata": {},
   "source": [
    "**Geschachtelte Zählschleifen**\n",
    "\n",
    "Wie oft wird der Text ausgegeben?"
   ]
  },
  {
   "cell_type": "code",
   "execution_count": null,
   "metadata": {},
   "outputs": [],
   "source": [
    "anzahl =0\n",
    "\n",
    "for i in range(1,6):\n",
    "    for j in range(2,5):\n",
    "        anzahl = anzahl + 1\n",
    "        print('Hallo Welt' , anzahl)"
   ]
  },
  {
   "cell_type": "markdown",
   "metadata": {},
   "source": [
    "**while-Schleife**\n",
    "\n",
    "Die while-Schleife ist eine bedingte Iteration.\n",
    "\n",
    "Beispiel: Summe der ersten 10 Quadratzahlen"
   ]
  },
  {
   "cell_type": "code",
   "execution_count": 5,
   "metadata": {},
   "outputs": [],
   "source": [
    "i = 1\n",
    "s=0\n",
    "while i <= 10:\n",
    "    s=s+i*i\n",
    "    i = i+1\n",
    "print(s)"
   ]
  },
  {
   "cell_type": "markdown",
   "metadata": {},
   "source": [
    "**Aufgabe**\n",
    "\n",
    "\n",
    "Teilen Sie eine natürliche Zahl immer wieder  durch 2, so lange das Ergebnis gerade ist.\n"
   ]
  },
  {
   "cell_type": "code",
   "execution_count": null,
   "metadata": {},
   "outputs": [],
   "source": []
  },
  {
   "cell_type": "markdown",
   "metadata": {},
   "source": [
    "**Sprunganweisungen**\n",
    "\n",
    "Python verfügt über die beiden Sprunganweisungen *break* und *continue*.\n"
   ]
  },
  {
   "cell_type": "code",
   "execution_count": 3,
   "metadata": {},
   "outputs": [],
   "source": [
    "for val in \"string\":\n",
    "    if val == \"i\":\n",
    "        break\n",
    "    print(val)\n",
    "\n",
    "print(\"The end\")"
   ]
  },
  {
   "cell_type": "code",
   "execution_count": 4,
   "metadata": {},
   "outputs": [],
   "source": [
    "for val in \"string\":\n",
    "    if val == \"i\":\n",
    "       continue\n",
    "    print(val)\n",
    "print(\"The end\")   "
   ]
  },
  {
   "cell_type": "markdown",
   "metadata": {},
   "source": [
    "Schreiben Sie die beiden Beispiele oben ohne Sprunganweisungen."
   ]
  },
  {
   "cell_type": "code",
   "execution_count": null,
   "metadata": {},
   "outputs": [],
   "source": []
  },
  {
   "cell_type": "code",
   "execution_count": null,
   "metadata": {},
   "outputs": [],
   "source": []
  }
 ],
 "metadata": {
  "kernelspec": {
   "display_name": "Python 3",
   "language": "python",
   "name": "python3"
  },
  "language_info": {
   "codemirror_mode": {
    "name": "ipython",
    "version": 3
   },
   "file_extension": ".py",
   "mimetype": "text/x-python",
   "name": "python",
   "nbconvert_exporter": "python",
   "pygments_lexer": "ipython3",
   "version": "3.7.4"
  }
 },
 "nbformat": 4,
 "nbformat_minor": 2
}
