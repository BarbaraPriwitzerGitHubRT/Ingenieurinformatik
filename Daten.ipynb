{
 "cells": [
  {
   "cell_type": "markdown",
   "metadata": {},
   "source": [
    "**Daten in Python**\n",
    "\n",
    "Python bietet mehrer Packages, die bsonders gut zur Darstellung und Analyse von Daten geeignet sind.\n",
    "\n",
    "Insbesondere das Package *pandas* erlaubt Tabellenkalkulationen, das Einlesen von Daten, Zugriff auf Daten und Berechnung von wichtigen Werten."
   ]
  },
  {
   "cell_type": "code",
   "execution_count": 1,
   "metadata": {},
   "outputs": [],
   "source": [
    "import pandas as pd\n",
    "data=pd.read_table('datenmatrix.txt',delimiter=',')\n",
    "#simulierte Würfelwürfe\n",
    "#erzeugt durch \n",
    "#import numpy as np\n",
    "#datenmatrix= pd.DataFrame(np.random.randint(1,6, size=(200,10)))"
   ]
  },
  {
   "cell_type": "markdown",
   "metadata": {},
   "source": [
    "Für Tabellen existieren Methoden zur Berechnung von Mittelwert bzw. Standardabweichung."
   ]
  },
  {
   "cell_type": "code",
   "execution_count": 2,
   "metadata": {},
   "outputs": [],
   "source": [
    "WuerfelMittel=data.mean(0)\n",
    "WuerfelStdAbw=data.std(0)\n"
   ]
  },
  {
   "cell_type": "markdown",
   "metadata": {},
   "source": [
    "Auch Maxima können bestimmt werden und mit Hilfe der bereits bekannten Listenmethoden, können wir herausfinden, für welchen Würfel durchschnittlich die höchste Augenzahl erzielt wurde. "
   ]
  },
  {
   "cell_type": "code",
   "execution_count": 3,
   "metadata": {},
   "outputs": [
    {
     "data": {
      "text/plain": [
       "3"
      ]
     },
     "execution_count": 3,
     "metadata": {},
     "output_type": "execute_result"
    }
   ],
   "source": [
    "meinMax=WuerfelMittel.max()\n",
    "\n",
    "meineListe=list(WuerfelMittel)\n",
    "\n",
    "meineListe.index(meinMax)\n"
   ]
  },
  {
   "cell_type": "markdown",
   "metadata": {},
   "source": [
    "Die durchschnittliche erzielte Augenzahl können wir als Stabdiagramm darstellen."
   ]
  },
  {
   "cell_type": "code",
   "execution_count": 10,
   "metadata": {},
   "outputs": [],
   "source": [
    "import matplotlib.pyplot as plt\n",
    "\n",
    "fig1,ax1=plt.subplots()\n",
    "\n",
    "ax1.bar(range(10),WuerfelMittel)\n",
    "ax1.set_xticks([ ])#entfernt die Bezeichnungen auf der x-Achse\n",
    "plt.title('Mittelwerte von 200-maligem Würfeln')\n",
    "plt.show()\n"
   ]
  },
  {
   "cell_type": "markdown",
   "metadata": {},
   "source": [
    "Ein Streudiagramm stellt zwei Werte zu einer Tabellenzeile in einem Koordinatensystem dar. Wir verwenden hier die Iris-Daten: 150 Abmessungen von Blüten- und Klechblättern zu drei Iris-Arten."
   ]
  },
  {
   "cell_type": "code",
   "execution_count": 13,
   "metadata": {},
   "outputs": [],
   "source": [
    "import seaborn as sns\n",
    "df = sns.load_dataset('iris')\n",
    " \n",
    "fig2,ax2=plt.subplots()\n",
    "\n",
    "IrisSpecies=list(df.species.unique())\n",
    "\n",
    "\n",
    "myColors=['red','blue','green']\n",
    "for i in range(3):\n",
    "     myScatter=ax2.scatter(df.sepal_length[(i*50):(i*50+49)], df.sepal_width[(i*50):(i*50+49)],color=myColors[i],label=IrisSpecies[i])\n",
    "ax2.grid(axis=\"y\")  #Parallelen zur x-Achse zur Orientierung\n",
    "ax2.legend()#Legende\n",
    "plt.show()"
   ]
  },
  {
   "cell_type": "code",
   "execution_count": null,
   "metadata": {},
   "outputs": [],
   "source": []
  }
 ],
 "metadata": {
  "kernelspec": {
   "display_name": "Python 3",
   "language": "python",
   "name": "python3"
  },
  "language_info": {
   "codemirror_mode": {
    "name": "ipython",
    "version": 3
   },
   "file_extension": ".py",
   "mimetype": "text/x-python",
   "name": "python",
   "nbconvert_exporter": "python",
   "pygments_lexer": "ipython3",
   "version": "3.7.4"
  }
 },
 "nbformat": 4,
 "nbformat_minor": 2
}
