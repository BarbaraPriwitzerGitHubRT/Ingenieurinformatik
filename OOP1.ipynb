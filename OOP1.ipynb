{
 "cells": [
  {
   "cell_type": "markdown",
   "metadata": {},
   "source": [
    "**Objektorintierte Programmierung in Python**\n",
    "\n",
    "Die folgende Klasse mit Namen *Person* erhält durch den Konstruktor  die nicht-öffentlichen Instanzvariablen *name* und *vorname*. Die Methode *getPerson()* kann Name und Vorname der Person ausgeben."
   ]
  },
  {
   "cell_type": "code",
   "execution_count": 36,
   "metadata": {},
   "outputs": [
    {
     "data": {
      "text/plain": [
       "'Stein Lisa'"
      ]
     },
     "execution_count": 36,
     "metadata": {},
     "output_type": "execute_result"
    }
   ],
   "source": [
    "class Person:\n",
    "    #Konstruktor\n",
    "    def __init__(self,vorname,name):\n",
    "        self.__name = name\n",
    "        self.__vorname = vorname\n",
    "        #Attribute, innerhalb der Klasse verwendbar\n",
    "    \n",
    "    \n",
    "    #Methoden\n",
    "    def getPerson(self):\n",
    "        return self.__name+\" \" +self.__vorname\n",
    "    \n",
    "p=Person('Lisa','Stein') #Instanziierung\n",
    "\n",
    "p.getPerson() # Methode\n"
   ]
  },
  {
   "cell_type": "markdown",
   "metadata": {},
   "source": [
    "Eine Methode ist eine Funktion, die zu einem Objekt gehört. \n",
    "- Methoden werden in dem von *class* eingeleiteten Block definiert.\n",
    "- Methoden enthalten in der Definition als ersten Parameter *self*."
   ]
  },
  {
   "cell_type": "code",
   "execution_count": 13,
   "metadata": {},
   "outputs": [],
   "source": [
    "import math\n",
    "class Vektor(object):\n",
    "    x = None #Default Werte\n",
    "    y = None\n",
    "    \n",
    "    #jetzt kommen mehrere Methoden\n",
    "    def vorgabe(self,x,y):\n",
    "        self.x = float(x)\n",
    "        self.y = float(y)\n",
    "    def rueckgabe(self):\n",
    "        return self.x, self.y\n",
    "    def eingabe(self):\n",
    "        self.x = float(input(\"Bitte die x-Komponente eingeben: \"))\n",
    "        self.y = float(input(\"Bitte die y-Komponente eingeben: \"))\n",
    "    def ausgabe(self):\n",
    "        if self.x == None or self.y == None: \n",
    "            print(\"Es wurde noch kein Vektor definiert!\") \n",
    "        else:\n",
    "            betrag = math.sqrt(self.x**2+self.y**2) \n",
    "            print(\"X-Komponente: \",self.x)\n",
    "            print(\"Y-Komponente: \",self.y)\n",
    "            print(\"Der Betrag ist: \",betrag)"
   ]
  },
  {
   "cell_type": "code",
   "execution_count": 20,
   "metadata": {},
   "outputs": [
    {
     "name": "stdout",
     "output_type": "stream",
     "text": [
      "Bitte die x-Komponente eingeben: 5.8\n",
      "Bitte die y-Komponente eingeben: 33.4\n",
      "X-Komponente:  5.8\n",
      "Y-Komponente:  33.4\n",
      "Der Betrag ist:  33.89985250705377\n"
     ]
    }
   ],
   "source": [
    "\n",
    "v=Vektor()\n",
    "v.rueckgabe() # noch keine Koordinaten\n",
    "v.vorgabe(5,3) #Definition der Koordinaten\n",
    "v.rueckgabe() #jetzt hat v Koordinaten\n",
    "#alternativ\n",
    "v.eingabe()\n",
    "v.ausgabe()\n"
   ]
  },
  {
   "cell_type": "code",
   "execution_count": 19,
   "metadata": {},
   "outputs": [
    {
     "data": {
      "text/plain": [
       "(6.3, 2.1)"
      ]
     },
     "execution_count": 19,
     "metadata": {},
     "output_type": "execute_result"
    }
   ],
   "source": [
    "\n",
    "v.rueckgabe()\n"
   ]
  },
  {
   "cell_type": "markdown",
   "metadata": {},
   "source": [
    "**Namenskonventionen**\n",
    "\n",
    "Datenattribute überschreiben Methodenattribute desselben Namens."
   ]
  },
  {
   "cell_type": "code",
   "execution_count": 37,
   "metadata": {},
   "outputs": [
    {
     "name": "stdout",
     "output_type": "stream",
     "text": [
      "<bound method Person.getPerson of <__main__.Person object at 0x000002B1E27E8188>>\n",
      "Stein Lisa\n",
      "a\n"
     ]
    }
   ],
   "source": [
    "print(p.getPerson)\n",
    "print(p.getPerson())\n",
    "p.getPerson='a' #Überschreiben der Methode durch ein Attribut desselben Namens\n",
    "print(p.getPerson)\n",
    "#p.gtPerson()"
   ]
  },
  {
   "cell_type": "markdown",
   "metadata": {},
   "source": [
    "**Konstruktoren und Destruktoren**\n",
    "\n",
    "Konstruktoren sind spezielle Methoden, die aufgerufen werden, wenn ein Objekt erzeugt wird, d.h. wenn\n",
    "für dieses Objekt Speicherplatz reserviert wird.  Sie kennen bereits die Initialisierungsmethode *__init__* als Konstruktor. Ein Konstruktor hat keinen Rückgabewert.  \n",
    "\n",
    "Umgekehrt wird ein Destruktor\n",
    "dann aufgerufen, wenn ein Objekt zerstört (gelöscht) wird. Der Destruktor wird mit dem Namen\n",
    "*__del__* bezeichnet. Der Destruktor gibt den Speicherplatz wieder frei, wenn das Objekt nicht mehr benötigt wird. \n",
    "Der\n",
    "Destruktor wird niemals direkt gerufen, sondern immer nur indirekt beim Löschen des Objekts."
   ]
  },
  {
   "cell_type": "code",
   "execution_count": 66,
   "metadata": {},
   "outputs": [
    {
     "name": "stdout",
     "output_type": "stream",
     "text": [
      "Der Konstruktor wurde aufgerufen!\n",
      "Der Destruktor wurde aufgerufen!\n"
     ]
    },
    {
     "ename": "NameError",
     "evalue": "name 'a' is not defined",
     "output_type": "error",
     "traceback": [
      "\u001b[1;31m---------------------------------------------------------------------------\u001b[0m",
      "\u001b[1;31mNameError\u001b[0m                                 Traceback (most recent call last)",
      "\u001b[1;32m<ipython-input-66-b63000502a1f>\u001b[0m in \u001b[0;36m<module>\u001b[1;34m\u001b[0m\n\u001b[0;32m      9\u001b[0m \u001b[1;32mdel\u001b[0m \u001b[0ma\u001b[0m\u001b[1;33m\u001b[0m\u001b[1;33m\u001b[0m\u001b[0m\n\u001b[0;32m     10\u001b[0m \u001b[1;33m\u001b[0m\u001b[0m\n\u001b[1;32m---> 11\u001b[1;33m \u001b[0ma\u001b[0m\u001b[1;33m\u001b[0m\u001b[1;33m\u001b[0m\u001b[0m\n\u001b[0m\u001b[0;32m     12\u001b[0m \u001b[1;33m\u001b[0m\u001b[0m\n",
      "\u001b[1;31mNameError\u001b[0m: name 'a' is not defined"
     ]
    }
   ],
   "source": [
    "class Beispiel(object): \n",
    "    def __init__(self): \n",
    "        print(\"Der Konstruktor wurde aufgerufen!\" ) \n",
    "    def __del__(self): \n",
    "        print(\"Der Destruktor wurde aufgerufen!\")\n",
    "\n",
    "a = Beispiel() \n",
    "\n",
    "del a \n",
    "\n",
    "a \n",
    "\n"
   ]
  },
  {
   "cell_type": "markdown",
   "metadata": {},
   "source": [
    "Dieses Beispiel soll lediglich zeigen, wann der Konstruktor bzw. der Destruktor\n",
    "aufgerufen wird. Normalerweise erzeugen diese Methoden keine Ausgaben. Grundsätzlich hilft aber ein Destruktor den Speicher nicht zu voll werden zu lassen. In Python - im Gegensatz zu Java, C oder C++ - wird der Destruktor nicht häufig verwendet, denn Python verfügt über einen Garbage Collector zum Speichermanagement. "
   ]
  },
  {
   "cell_type": "code",
   "execution_count": 41,
   "metadata": {},
   "outputs": [
    {
     "name": "stdout",
     "output_type": "stream",
     "text": [
      "Der Konstruktor wurde aufgerufen!\n"
     ]
    },
    {
     "ename": "NameError",
     "evalue": "name 'a' is not defined",
     "output_type": "error",
     "traceback": [
      "\u001b[1;31m---------------------------------------------------------------------------\u001b[0m",
      "\u001b[1;31mNameError\u001b[0m                                 Traceback (most recent call last)",
      "\u001b[1;32m<ipython-input-41-acf8a836b742>\u001b[0m in \u001b[0;36m<module>\u001b[1;34m\u001b[0m\n\u001b[0;32m      8\u001b[0m \u001b[1;32mdel\u001b[0m \u001b[0ma\u001b[0m\u001b[1;33m\u001b[0m\u001b[1;33m\u001b[0m\u001b[0m\n\u001b[0;32m      9\u001b[0m \u001b[1;33m\u001b[0m\u001b[0m\n\u001b[1;32m---> 10\u001b[1;33m \u001b[0ma\u001b[0m\u001b[1;33m\u001b[0m\u001b[1;33m\u001b[0m\u001b[0m\n\u001b[0m",
      "\u001b[1;31mNameError\u001b[0m: name 'a' is not defined"
     ]
    }
   ],
   "source": [
    "class Beispiel(object): \n",
    "    def __init__(self): \n",
    "        print(\"Der Konstruktor wurde aufgerufen!\" ) \n",
    "    \n",
    "\n",
    "a = Beispiel() \n",
    "\n",
    "del a \n",
    "\n",
    "a "
   ]
  },
  {
   "cell_type": "markdown",
   "metadata": {},
   "source": [
    "**Variable in Klassen**\n",
    "\n",
    "*Instanzvariable*\n",
    "\n",
    "Instanzvariable sind Variable, die zu einem Objekt gehören. Jedes Objekt hat seine eigene Kopie des Variable, d.h. sie werden nicht gemeinsam benutzt und sind auf keine Weise mit der Variable des gleichen Namens in einer anderen Instanz der selben Klasse verknüpft.\n",
    "\n",
    "Wir unterscheiden:\n",
    "\n",
    "- **public**: Das Element kann innerhalb der eigenen Klasse und in allen anderen\n",
    "Klassen verwendet werden. Alle Variablen und Methoden sind in Python standardmäßig\n",
    "public.\n",
    "- **protected**: Das Element kann in der eigenen und in Klassen, die von dieser abgeleitet\n",
    "sind, verwendet werden. Mit dem Voranstellen eines einzelnen Unterstrichs\n",
    "wird ein Element als protected gekennzeichnet (dazu später Genaueres).\n",
    "- **private**: Das Element kann nur innerhalb der eigenen Klasse verwendet werden.\n",
    "Mit dem Voranstellen von zwei Unterstrichen wird ein Element als private gekennzeichnet.\n"
   ]
  },
  {
   "cell_type": "code",
   "execution_count": 45,
   "metadata": {},
   "outputs": [
    {
     "name": "stdout",
     "output_type": "stream",
     "text": [
      "Stein\n",
      "Maier\n"
     ]
    }
   ],
   "source": [
    "class Person:\n",
    "    #Konstruktor\n",
    "    def __init__(self,vorname,name):\n",
    "        self.name = name\n",
    "        self.vorname = vorname\n",
    "        #public Attribute, immer verwendbar\n",
    "    #Methoden\n",
    "    def getPerson(self):\n",
    "        return self.name+\" \" +self.vorname\n",
    "    \n",
    "\n",
    "    \n",
    "p=Person('Lisa','Stein') #Instanziierung\n",
    "print(p.name)\n",
    "\n",
    "p.name='Maier'\n",
    "print(p.name)"
   ]
  },
  {
   "cell_type": "markdown",
   "metadata": {},
   "source": [
    "**Klassenvariable**\n",
    "\n",
    "Manchmal ist es sinnvoll Eigenschaften zu verwenden, die nicht an Instanzen einer\n",
    "Klasse gebunden sind. Ein Beispiel ist eine Variable, welche die Anzahl der angelegten\n",
    "Objekte einer Klasse zählt. Solche Klassenvariable werden gemeinsam benutzt, in dem Sinne, dass auf sie von allen Objekten (Instanzen) der Klasse zugegriffen wird. Es gibt nur eine Kopie einer Klassenvariable, und wenn irgendein Objekt eine Änderung an einer Klassenvariable vornimmt, dann spiegelt sich diese Änderung sofort auch in allen anderen Instanzen der Klasse wieder.\n"
   ]
  },
  {
   "cell_type": "code",
   "execution_count": 46,
   "metadata": {},
   "outputs": [],
   "source": [
    "class Person:\n",
    "    anzahl=0 #Klassenvariable\n",
    "    #Konstruktor\n",
    "    def __init__(self,vorname,name):\n",
    "        self.__name = name\n",
    "        self.__vorname = vorname\n",
    "        # Wenn diese Person erzeugt wird,\n",
    "        # traegt er/sie zur Anzahl der Personen bei\n",
    "        Person.anzahl += 1\n",
    "    \n",
    "    #Methoden\n",
    "    def getPerson(self):\n",
    "        return self.__name+\" \" +self.__vorname\n",
    "    \n",
    "    def wieViele(self):\n",
    "        '''Gibt die aktuelle Personenzahl aus.'''\n",
    "        if Person.anzahl == 1:\n",
    "            print('Ich bin ganz allein hier.')\n",
    "        else:\n",
    "            print('Es gibt hier %d Personen.' % Person.anzahl)"
   ]
  },
  {
   "cell_type": "code",
   "execution_count": 47,
   "metadata": {},
   "outputs": [
    {
     "name": "stdout",
     "output_type": "stream",
     "text": [
      "Ich bin ganz allein hier.\n",
      "Es gibt hier 2 Personen.\n"
     ]
    }
   ],
   "source": [
    "p1=Person('Lisa','Stein')\n",
    "p1.wieViele()\n",
    "\n",
    "p2=Person('Lars', 'Müller')\n",
    "p1.wieViele()\n"
   ]
  },
  {
   "cell_type": "markdown",
   "metadata": {},
   "source": [
    "**Methoden**\n",
    "\n",
    "**Instanzmethoden**\n",
    "\n",
    "Einer Instanzmethode  wird als erster Parameter die Objektreferenz *self* übergeben. Über den Parameter *self* hat die Methode Zugriff auf alle Eigenschaften derjenigen Instanz, aus der heraus die Methode später aufgerufen wird, z.B. *getPerson* in obigem Beispiel.\n",
    "\n",
    "**Klassenmethoden**\n",
    "\n",
    "Eine Klassenmethode ist an die Klasse nicht an die Instanz gebunden. Auch ohne dass ein Objekt instanziiert wurde, lässt sich eine Klassenmethode aufrufen.\n",
    "\n",
    "In Python wird eine Klassenmethode durch *@classmethod* definiert.  Man bezeichnet *@classmethod* auch als einen *Dekorator*. Das erste Argument einer Klassenmethode ist eine Referenz auf die Klasse *cls*, d.h. das Klassenobjekt.\n",
    "\n"
   ]
  },
  {
   "cell_type": "code",
   "execution_count": 61,
   "metadata": {},
   "outputs": [],
   "source": [
    "class Person:\n",
    "    anzahl=0\n",
    "    #Konstruktor\n",
    "    def __init__(self,vorname,name):\n",
    "        self.__name = name\n",
    "        self.__vorname = vorname\n",
    "        # Wenn diese Person erzeugt wird,\n",
    "        # traegt er/sie zur Bevoelkerung bei\n",
    "        Person.anzahl += 1\n",
    "    \n",
    "    #Methoden\n",
    "    @classmethod    \n",
    "    def anzahlPersonen(cls):\n",
    "        return Person.anzahl"
   ]
  },
  {
   "cell_type": "code",
   "execution_count": 62,
   "metadata": {},
   "outputs": [
    {
     "name": "stdout",
     "output_type": "stream",
     "text": [
      "0\n"
     ]
    },
    {
     "data": {
      "text/plain": [
       "2"
      ]
     },
     "execution_count": 62,
     "metadata": {},
     "output_type": "execute_result"
    }
   ],
   "source": [
    "print(Person.anzahlPersonen())\n",
    "\n",
    "p1=Person('Lisa','Stein')\n",
    "p2=Person('Lars', 'Müller')\n",
    "\n",
    "Person.anzahlPersonen()"
   ]
  },
  {
   "cell_type": "markdown",
   "metadata": {},
   "source": [
    "**Statische\n",
    "Methoden**\n",
    "\n",
    "Statische\n",
    "Methoden existieren unabhängig von einer bestimmten Instanz. Ein Programm kann eine statische Methode ausführen, ohne zuerst ein Objekt zu erzeugen. Statische Methoden werden mit Hilfe des Dekorators *@staticmethod* definiert. Statische Methoden benötigen keinen *self* ode *cls*-Parameter. Der erste Parameter einer statischen Methode kann ein beliebiger Parameter sein. Die Methode ist also weder an die Klasse noch an eine Instanz gebunden. \n",
    " Der Zugriff auf eine statische Methode erfolgt entweder durch die Klasse oder durch die Instanz\n"
   ]
  },
  {
   "cell_type": "code",
   "execution_count": 56,
   "metadata": {},
   "outputs": [],
   "source": [
    "class Person:\n",
    "    anzahl=0\n",
    "    #Konstruktor\n",
    "    def __init__(self,vorname,name):\n",
    "        self.__name = name\n",
    "        self.__vorname = vorname\n",
    "        # Wenn diese Person erzeugt wird,\n",
    "        # traegt er/sie zur Bevoelkerung bei\n",
    "        Person.anzahl += 1\n",
    "    \n",
    "    #Methoden\n",
    "    @staticmethod    \n",
    "    def anzahlPersonen():\n",
    "        return Person.anzahl+Mensch.anzahl\n",
    "\n",
    "class Mensch:\n",
    "    anzahl=0\n",
    "    #Konstruktor\n",
    "    def __init__(self,id):\n",
    "        self.__id = id\n",
    "        # Wenn diese Person erzeugt wird,\n",
    "        # traegt er/sie zur Bevoelkerung bei\n",
    "        Mensch.anzahl += 1\n",
    "    \n",
    "    #Methoden\n",
    "    @staticmethod    \n",
    "    def anzahlPersonen():\n",
    "        return Mensch.anzahl + Person.anzahl  "
   ]
  },
  {
   "cell_type": "code",
   "execution_count": 57,
   "metadata": {},
   "outputs": [
    {
     "name": "stdout",
     "output_type": "stream",
     "text": [
      "0\n",
      "0\n",
      "3\n",
      "3\n"
     ]
    }
   ],
   "source": [
    "print(Mensch.anzahlPersonen())\n",
    "\n",
    "print(Person.anzahlPersonen())\n",
    "\n",
    "p1=Person('Lisa','Stein')\n",
    "p2=Person('Lars', 'Müller')\n",
    "p3=Mensch(111)\n",
    "print(Mensch.anzahlPersonen())\n",
    "print(Person.anzahlPersonen())\n"
   ]
  },
  {
   "cell_type": "code",
   "execution_count": null,
   "metadata": {},
   "outputs": [],
   "source": []
  }
 ],
 "metadata": {
  "kernelspec": {
   "display_name": "Python 3",
   "language": "python",
   "name": "python3"
  },
  "language_info": {
   "codemirror_mode": {
    "name": "ipython",
    "version": 3
   },
   "file_extension": ".py",
   "mimetype": "text/x-python",
   "name": "python",
   "nbconvert_exporter": "python",
   "pygments_lexer": "ipython3",
   "version": "3.7.4"
  }
 },
 "nbformat": 4,
 "nbformat_minor": 2
}
