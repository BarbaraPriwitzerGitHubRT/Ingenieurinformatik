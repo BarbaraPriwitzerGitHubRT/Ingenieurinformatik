{
 "cells": [
  {
   "cell_type": "markdown",
   "metadata": {},
   "source": [
    "**Iterative Algorithmen**"
   ]
  },
  {
   "cell_type": "code",
   "execution_count": 12,
   "metadata": {},
   "outputs": [],
   "source": [
    "#Bubblesort\n",
    "def bubbleSort(array):\n",
    "    n = len(array)\n",
    "    vertauschung=True\n",
    "    while(vertauschung==True):\n",
    "    # Gehe durch alle Array Elemente\n",
    "        vertauschung=False\n",
    "        print(array)\n",
    "        for i in range(n-1):\n",
    "            if array[i] > array[i + 1] :\n",
    "                print('Vertauschung\\n')\n",
    "                print('Element mit Index %d: %d\\n' %(i,array[i]))\n",
    "                print('Element mit Index %d: %d\\n' %(i+1,array[i+1]))\n",
    "                array[i], array[i + 1] = array[i + 1], array[i]\n",
    "                vertauschung=True\n",
    "    "
   ]
  },
  {
   "cell_type": "code",
   "execution_count": 14,
   "metadata": {},
   "outputs": [],
   "source": [
    "array=[4,7,2,9,0,1,5]\n",
    "bubbleSort(array)\n"
   ]
  },
  {
   "cell_type": "markdown",
   "metadata": {},
   "source": [
    "**Rekursive Algorithmen**\n",
    "\n",
    "Bei der rekursiven Programmierung ruft sich eine Prozedur, Funktion oder Methode in einem Computerprogramm selbst wieder auf. Wichtig bei der rekursiven Programmierung ist eine Abbruchbedingung in dieser Funktion, weil sich das rekursive Programm sonst theoretisch unendlich oft selbst aufrufen würde."
   ]
  },
  {
   "cell_type": "code",
   "execution_count": 15,
   "metadata": {},
   "outputs": [],
   "source": [
    "def fakultaet(n): #Rekursive Berechnung\n",
    "    if n==0:\n",
    "        ergebnis=1\n",
    "    else:\n",
    "        ergebnis=n*fakultaet(n-1)\n",
    "    return(ergebnis)\n",
    "    "
   ]
  },
  {
   "cell_type": "code",
   "execution_count": 22,
   "metadata": {},
   "outputs": [],
   "source": [
    "#fakultaet(40)\n",
    "#fakultaet(400)\n",
    "#fakultaet(4000)"
   ]
  },
  {
   "cell_type": "code",
   "execution_count": 6,
   "metadata": {},
   "outputs": [],
   "source": [
    "def fakultaet(n): #Iterative Berechnung\n",
    "    ergebnis=1\n",
    "    for i in range(n):\n",
    "        ergebnis*=(i+1)\n",
    "    return(ergebnis)"
   ]
  },
  {
   "cell_type": "code",
   "execution_count": 23,
   "metadata": {},
   "outputs": [],
   "source": [
    "fakultaet(4000)\n"
   ]
  },
  {
   "cell_type": "markdown",
   "metadata": {},
   "source": [
    "**Aufgabe**\n",
    "Definieren Sie eine rekursive Funktion, welche die Fibonacci-Zahlen \n",
    "\n",
    "$1,1,2,3,5,8,13,21,\\dots$\n",
    "\n",
    "berechnet"
   ]
  },
  {
   "cell_type": "code",
   "execution_count": 1,
   "metadata": {},
   "outputs": [],
   "source": [
    "def fibonacci(n):\n",
    "    \n",
    "    \n",
    "    return(fib)\n",
    "\n",
    "\n",
    "            "
   ]
  },
  {
   "cell_type": "code",
   "execution_count": 24,
   "metadata": {},
   "outputs": [],
   "source": [
    "fibonacci(20)"
   ]
  },
  {
   "cell_type": "markdown",
   "metadata": {},
   "source": [
    "**Teile-und-Herrsche**\n",
    "\n",
    "Die Teile-und-Herrsche-Methode (engl. „divide and conquer“) ist ein algorithmisches\n",
    "Prinzip, bei dem ein Problem so lange in kleinere und einfachere Teilprobleme zerlegt\n",
    "wird („teile“), bis man diese einfach lösen („beherrschen“) kann. \n",
    "\n",
    "Der QuickSort Algorithmus ist ein Verfahren aus der Klasse der Teile-und-Herrsche Algorithmen.\n",
    "\n",
    "Bei der Teile-und-herrsche-Methode wird ausgenutzt, dass bei vielen Problemen der Lösungsaufwand\n",
    "sinkt, wenn man das Problem in kleinere Teilprobleme zerlegt. Dieses\n",
    "Prinzip lässt sich meist durch rekursive Programmierung umsetzen wie unten für QuickSort."
   ]
  },
  {
   "cell_type": "code",
   "execution_count": 1,
   "metadata": {},
   "outputs": [],
   "source": [
    "#Quicksort - Algorithmus\n",
    "\n",
    "def QuickSort(array):\n",
    "\n",
    "    elements = len(array)\n",
    "    \n",
    "    #Abbruchbedingung\n",
    "    if elements < 2:\n",
    "        return array\n",
    "    \n",
    "    pivot_position = 0 #Position des Pivot Elements - hier immer mit erstem Element starten\n",
    "    pivot=array[pivot_position]\n",
    "      \n",
    "    #immer durchführen, Abbruch nur durch else unten\n",
    "    while True: \n",
    "        unten=0\n",
    "        oben =elements-1\n",
    "        #von links nach rechts durch den Array gehen\n",
    "        while unten < pivot_position and array[unten] <= pivot:\n",
    "                unten = unten + 1\n",
    "                \n",
    "        #von rechts nach links durch den Array gehen\n",
    "        while pivot_position < oben and array[oben] >= pivot:\n",
    "                oben = oben - 1\n",
    "        #jetzt nachschauen, ob unten und oben gleich sind, also alles geordnet\n",
    "        if unten < oben:     \n",
    "        #Werte vertauschen\n",
    "                array[unten], array[oben] = array[oben], array[unten]\n",
    "                if unten == pivot_position:\n",
    "                    pivot_position=oben\n",
    "                elif oben == pivot_position:\n",
    "                    pivot_position=unten\n",
    "                pivot=array[pivot_position]   \n",
    "        else:\n",
    "                break\n",
    "    \n",
    "    \n",
    "    links=array[0:pivot_position]\n",
    "    left=QuickSort(links) # rekursiv Elemente links von Pivot sortieren\n",
    "    rechts=array[pivot_position+1:elements]\n",
    "    right = QuickSort(rechts)#rekursiv Elemente rechts von Pivot sortieren\n",
    "    \n",
    "    array = left + [array[pivot_position]] + right #alles zusammensetzen\n",
    "    \n",
    "    return array\n"
   ]
  },
  {
   "cell_type": "code",
   "execution_count": 8,
   "metadata": {},
   "outputs": [],
   "source": [
    "array = [5,1,3,9,8,2,7,0,4]\n",
    " \n",
    "a=QuickSort(array)\n",
    "print(a)\n"
   ]
  },
  {
   "cell_type": "code",
   "execution_count": null,
   "metadata": {},
   "outputs": [],
   "source": []
  }
 ],
 "metadata": {
  "kernelspec": {
   "display_name": "Python 3",
   "language": "python",
   "name": "python3"
  },
  "language_info": {
   "codemirror_mode": {
    "name": "ipython",
    "version": 3
   },
   "file_extension": ".py",
   "mimetype": "text/x-python",
   "name": "python",
   "nbconvert_exporter": "python",
   "pygments_lexer": "ipython3",
   "version": "3.8.5"
  }
 },
 "nbformat": 4,
 "nbformat_minor": 4
}
