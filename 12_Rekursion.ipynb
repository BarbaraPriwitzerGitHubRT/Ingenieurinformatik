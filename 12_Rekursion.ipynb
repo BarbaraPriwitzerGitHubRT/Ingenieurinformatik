{
 "cells": [
  {
   "cell_type": "markdown",
   "metadata": {},
   "source": [
    "**Rekursive Algorithmen**\n",
    "\n",
    "Bei der rekursiven Programmierung ruft sich eine Prozedur, Funktion oder Methode in einem Computerprogramm selbst wieder auf. Wichtig bei der rekursiven Programmierung ist eine Abbruchbedingung in dieser Funktion, weil sich das rekursive Programm sonst theoretisch unendlich oft selbst aufrufen würde."
   ]
  },
  {
   "cell_type": "code",
   "execution_count": 3,
   "metadata": {},
   "outputs": [],
   "source": [
    "def fakultaet(n): #Rekursvie Berechnung\n",
    "    if n==0:\n",
    "        ergebnis=1\n",
    "    else:\n",
    "            ergebnis=n*fakultaet(n-1)\n",
    "    return(ergebnis)\n",
    "    "
   ]
  },
  {
   "cell_type": "code",
   "execution_count": 7,
   "metadata": {},
   "outputs": [],
   "source": [
    "fakultaet(4)\n"
   ]
  },
  {
   "cell_type": "code",
   "execution_count": 8,
   "metadata": {},
   "outputs": [],
   "source": [
    "def fakultaet(n): #Rekursvie Berechnung\n",
    "    ergebnis=1\n",
    "    for i in range(n):\n",
    "        ergebnis*=(i+1)\n",
    "    return(ergebnis)"
   ]
  },
  {
   "cell_type": "code",
   "execution_count": 10,
   "metadata": {},
   "outputs": [],
   "source": [
    "fakultaet(4)\n"
   ]
  },
  {
   "cell_type": "markdown",
   "metadata": {},
   "source": [
    "**Aufgabe**\n",
    "Definieren Sie eine rekursive Funktion, welche die Fibonacci-Zahlen \n",
    "\n",
    "$1,1,2,3,5,8,13,21,\\dots$\n",
    "\n",
    "berechnet"
   ]
  },
  {
   "cell_type": "code",
   "execution_count": null,
   "metadata": {},
   "outputs": [],
   "source": []
  },
  {
   "cell_type": "markdown",
   "metadata": {},
   "source": [
    "**Teile-und-Herrsche**\n",
    "\n",
    "Die Teile-und-Herrsche-Methode (engl. „divide and conquer“) ist ein algorithmisches\n",
    "Prinzip, bei dem ein Problem so lange in kleinere und einfachere Teilprobleme zerlegt\n",
    "wird („teile“), bis man diese einfach lösen („beherrschen“) kann. \n",
    "\n",
    "Der QuickSort Algorithmus ist ein Verfahren aus der Klasse der Teile-und-Herrsche Algorithmen.\n",
    "\n",
    "Bei der Teile-und-herrsche-Methode wird ausgenutzt, dass bei vielen Problemen der Lösungsaufwand\n",
    "sinkt, wenn man das Problem in kleinere Teilprobleme zerlegt. Dieses\n",
    "Prinzip lässt sich meist durch rekursive Programmierung umsetzen wie unten für QuickSort."
   ]
  },
  {
   "cell_type": "code",
   "execution_count": 28,
   "metadata": {},
   "outputs": [],
   "source": [
    "#Quicksort - Algorithmus\n",
    "\n",
    "def pivot(array, start, end):\n",
    " \n",
    "#Initialisierung\n",
    "    pivot = array[start]\n",
    "    unten = start + 1\n",
    "    oben = end\n",
    " \n",
    "    while True: #Abbruch durch else, s.u.\n",
    "    \n",
    "#von links nach rechts durch den Array gehen\n",
    "        while unten <= oben and array[unten] <= pivot:\n",
    "            unten = unten + 1\n",
    "            \n",
    " #von rechts nach links durch den Array gehen\n",
    "        while unten <= oben and array[oben] >= pivot:\n",
    "            oben = oben - 1\n",
    " \n",
    "#jetzt nachschauen, ob unten oben gekreuzt hat\n",
    "        if unten <= oben:\n",
    " \n",
    "#Werte vertauschen\n",
    "            array[unten], array[oben] = array[oben], array[unten]\n",
    "          \n",
    "        else:\n",
    "#andenrfalls Abbruch - alles sortiert\n",
    "            break\n",
    " \n",
    "# jetzt den Pivot - Wert array[start] an die richtige Stelle tauschen\n",
    "    array[start], array[oben] = array[oben], array[start]\n",
    " \n",
    "#die Position des Pivot Wertes zurückgeben\n",
    "    return oben\n",
    "  \n",
    "def quickSort(array, start, end):\n",
    "    if start >= end:\n",
    "        return\n",
    " \n",
    "#Pivot Element\n",
    "    p = pivot(array, start, end)\n",
    "#rekursiv die linke Hälfte sortieren\n",
    "    quickSort(array, start, p-1)\n",
    "#rekursiv die rechte Hälfte sortieren\n",
    "    quickSort(array, p+1, end)"
   ]
  },
  {
   "cell_type": "code",
   "execution_count": 29,
   "metadata": {},
   "outputs": [
    {
     "name": "stdout",
     "output_type": "stream",
     "text": [
      "[1, 2, 3, 4, 0, 7, 8, 5, 9]\n"
     ]
    }
   ],
   "source": [
    "array = [5,1,3,9,8,2,7,0,4]\n",
    " \n",
    "quickSort(array, 0, len(array) - 1)\n",
    "print(array)\n"
   ]
  },
  {
   "cell_type": "code",
   "execution_count": null,
   "metadata": {},
   "outputs": [],
   "source": []
  }
 ],
 "metadata": {
  "kernelspec": {
   "display_name": "Python 3",
   "language": "python",
   "name": "python3"
  },
  "language_info": {
   "codemirror_mode": {
    "name": "ipython",
    "version": 3
   },
   "file_extension": ".py",
   "mimetype": "text/x-python",
   "name": "python",
   "nbconvert_exporter": "python",
   "pygments_lexer": "ipython3",
   "version": "3.8.5"
  }
 },
 "nbformat": 4,
 "nbformat_minor": 4
}
