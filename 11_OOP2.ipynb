{
 "cells": [
  {
   "cell_type": "markdown",
   "id": "4c286ff3",
   "metadata": {},
   "source": [
    "**Objektorientierte Programmierung in Python II**\n",
    "\n",
    "**Methoden und Abgeleitete Klassen**\n",
    "\n",
    "**Teil 1**\n",
    "\n",
    "Die folgende Klasse mit Namen *Person* erhält durch den Konstruktor  die nicht-öffentlichen Instanzvariablen *name* und *vorname*. Die Methode *getPerson()* kann Name und Vorname der Person ausgeben."
   ]
  },
  {
   "cell_type": "code",
   "execution_count": 1,
   "id": "bd4b3fc0",
   "metadata": {},
   "outputs": [],
   "source": [
    "class Person:\n",
    "    #Konstruktor\n",
    "    def __init__(self,vorname,name):\n",
    "        self.__name = name  #Attribut name\n",
    "        self.__vorname = vorname #Attribut vorname\n",
    "        #Attribute, innerhalb der Klasse verwendbar\n",
    "    \n",
    "    \n",
    "    #Methoden\n",
    "    def getPerson(self):\n",
    "        return self.__name+\" \" +self.__vorname\n",
    "    \n",
    "    \n",
    "#Ende der Klassendefinition Person\n",
    "\n",
    "\n",
    "#Instanziierung einer Instanz der Klasse Person\n",
    "p=Person('Lisa','Maier')\n",
    "print(p.getPerson()) # Methode\n",
    "\n",
    "#alternativ\n",
    "\n",
    "a='Lisa' \n",
    "b='Müller'\n",
    "p=Person(a,b) #Instanziierung einer Instanz der Klasse Person\n",
    "print(p.getPerson()) # Methode\n",
    "\n",
    "#neue Instanz\n",
    "p1=Person('Otto','Müller')\n",
    "print(p1.getPerson()) "
   ]
  },
  {
   "cell_type": "markdown",
   "id": "78fe774b",
   "metadata": {},
   "source": [
    "**Methoden**\n",
    "\n",
    "Eine Methode ist eine Funktion, die zu einem Objekt gehört. \n",
    "- Methoden werden in dem von *class* eingeleiteten Block definiert.\n",
    "- Methoden werden immer mit runden Klammern aufgerufen.\n",
    "\n",
    "\n",
    "**Instanzmethoden**\n",
    "\n",
    "Einer Instanzmethode  wird als erster Parameter die Objektreferenz *self* übergeben. Über den Parameter *self* hat die Methode Zugriff auf alle Eigenschaften derjenigen Instanz, aus der heraus die Methode später aufgerufen wird, z.B. *getPerson* in obigem Beispiel.\n",
    "\n",
    "**Namenskonventionen**\n",
    "\n",
    "Achtung! Datenattribute überschreiben Methodenattribute desselben Namens.\n",
    "\n",
    "Um zufällige Namenskonflikte zu vermeiden, die zu schwer auffindbaren Fehlern in großen Programmen führen, ist es sinnvoll, sich auf irgendeine Konvention zu verständigen, die das Risiko solcher Konflikte vermindert. Wir verwenden die Konvention, dass Klassennamen groß und Methodennamen klein\n",
    "geschrieben werden.\n"
   ]
  },
  {
   "cell_type": "code",
   "execution_count": 2,
   "id": "11cf4f08",
   "metadata": {},
   "outputs": [],
   "source": [
    "print(p.getPerson)\n",
    "print(p.getPerson())\n",
    "#p.getPerson='a' #Überschreiben der Methode durch ein Attribut desselben Namens\n",
    "#print(p.getPerson)\n",
    "#p.getPerson()"
   ]
  },
  {
   "cell_type": "markdown",
   "id": "b6d87ac7",
   "metadata": {},
   "source": [
    "**Verwaltungsmethoden: Konstruktoren, Getter und Setter**\n",
    "\n",
    "Konstruktoren sind spezielle Methoden, die aufgerufen werden, wenn ein Objekt erzeugt wird, d.h. wenn\n",
    "für dieses Objekt Speicherplatz reserviert wird.  \n",
    "\n",
    "Der Konstruktor in Python ist die Initialisierungsmethode *\\_\\_init\\_\\_*. \n",
    "\n",
    "Der Parameter *self* ist immer der erste Variablenname in der Parameterliste des Konstruktors, er stellt eine Referenz auf das Objekt selbst dar. Konstruktoren haben keine Rückgabewerte, da sie nicht direkt aufgerufen werden.\n",
    "\n",
    "Beachten Sie die doppelten Unterstriche sowohl am Anfang als auch am Ende!\n",
    "\n",
    "**Getter und Setter**\n",
    "\n",
    "Getter (auch als Accessors bekannt) und Setter (auch bekannt als Mutators)\n",
    "werden in vielen objektorientierten Programmiersprachen verwendet, um das\n",
    "Prinzip der Datenkapselung sicherzustellen. Nach diesem Prinzip werden die\n",
    "Variable einer Klasse privatisiert, um den Code zu verbergen und zu schützen.\n",
    "Dann wird der Getter zum Abrufen der Variablenwerte und der Setter zum\n",
    "Zuweisen bzw. Ändern der Variablenwerte definiert. Für jede Variable der\n",
    "Klasse werden solche Methoden erstellt.\n",
    "\n",
    "In Python ist die Getter Methode eine Instanzmethode mit einer definierten Aufgabe. Es ist üblich, als Namen den Bezeichner *getAttributname* zu\n",
    "verwenden."
   ]
  },
  {
   "cell_type": "code",
   "execution_count": 3,
   "id": "6f9a400c",
   "metadata": {},
   "outputs": [],
   "source": [
    "class Person:\n",
    "    #Konstruktor\n",
    "    def __init__(self,vorname,name):\n",
    "        self.__name = name\n",
    "        self.__vorname = vorname\n",
    "            \n",
    "    #Getter Methoden\n",
    "    def getName (self):\n",
    "        return self.__name\n",
    "    def getVorname (self):\n",
    "        return self.__vorname\n",
    "\n",
    "p=Person ('Lisa','Stein')\n",
    "print(p.getName())\n",
    "print(p.getVorname())"
   ]
  },
  {
   "cell_type": "markdown",
   "id": "b3e7f2bf",
   "metadata": {},
   "source": [
    "**Setter-Methode**\n",
    "\n",
    "Auch die Setter Methode ist lediglich eine Instanzmethode mit einer definierten Aufgabe. Als Bezeichner für den Setter wird in der Regel *setAttributname* verwendet.\n",
    "\n",
    "Beachten Sie, dass es stattdessen auch möglich wäre, die Instanzvariable als public oder protected zu wählen. Die Setter-Methode bietet aber den Vorteil einer einheitlichen Benutzerschnittstelle und schützt vor ungewollten Änderungen. In dieser Schnittstelle kann auch geprüft werden, ob die Änderung des Attributwertes zulässig ist. "
   ]
  },
  {
   "cell_type": "code",
   "execution_count": 5,
   "id": "62c9289a",
   "metadata": {},
   "outputs": [],
   "source": [
    "class Person:\n",
    "    \n",
    "    #Konstruktor\n",
    "    def __init__(self,vorname,name,plz):\n",
    "        self.__name = name\n",
    "        self.__vorname = vorname\n",
    "        if(plz>0) and (plz<=99999):\n",
    "            self.__plz=plz\n",
    "        else:\n",
    "            print('Falscher Postleitzahlwert')\n",
    "              \n",
    "    #Setter Methode\n",
    "    def setPlz(self,neuePlz):\n",
    "        if(neuePlz>0) and (neuePlz<=99999):\n",
    "            self.__plz=neuePlz\n",
    "            \n",
    "   #Getter Methoden\n",
    "    def getPlz(self):\n",
    "        return self.__plz"
   ]
  },
  {
   "cell_type": "code",
   "execution_count": 6,
   "id": "7dc369fb",
   "metadata": {},
   "outputs": [],
   "source": [
    "p=Person('Lisa','Stein',70101)\n",
    "\n",
    "print(p.getPlz())\n",
    "\n",
    "p.setPlz(171001)\n",
    "print(p.getPlz())"
   ]
  },
  {
   "cell_type": "markdown",
   "id": "8b0993f1",
   "metadata": {},
   "source": [
    "**Teil 2**\n",
    "\n",
    "**Hierarchie von Klassen: abgeleitete Klassen**\n",
    "\n",
    "In objektorientierten Sprachen können Klassen von anderen Klassen abgeleitet werden. Die abgeleitete Klasse erbt Variablen und Methoden von der Basisklasse. Somit unterstützen die abgeleiteten Klassen die gleichen Methoden/Variablen wie die Basisklassen -und können überall dort benutzt werden, wo die Basisklasse benutzt werden kann.\n",
    "\n",
    "Für abgeleitete Klassen können genau wie für Basisklassen Methoden und Variable definiert werden.\n",
    "\n"
   ]
  },
  {
   "cell_type": "code",
   "execution_count": 7,
   "id": "7387f3d0",
   "metadata": {},
   "outputs": [],
   "source": [
    "class Person: \n",
    "\n",
    "    def __init__(self, vorname, nachname):\n",
    "        self._vorname = vorname\n",
    "        self._nachname = nachname\n",
    "               \n",
    "    def printinfos(self):\n",
    "       print(self._vorname, self._nachname)\n",
    "\n",
    "#die abgeleitete Klasse bezieht sich in der Definition auf die übergeordnete Klasse\n",
    "class Student(Person):\n",
    "    def __init__(self, vorname, nachname,mtknr):\n",
    "        self._vorname = vorname\n",
    "        self._nachname = nachname\n",
    "        self.matrikelnr = mtknr  #die abgeleitete Klasse hat eine zusätzliche Instanzvariable"
   ]
  },
  {
   "cell_type": "code",
   "execution_count": 8,
   "id": "01507263",
   "metadata": {},
   "outputs": [],
   "source": [
    "s=Student('Charlie','Brown',12345)\n",
    "s.printinfos()"
   ]
  },
  {
   "cell_type": "markdown",
   "id": "f9218f24",
   "metadata": {},
   "source": [
    "**Vererbung**\n",
    "\n",
    "Durch  Vererbung übernimmt eine abgeleitete Klasse die Variablen und die Methoden der Basisklasse. \n",
    "\n",
    "Wird eine angeforderte Variable oder Methode nicht innerhalb der Klasse gefunden, so wird in der Basisklasse weitergesucht. Diese Regel wird rekursiv angewandt, wenn die Basisklasse selbst von einer anderen Klasse abgeleitet wird."
   ]
  },
  {
   "cell_type": "code",
   "execution_count": 9,
   "id": "f61cd9f3",
   "metadata": {},
   "outputs": [],
   "source": [
    "lisa=Student('Lisa', 'Stein', 123456)\n",
    "\n",
    "#Die Methode printinfos() wurde vererbt\n",
    "lisa.printinfos()"
   ]
  },
  {
   "cell_type": "markdown",
   "id": "a57b747f",
   "metadata": {},
   "source": [
    "**Überschreiben**\n",
    "\n",
    "Der Begriff Überschreiben (Englisch: override) beschreibt eine Technik in der objektorientierten Programmierung, die es einer abgeleiteten Klasse erlaubt, eine eigene Implementierung einer von der Basisklasse geerbten Methode zu definieren. Dabei ersetzt die überschreibende Methode der abgeleiteten Klasse die überschriebene Methode. \n",
    "\n",
    "Damit entsteht\n",
    "in Basis- und Kindklasse unterschiedliches Verhalten.\n",
    "Überschriebene Methoden aus der Basisklasse und jede beliebige andere Methode aus der Basisklasse können\n",
    "aus der abgeleiteten Klasse heraus mit ihrem Namen angesprochen werden.\n",
    "\n",
    "In Python ist das Schlüsselwort *super()* hilfreich, mit dem angegeben werden kann, wie die übergeordnete Methode genutzt wird."
   ]
  },
  {
   "cell_type": "code",
   "execution_count": 10,
   "id": "900c6dd6",
   "metadata": {},
   "outputs": [],
   "source": [
    "class Student(Person):\n",
    "    def __init__(self, vorname, nachname,mtknr):\n",
    "        super().__init__(vorname, nachname) #hier wird __init__ der Basisklasse genutzt\n",
    "        self.matrikelnr = mtknr #hier wird __init__ für die abgeleitete Klasse erweitert\n",
    "        \n",
    "maxM=Student('Max','Moritz',123123)\n",
    "print(maxM._vorname)\n",
    "print(maxM.matrikelnr)"
   ]
  },
  {
   "cell_type": "code",
   "execution_count": 13,
   "id": "f54280f6",
   "metadata": {},
   "outputs": [],
   "source": [
    "class Student(Person):\n",
    "    def __init__(self, vorname, nachname,mtknr):\n",
    "        self._vorname = vorname\n",
    "        self._nachname = nachname\n",
    "        self.matrikelnr = mtknr\n",
    "\n",
    "    def printinfos(self):\n",
    "       print(self._vorname, self._nachname,'hat die Matrikelnummer',self.matrikelnr) \n",
    "        #Überschreiben der Methode printinfos()"
   ]
  },
  {
   "cell_type": "code",
   "execution_count": 11,
   "id": "41b14c04",
   "metadata": {},
   "outputs": [],
   "source": [
    "lisa=Student('Lisa', 'Stein',123456)\n",
    "lisa.printinfos()\n",
    "\n",
    "lisa2=Person('Lisa', 'Stein')\n",
    "lisa2.printinfos()    #für Person ist die ursprüngliche Methode erhalten geblieben"
   ]
  },
  {
   "cell_type": "markdown",
   "id": "5192fbd4",
   "metadata": {},
   "source": [
    "**Aufgabe**\n",
    "\n",
    "Unten ist die Klasse Fahrzeug und die abgeleitete Klasse Personenwagen definiert.\n",
    "\n",
    "- Bilden Sie eine Instanz Personenwagen und verwenden Sie für diese Instanz die Methode *get_infos*.\n",
    "- Definieren Sie eine von Fahrzeug abgeleitete Klasse Lastwagen mit der zusätzlichen Instanzvariable *last* und überschreiben Sie die Methode *get_infos*, so dass Sie Informationen zur möglichen Zuladung *last* erhalten.\n",
    "- Bilden Sie eine Instanz Lastwagen und verwenden Sie dafür die überschriebene Methode *get_infos*."
   ]
  },
  {
   "cell_type": "code",
   "execution_count": 15,
   "id": "bdb2d28d",
   "metadata": {},
   "outputs": [],
   "source": [
    "class Fahrzeug:\n",
    "    def __init__(self, marke, hubraum, leistung):\n",
    "        self.marke = marke\n",
    "        self.hubraum = hubraum\n",
    "        self.leistung = leistung\n",
    "\n",
    "    def get_infos(self):\n",
    "        return \"Marke: \" + self.marke + \", Hubraum: \" +   str(self.hubraum) + \", Leistung: \" + str(self.leistung)\n",
    "\n",
    "class Personenwagen(Fahrzeug):\n",
    "    def __init__(self, marke, hubraum, leistung, anz_plaetze):\n",
    "        super().__init__(marke, hubraum, leistung)\n",
    "        self.anz_plaetze = anz_plaetze\n",
    "    \n",
    "    def get_infos(self):\n",
    "        return super().get_infos() + \", Anzahl Plaetze: \" + str(self.anz_plaetze)\n"
   ]
  },
  {
   "cell_type": "code",
   "execution_count": 1,
   "id": "8f4b5c92",
   "metadata": {},
   "outputs": [],
   "source": [
    "#Instanz Personenwagen\n"
   ]
  },
  {
   "cell_type": "code",
   "execution_count": 2,
   "id": "a3e16246",
   "metadata": {},
   "outputs": [],
   "source": [
    "#neue abgeleitete Klasse: Lastwagen\n",
    "\n"
   ]
  },
  {
   "cell_type": "code",
   "execution_count": 3,
   "id": "1b309afa",
   "metadata": {},
   "outputs": [],
   "source": [
    "#Instanz Lastwagen und Methode get_infos\n"
   ]
  },
  {
   "cell_type": "markdown",
   "id": "0f603290",
   "metadata": {},
   "source": [
    "**Teil 3**\n",
    "\n",
    "**Variablentyp protected**\n",
    "\n",
    "Das Beispiel unten demonstriert, wie der Variablentyp *protected* für abgeleitete Klassen genutzt werden kann. \n",
    "\n",
    "Zunächst werden die Instanzvariable für *Form* private definiert, es ergibt sich eine Fehlermeldung:"
   ]
  },
  {
   "cell_type": "code",
   "execution_count": 19,
   "id": "c6206be0",
   "metadata": {},
   "outputs": [],
   "source": [
    "# Basisklasse \n",
    "class Form: \n",
    "      \n",
    "    # Konstruktor \n",
    "    def __init__(self, length, breadth): \n",
    "        self.__length = length\n",
    "        self.__breadth = breadth \n",
    "          \n",
    "    # Instanzmethode\n",
    "    def displaySides(self):   \n",
    "        # Zugriff auf die geschützten Variablen\n",
    "        print(\"Länge der Form: \", self.__length) \n",
    "        print(\"Breite der Form: \", self.__breadth) \n",
    "  \n",
    "  \n",
    "# abgeleitete Klasse \n",
    "class Rechteck(Form): \n",
    "  \n",
    "    # Konstruktor \n",
    "    def __init__(self, length, breadth): \n",
    "        # noch eine Variante zur Vererbung: Aufruf des Konstruktors der Basisklasse \n",
    "        Form.__init__(self, length, breadth)\n",
    "\n",
    "    #Instanzmethode\n",
    "    def calculateArea(self): \n",
    "        # Zugriff auf die geschützten Variablen -> erzeugt Fehlermeldung\n",
    "        # daher besser: protected Variable benutzen\n",
    "        print(\"Fläche des Rechtecks: \", self.__length * self.__breadth) \n",
    "                      "
   ]
  },
  {
   "cell_type": "code",
   "execution_count": 4,
   "id": "79eb8e26",
   "metadata": {},
   "outputs": [],
   "source": [
    "# Erzeugen von Instanzen        \n",
    "obj = Rechteck(80, 50) \n",
    "  \n",
    "# Aufruf der vererbten Methode\n",
    "obj.displaySides()\n",
    "  \n",
    "# Aufruf der Instanzmethode der abgeleiteten Klasse\n",
    "obj.calculateArea()"
   ]
  },
  {
   "cell_type": "markdown",
   "id": "ba651346",
   "metadata": {},
   "source": [
    "Schreiben Sie nun den Code um unter Verwendung des Variablentyps protected und testen Sie, dass dann die Verwendung von calculateArea möglich ist."
   ]
  },
  {
   "cell_type": "code",
   "execution_count": 22,
   "id": "6ae47be5",
   "metadata": {},
   "outputs": [],
   "source": []
  },
  {
   "cell_type": "code",
   "execution_count": 5,
   "id": "bdd36777",
   "metadata": {},
   "outputs": [],
   "source": [
    "# Erzeugen von Instanzen        \n",
    "obj = Rechteck(80, 50) \n",
    "  \n",
    "# Aufruf der vererbten Methode\n",
    "obj.displaySides()\n",
    "  \n",
    "# Aufruf der Instanzmethode der abgeleiteten Klasse\n",
    "obj.calculateArea()"
   ]
  },
  {
   "cell_type": "code",
   "execution_count": null,
   "id": "1eec44bc",
   "metadata": {},
   "outputs": [],
   "source": []
  }
 ],
 "metadata": {
  "kernelspec": {
   "display_name": "Python 3 (ipykernel)",
   "language": "python",
   "name": "python3"
  },
  "language_info": {
   "codemirror_mode": {
    "name": "ipython",
    "version": 3
   },
   "file_extension": ".py",
   "mimetype": "text/x-python",
   "name": "python",
   "nbconvert_exporter": "python",
   "pygments_lexer": "ipython3",
   "version": "3.9.12"
  }
 },
 "nbformat": 4,
 "nbformat_minor": 5
}
