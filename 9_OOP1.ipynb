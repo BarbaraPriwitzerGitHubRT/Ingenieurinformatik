{
 "cells": [
  {
   "cell_type": "markdown",
   "metadata": {},
   "source": [
    "**Objektorientierte Programmierung in Python**\n",
    "\n",
    "**Klassen**\n",
    "\n",
    "Die folgende Klasse mit Namen *Person* erhält durch den Konstruktor  die nicht-öffentlichen Instanzvariablen *name* und *vorname*. Die Methode *getPerson()* kann Name und Vorname der Person ausgeben."
   ]
  },
  {
   "cell_type": "code",
   "execution_count": 2,
   "metadata": {},
   "outputs": [],
   "source": [
    "class Person:\n",
    "    #Konstruktor\n",
    "    def __init__(self,vorname,name):\n",
    "        self.__name = name  #Attribut name\n",
    "        self.__vorname = vorname #Attribut vorname\n",
    "        #Attribute, innerhalb der Klasse verwendbar\n",
    "    \n",
    "    \n",
    "    #Methoden\n",
    "    def getPerson(self):\n",
    "        return self.__name+\" \" +self.__vorname\n",
    "    \n",
    "    \n",
    "#Ende der Klassendefinition Person\n",
    "\n",
    "\n",
    "\n",
    "#Instanziierung einer Instanz der Klasse Person\n",
    "p=Person('Lisa','Maier')\n",
    "#print(p.getPerson()) # Methode\n",
    "\n",
    "#alternativ\n",
    "\n",
    "#a='Lisa' \n",
    "#b='Müller'\n",
    "#p=Person(a,b) #Instanziierung einer Instanz der Klasse Person\n",
    "#print(p.getPerson()) # Methode\n",
    "\n",
    "#neue Instanz\n",
    "#p1=Person('Otto','Müller')\n",
    "#print(p1.getPerson()) \n",
    "\n",
    "#c=p.getPerson()\n",
    "#print(p)\n",
    "#print(c)\n",
    "\n"
   ]
  },
  {
   "cell_type": "markdown",
   "metadata": {},
   "source": [
    "**Aufgabe**\n",
    "\n",
    "Definieren Sie zwei weitere Instanzen mit Ihrem Namen und dem Namens eines Freundes/ einer Freundin."
   ]
  },
  {
   "cell_type": "code",
   "execution_count": null,
   "metadata": {},
   "outputs": [],
   "source": []
  },
  {
   "cell_type": "markdown",
   "metadata": {},
   "source": [
    "**Variable in Klassen**\n",
    "\n",
    "*Instanzvariable*\n",
    "\n",
    "Instanzvariable sind Variable, die zu einem Objekt gehören. Jedes Objekt hat seine eigene Kopie der Variable, d.h. sie werden nicht gemeinsam benutzt und sind auf keine Weise mit der Variable des gleichen Namens in einer anderen Instanz der selben Klasse verknüpft.\n",
    "\n",
    "Wir unterscheiden:\n",
    "\n",
    "- **public**: Das Element kann innerhalb der eigenen Klasse und in allen anderen\n",
    "Klassen verwendet werden. Alle Variablen und Methoden sind in Python standardmäßig\n",
    "public.\n",
    "- **protected**: Das Element kann in der eigenen und in Klassen, die von dieser abgeleitet\n",
    "sind, verwendet werden. Mit dem Voranstellen eines einzelnen Unterstrichs\n",
    "wird ein Element als protected gekennzeichnet (dazu später Genaueres).\n",
    "- **private**: Das Element kann nur innerhalb der eigenen Klasse verwendet werden.\n",
    "Mit dem Voranstellen von zwei Unterstrichen wird ein Element als private gekennzeichnet.\n"
   ]
  },
  {
   "cell_type": "code",
   "execution_count": 3,
   "metadata": {},
   "outputs": [],
   "source": [
    "class Person:\n",
    "    #Konstruktor\n",
    "    def __init__(self,vorname,name):\n",
    "        #diesmal mit Instanzvariable vom Typ public \n",
    "        self.name = name\n",
    "        self.vorname = vorname\n",
    "        #public Attribute, immer verwendbar\n",
    "    #Methoden\n",
    "    def getPerson(self):\n",
    "        return self.name+\" \" +self.vorname\n",
    "    \n",
    "\n",
    "    \n",
    "p=Person('Lisa','Stein') #Instanziierung\n",
    "print(p.name)\n",
    "\n",
    "#Änderung des Namens möglich, da public\n",
    "p.name='Maier'\n",
    "print(p.name)\n",
    "\n"
   ]
  },
  {
   "cell_type": "markdown",
   "metadata": {},
   "source": [
    "**Aufgabe**\n",
    "\n",
    "Ändern Sie auch den Vornamen."
   ]
  },
  {
   "cell_type": "code",
   "execution_count": null,
   "metadata": {},
   "outputs": [],
   "source": []
  },
  {
   "cell_type": "markdown",
   "metadata": {},
   "source": [
    "In Python sind private Variable nicht wirklich privat: Die private Variable *privat*  einer Instanz *objekt* der Klasse *Klasse* ist von außen manipulierbar durch *objekt_Klasse__privat*."
   ]
  },
  {
   "cell_type": "code",
   "execution_count": 8,
   "metadata": {},
   "outputs": [],
   "source": [
    "class A():\n",
    "    def __init__(self):\n",
    "        self.__priv = \"Ich bin privat.\"\n",
    "        self._prot = \"Ich bin protected.\"\n",
    "        self.pub = \"Ich bin öffentlich.\"\n",
    "        \n",
    "x = A()\n",
    "print(x.pub)\n",
    "\n",
    "x.pub = \"Mein Wert kann geändert werden, und das ist gut so.\"\n",
    "print(x.pub)\n",
    "\n",
    "print(x._prot)\n",
    "x._prot = \"Mein Wert kann, aber sollte nicht von außen geändert werden!\"\n",
    "print(x._prot)\n",
    "\n",
    "\n",
    "\n",
    "print(x._A__priv)\n",
    "x._A__priv = \"Auch ich kann verändert werden - bitte nicht machen!\"\n",
    "print(x._A__priv)\n"
   ]
  },
  {
   "cell_type": "markdown",
   "metadata": {},
   "source": [
    "**Klassenvariable**\n",
    "\n",
    "Manchmal ist es sinnvoll Eigenschaften zu verwenden, die nicht an Instanzen einer\n",
    "Klasse gebunden sind. Ein Beispiel ist eine Variable, welche die Anzahl der angelegten\n",
    "Objekte einer Klasse zählt. Solche Klassenvariable werden gemeinsam benutzt, in dem Sinne, dass auf sie von allen Objekten (Instanzen) der Klasse zugegriffen wird. Es gibt nur eine Kopie einer Klassenvariable, und wenn irgendein Objekt eine Änderung an einer Klassenvariable vornimmt, dann spiegelt sich diese Änderung sofort auch in allen anderen Instanzen der Klasse wieder.\n"
   ]
  },
  {
   "cell_type": "code",
   "execution_count": 14,
   "metadata": {},
   "outputs": [],
   "source": [
    "class Person:\n",
    "    anzahl=0 #Klassenvariable\n",
    "    #Konstruktor\n",
    "    def __init__(self,vorname,name):\n",
    "        self.name = name\n",
    "        self.vorname = vorname\n",
    "        # Wenn diese Person erzeugt wird,\n",
    "        # traegt er/sie zur Anzahl der Personen bei\n",
    "        Person.anzahl += 1\n",
    "    \n",
    "    #Methoden\n",
    "    def getPerson(self):\n",
    "        return self.name+\" \" +self.vorname\n",
    "    \n",
    "    def wieViele(self):\n",
    "        '''Gibt die aktuelle Personenzahl aus.'''\n",
    "        if Person.anzahl == 1:\n",
    "            print('Ich bin ganz allein hier.')\n",
    "        else:\n",
    "            print('Es gibt hier %d Personen.' % Person.anzahl)"
   ]
  },
  {
   "cell_type": "code",
   "execution_count": 9,
   "metadata": {},
   "outputs": [],
   "source": [
    "p1=Person('Lisa','Stein')\n",
    "p1.wieViele()\n",
    "\n",
    "#p2=Person('Lars', 'Müller')\n",
    "#p1.wieViele()\n",
    "\n",
    "#p1.name='Maier'\n",
    "#p2.wieViele()\n"
   ]
  },
  {
   "cell_type": "markdown",
   "metadata": {},
   "source": [
    "**Bemerkung - Instanz- und Klassenvariable**\n",
    "- Klassenvariable werden durch *Klassenname.klassenvariable* verwendet, Instanvariable durch *self.instanzvariable*.\n",
    "- Jede Instanz hat eine eigene Kopie der Instanzvariable, eine Klassenvariable existiert genau einmal für die Klasse.\n",
    "- Klassenvariable werden in der Regel gleich zu Beginn des Klassenblocks\n",
    "definiert, Instanzvariable üblicherweise durch den Konstruktor.\n"
   ]
  },
  {
   "cell_type": "markdown",
   "metadata": {},
   "source": [
    "**Methoden**\n",
    "\n",
    "Eine Methode ist eine Funktion, die zu einem Objekt gehört. \n",
    "- Methoden werden in dem von *class* eingeleiteten Block definiert.\n",
    "- Methoden werden immer mit runden Klammern aufgerufen.\n",
    "\n",
    "\n",
    "**Instanzmethoden**\n",
    "\n",
    "Einer Instanzmethode  wird als erster Parameter die Objektreferenz *self* übergeben. Über den Parameter *self* hat die Methode Zugriff auf alle Eigenschaften derjenigen Instanz, aus der heraus die Methode später aufgerufen wird, z.B. *getPerson* in obigem Beispiel.\n",
    "\n",
    "\n",
    "\n"
   ]
  },
  {
   "cell_type": "code",
   "execution_count": 13,
   "metadata": {},
   "outputs": [],
   "source": [
    "import math\n",
    "class Vektor:\n",
    "    #Konstruktor\n",
    "    def __init__(self):\n",
    "        self.x= 0\n",
    "        self.y= 0 # die beiden Koordinaten werden als Variable definiert\n",
    "                    # und mit 0 initialisiert\n",
    "    \n",
    "    #jetzt kommen mehrere Methoden\n",
    "    def vorgabe(self,x,y):\n",
    "        self.x = float(x)\n",
    "        self.y = float(y)\n",
    "    \n",
    "    def eingabe(self):\n",
    "        self.x = float(input(\"Bitte die x-Komponente eingeben: \"))\n",
    "        self.y = float(input(\"Bitte die y-Komponente eingeben: \"))\n",
    "        \n",
    "    def rueckgabe(self):\n",
    "        return self.x, self.y\n",
    "        \n",
    "    def ausgabe(self):\n",
    "        if self.x == None or self.y == None: \n",
    "            print(\"Es wurde noch kein Vektor definiert!\") \n",
    "        else:\n",
    "            betrag = math.sqrt(self.x**2+self.y**2) \n",
    "            print(\"X-Komponente: \",self.x)\n",
    "            print(\"Y-Komponente: \",self.y)\n",
    "            print(\"Der Betrag ist: \",betrag)\n",
    "            \n",
    "    \n",
    "            \n",
    "    "
   ]
  },
  {
   "cell_type": "code",
   "execution_count": 12,
   "metadata": {},
   "outputs": [],
   "source": [
    "\n",
    "v=Vektor()\n",
    "#print(v.rueckgabe()) # noch keine Koordinaten\n",
    "v.vorgabe(5,3) #Definition der Koordinaten\n",
    "#v.rueckgabe() #jetzt hat v Koordinaten\n",
    "#alternativ\n",
    "#v.eingabe()\n",
    "#v.ausgabe()\n",
    "#v.vektorbetrag()\n",
    "\n"
   ]
  },
  {
   "cell_type": "markdown",
   "metadata": {},
   "source": [
    "**Aufgabe**\n",
    "\n",
    "Defineren Sie eine Methode *vektorbetrag*, die den Betrag des Vektors zurückgibt."
   ]
  },
  {
   "cell_type": "code",
   "execution_count": null,
   "metadata": {},
   "outputs": [],
   "source": [
    "\n",
    "\n",
    "\n"
   ]
  },
  {
   "cell_type": "markdown",
   "metadata": {},
   "source": [
    "**Namenskonventionen**\n",
    "\n",
    "Achtung! Datenattribute überschreiben Methodenattribute desselben Namens."
   ]
  },
  {
   "cell_type": "code",
   "execution_count": 18,
   "metadata": {},
   "outputs": [],
   "source": [
    "print(p.getPerson)\n",
    "print(p.getPerson())\n",
    "#p.getPerson='a' #Überschreiben der Methode durch ein Attribut desselben Namens\n",
    "#print(p.getPerson)\n",
    "#p.getPerson()"
   ]
  },
  {
   "cell_type": "markdown",
   "metadata": {},
   "source": [
    "Um zufällige Namenskonflikte zu vermeiden, die zu schwer auffindbaren Fehlern in großen Programmen führen, ist es sinnvoll, sich auf irgendeine Konvention zu verständigen, die das Risiko solcher Konflikte vermindert. Wir verwenden die Konvention, dass Klassennamen groß und Methodennamen klein\n",
    "geschrieben werden."
   ]
  },
  {
   "cell_type": "markdown",
   "metadata": {},
   "source": [
    "**Verwaltungsmethoden: Konstruktoren, Getter und Setter**\n",
    "\n",
    "Konstruktoren sind spezielle Methoden, die aufgerufen werden, wenn ein Objekt erzeugt wird, d.h. wenn\n",
    "für dieses Objekt Speicherplatz reserviert wird.  \n",
    "\n",
    "Der Konstruktor in Python ist die Initialisierungsmethode *\\_\\_init\\_\\_*. \n",
    "\n",
    "Der Parameter *self* ist immer der erste Variablenname in der Parameterliste des Konstruktors, er stellt eine Referenz auf das Objekt selbst dar. Konstruktoren haben keine Rückgabewerte, da sie nicht direkt aufgerufen werden.\n",
    "\n",
    "Beachten Sie die doppelten Unterstriche sowohl am Anfang als auch am Ende!"
   ]
  },
  {
   "cell_type": "code",
   "execution_count": 20,
   "metadata": {},
   "outputs": [],
   "source": [
    "class Beispiel: \n",
    "    def __init__(self): \n",
    "        print(\"Der Konstruktor wurde aufgerufen!\" ) \n",
    "    \n",
    "\n",
    "a = Beispiel() \n",
    "\n",
    "del a \n",
    "\n",
    "a \n",
    "\n"
   ]
  },
  {
   "cell_type": "markdown",
   "metadata": {},
   "source": [
    "Dieses Beispiel soll lediglich zeigen, wann der Konstruktor \n",
    "aufgerufen wird. "
   ]
  },
  {
   "cell_type": "markdown",
   "metadata": {},
   "source": [
    "**Getter und Setter**\n",
    "\n",
    "Getter (auch als Accessors bekannt) und Setter (auch bekannt als Mutators)\n",
    "werden in vielen objektorientierten Programmiersprachen verwendet, um das\n",
    "Prinzip der Datenkapselung sicherzustellen. Nach diesem Prinzip werden die\n",
    "Variable einer Klasse privatisiert, um den Code zu verbergen und zu schützen.\n",
    "Dann wird der Getter zum Abrufen der Variablenwerte und der Setter zum\n",
    "Zuweisen bzw. Ändern der Variablenwerte definiert. Für jede Variable der\n",
    "Klasse werden solche Methoden erstellt.\n",
    "\n",
    "In Python ist die Getter Methode eine Instanzmethode mit einer definierten Aufgabe. Es ist üblich, als Namen den Bezeichner *getAttributname* zu\n",
    "verwenden."
   ]
  },
  {
   "cell_type": "code",
   "execution_count": 21,
   "metadata": {},
   "outputs": [],
   "source": [
    "class Person:\n",
    "    #Konstruktor\n",
    "    def __init__(self,vorname,name):\n",
    "        self.__name = name\n",
    "        self.__vorname = vorname\n",
    "        \n",
    "    \n",
    "    #Getter Methoden\n",
    "    def getName (self):\n",
    "        return self.__name\n",
    "    def getVorname (self):\n",
    "        return self.__vorname\n",
    "\n",
    "p=Person ('Lisa','Stein')\n",
    "print(p.getName())\n",
    "print(p.getVorname())\n"
   ]
  },
  {
   "cell_type": "markdown",
   "metadata": {},
   "source": [
    "**Setter-Methode**\n",
    "\n",
    "Auch die Setter Methode ist lediglich eine Instanzmethode mit einer definierten Aufgabe. Als Bezeichner für den Setter wird in der Regel *setAttributname* verwendet."
   ]
  },
  {
   "cell_type": "code",
   "execution_count": 9,
   "metadata": {},
   "outputs": [],
   "source": [
    "class Person:\n",
    "    \n",
    "    #Konstruktor\n",
    "    def __init__(self,vorname,name,plz):\n",
    "        self.__name = name\n",
    "        self.__vorname = vorname\n",
    "        if(plz>0) and (plz<=99999):\n",
    "            self.__plz=plz\n",
    "        else:\n",
    "            print('Falscher Postleitzahlwert')\n",
    "            \n",
    "            \n",
    "        \n",
    "    #Setter Methode\n",
    "    def setPlz(self,neuePlz):\n",
    "        if(neuePlz>0) and (neuePlz<=99999):\n",
    "            self.__plz=neuePlz\n",
    "            \n",
    "   #Getter Methoden\n",
    "    def getPlz(self):\n",
    "        return self.__plz"
   ]
  },
  {
   "cell_type": "code",
   "execution_count": 24,
   "metadata": {},
   "outputs": [],
   "source": [
    "p=Person('Lisa','Stein',170101)\n",
    "\n",
    "print(p.getPlz())\n",
    "\n",
    "p.setPlz(171001)\n",
    "print(p.getPlz())"
   ]
  },
  {
   "cell_type": "markdown",
   "metadata": {},
   "source": [
    "\n",
    "Beachten Sie, dass es stattdessen auch möglich wäre, die Instanzvariable als *public* oder *protected* zu wählen. Die Setter-Methode  bietet aber den\n",
    "Vorteil einer einheitlichen Benutzerschnittstelle und schützt vor ungewollten Änderungen. In dieser Schnittstelle kann auch geprüft werden,\n",
    "ob die Änderung des Attributwertes zulässig ist. "
   ]
  },
  {
   "cell_type": "markdown",
   "metadata": {},
   "source": [
    "**Python: Property**\n",
    "    \n",
    "In Python sind auch private Instanzvariable nicht wirklch privat, daher gilt obiges Vorgehen mit Gettern und Settern als *unpythonisch*. Stattdessen arbeitet man in Python mit **property**. Der Dekorierer *@property* vereint Getter, Setter und Deleter. \n",
    "\n",
    "Der Vorteil von Properties ist, dass sehr einfach eine neue Bedingung an eine Instanzvariable eingeführt werden kann, z.B. der Wertebereich kann eingeschränkt werden. Alle Aufrufe der Klasse bleiben dann unverändert.    "
   ]
  },
  {
   "cell_type": "code",
   "execution_count": 19,
   "metadata": {},
   "outputs": [],
   "source": [
    "class Student:\n",
    "    def __init__(self, name):\n",
    "        self.__vorname = name\n",
    "\n",
    "    @property\n",
    "    def name(self):\n",
    "        print(\"Getting value...\")\n",
    "        return self.__vorname\n",
    "    \n",
    "    @name.setter\n",
    "    def name(self, value):\n",
    "        print(\"Setting value...\")\n",
    "        self.__vorname=value   \n",
    "    \n",
    "    @name.deleter   #property-name.deleter decorator\n",
    "    def name(self):\n",
    "        print('Deleting..')\n",
    "        del self.__vorname"
   ]
  },
  {
   "cell_type": "code",
   "execution_count": 25,
   "metadata": {},
   "outputs": [],
   "source": [
    "s=Student('Max')\n",
    "s.name\n"
   ]
  },
  {
   "cell_type": "code",
   "execution_count": 26,
   "metadata": {},
   "outputs": [],
   "source": [
    "# die Property kann verändert werden, als wäre es eine Variable\n",
    "# Aufruf ohne runde Klammern\n",
    "s.name='Jule'\n",
    "s.name"
   ]
  },
  {
   "cell_type": "code",
   "execution_count": 27,
   "metadata": {},
   "outputs": [],
   "source": [
    "del s.name\n",
    "s.name"
   ]
  },
  {
   "cell_type": "markdown",
   "metadata": {},
   "source": [
    "**Klassenmethoden**\n",
    "\n",
    "Eine Klassenmethode ist an die Klasse nicht an die Instanz gebunden. Auch ohne dass ein Objekt instanziiert wurde, lässt sich eine Klassenmethode aufrufen.\n",
    "\n",
    "In Python wird eine Klassenmethode durch den Dekorierer *@classmethod* definiert. Das erste Argument einer Klassenmethode ist eine Referenz auf die Klasse *cls*, d.h. das Klassenobjekt."
   ]
  },
  {
   "cell_type": "code",
   "execution_count": 24,
   "metadata": {},
   "outputs": [],
   "source": [
    "class Person:\n",
    "    anzahl=0\n",
    "    #Konstruktor\n",
    "    def __init__(self,vorname,name):\n",
    "        self.__name = name\n",
    "        self.__vorname = vorname\n",
    "        # Wenn diese Person erzeugt wird,\n",
    "        # traegt er/sie zur Bevoelkerung bei\n",
    "        Person.anzahl += 1\n",
    "    \n",
    "    #Methoden\n",
    "    @classmethod    \n",
    "    def anzahlPersonen(cls):\n",
    "        return Person.anzahl"
   ]
  },
  {
   "cell_type": "code",
   "execution_count": 28,
   "metadata": {},
   "outputs": [],
   "source": [
    "print(Person.anzahlPersonen())\n",
    "\n",
    "p1=Person('Lena','Stein')\n",
    "p2=Person('Lars', 'Müller')\n",
    "\n",
    "Person.anzahlPersonen()"
   ]
  },
  {
   "cell_type": "markdown",
   "metadata": {},
   "source": [
    "**Statische\n",
    "Methoden**\n",
    "\n",
    "Statische\n",
    "Methoden existieren unabhängig von einer bestimmten Instanz. Ein Programm kann eine statische Methode ausführen, ohne zuerst ein Objekt zu erzeugen. Statische Methoden werden mit Hilfe des Dekorators *@staticmethod* definiert. \n",
    "\n",
    "Statische Methoden benötigen keinen *self* ode *cls*-Parameter. Der erste Parameter einer statischen Methode kann ein beliebiger Parameter sein. Die Methode ist also weder an die Klasse noch an eine Instanz gebunden. \n",
    " Der Zugriff auf eine statische Methode erfolgt entweder durch die Klasse oder durch die Instanz.\n",
    " \n",
    " Das folgende Beispiel würde sich auch mit einer Klassenmethode realisieren lassen. Dann muss aber der Parameter *cls* noch angegeben werden. Durch die Nutzung der statische Methode spart man also lediglich diese Parameterangabe. \n",
    "\n"
   ]
  },
  {
   "cell_type": "code",
   "execution_count": 27,
   "metadata": {},
   "outputs": [],
   "source": [
    "class Person:\n",
    "    anzahl=0\n",
    "    #Konstruktor\n",
    "    def __init__(self,vorname,name):\n",
    "        self.__name = name\n",
    "        self.__vorname = vorname\n",
    "        # Wenn diese Person erzeugt wird,\n",
    "        # traegt er/sie zur Bevoelkerung bei\n",
    "        Person.anzahl += 1\n",
    "    \n",
    "    #Methoden\n",
    "    @staticmethod    \n",
    "    def anzahlPersonen():\n",
    "        return Person.anzahl+Mensch.anzahl\n",
    "\n",
    "class Mensch:\n",
    "    anzahl=0\n",
    "    #Konstruktor\n",
    "    def __init__(self,id):\n",
    "        self.__id = id\n",
    "        # Wenn diese Person erzeugt wird,\n",
    "        # traegt er/sie zur Bevoelkerung bei\n",
    "        Mensch.anzahl += 1\n",
    "    \n",
    "    #Methoden\n",
    "    @staticmethod    \n",
    "    def anzahlPersonen():\n",
    "        return Mensch.anzahl + Person.anzahl  "
   ]
  },
  {
   "cell_type": "code",
   "execution_count": 29,
   "metadata": {},
   "outputs": [],
   "source": [
    "#print(Mensch.anzahlPersonen())\n",
    "\n",
    "#print(Person.anzahlPersonen())\n",
    "\n",
    "p1=Person('Lisa','Stein')\n",
    "p2=Person('Lars', 'Müller')\n",
    "p3=Mensch(111)\n",
    "#print(Mensch.anzahlPersonen())\n",
    "#print(Person.anzahlPersonen())\n"
   ]
  },
  {
   "cell_type": "code",
   "execution_count": null,
   "metadata": {},
   "outputs": [],
   "source": []
  }
 ],
 "metadata": {
  "kernelspec": {
   "display_name": "Python 3",
   "language": "python",
   "name": "python3"
  },
  "language_info": {
   "codemirror_mode": {
    "name": "ipython",
    "version": 3
   },
   "file_extension": ".py",
   "mimetype": "text/x-python",
   "name": "python",
   "nbconvert_exporter": "python",
   "pygments_lexer": "ipython3",
   "version": "3.8.5"
  }
 },
 "nbformat": 4,
 "nbformat_minor": 2
}
